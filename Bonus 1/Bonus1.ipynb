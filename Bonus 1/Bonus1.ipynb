{
 "cells": [
  {
   "cell_type": "markdown",
   "metadata": {},
   "source": [
    "# Bonus 1: Numerical Optimization for Logistic Regression.\n",
    "\n",
    "### Name: Zubair Shaikh\n"
   ]
  },
  {
   "cell_type": "markdown",
   "metadata": {},
   "source": [
    "## 0. You will do the following:\n",
    "\n",
    "1. Read the lecture note: [click here](https://github.com/wangshusen/DeepLearning/blob/master/LectureNotes/Logistic/paper/logistic.pdf)\n",
    "\n",
    "2. Read, complete, and run my code.\n",
    "\n",
    "3. **Implement mini-batch SGD** and evaluate the performance. (1 bonus point.)\n",
    "\n",
    "4. Convert the .IPYNB file to .HTML file.\n",
    "\n",
    "    * The HTML file must contain **the code** and **the output after execution**.\n",
    "    \n",
    "5. Upload this .HTML file to your Google Drive, Dropbox, or your Github repo.\n",
    "\n",
    "6. Submit the link to this .HTML file to Canvas.\n",
    "\n",
    "    * Example: https://github.com/wangshusen/CS583-2019F/blob/master/homework/Bonus1/Bonus1.html\n",
    "\n",
    "\n",
    "## Grading criteria:\n",
    "\n",
    "1. When computing the ```gradient``` and ```objective function value``` using a batch of samples, use **matrix-vector multiplication** rather than a FOR LOOP of **vector-vector multiplications**.\n",
    "\n",
    "2. Plot ```objective function value``` against ```epochs```. In the plot, compare GD, SGD, and MB-SGD (with $b=8$ and $b=64$). The plot must look reasonable."
   ]
  },
  {
   "cell_type": "code",
   "execution_count": 0,
   "metadata": {
    "pycharm": {
     "is_executing": false
    }
   },
   "outputs": [],
   "source": []
  },
  {
   "cell_type": "markdown",
   "metadata": {},
   "source": [
    "# 1. Data processing\n",
    "\n",
    "- Download the Diabete dataset from https://www.csie.ntu.edu.tw/~cjlin/libsvmtools/datasets/binary/diabetes\n",
    "- Load the data using sklearn.\n",
    "- Preprocess the data."
   ]
  },
  {
   "cell_type": "markdown",
   "metadata": {},
   "source": [
    "## 1.1. Load the data"
   ]
  },
  {
   "cell_type": "code",
   "execution_count": 1,
   "metadata": {
    "pycharm": {
     "is_executing": false
    }
   },
   "outputs": [
    {
     "name": "stdout",
     "output_type": "stream",
     "text": [
      "Shape of x: (768, 8)\n",
      "Shape of y: (768,)\n"
     ]
    }
   ],
   "source": [
    "from sklearn import datasets\n",
    "import numpy\n",
    "\n",
    "x_sparse, y = datasets.load_svmlight_file('diabetes')\n",
    "x = x_sparse.todense()\n",
    "\n",
    "print('Shape of x: ' + str(x.shape))\n",
    "print('Shape of y: ' + str(y.shape))"
   ]
  },
  {
   "cell_type": "markdown",
   "metadata": {},
   "source": [
    "## 1.2. Partition to training and test sets"
   ]
  },
  {
   "cell_type": "code",
   "execution_count": 2,
   "metadata": {
    "pycharm": {
     "is_executing": false
    }
   },
   "outputs": [
    {
     "name": "stdout",
     "output_type": "stream",
     "text": [
      "Shape of x_train: (576, 8)\n",
      "Shape of x_test: (192, 8)\n",
      "Shape of y_train: (576, 1)\n",
      "Shape of y_test: (192, 1)\n"
     ]
    }
   ],
   "source": [
    "# partition the data to training and test sets\n",
    "n = x.shape[0]\n",
    "n_train = int(numpy.ceil(n * 0.75))\n",
    "n_test = n - n_train\n",
    "\n",
    "rand_indices = numpy.random.permutation(n)\n",
    "train_indices = rand_indices[0:n_train]\n",
    "test_indices = rand_indices[n_train:n]\n",
    "\n",
    "x_train = x[train_indices, :]\n",
    "x_test = x[test_indices, :]\n",
    "y_train = y[train_indices].reshape(n_train, 1)\n",
    "y_test = y[test_indices].reshape(n_test, 1)\n",
    "\n",
    "print('Shape of x_train: ' + str(x_train.shape))\n",
    "print('Shape of x_test: ' + str(x_test.shape))\n",
    "print('Shape of y_train: ' + str(y_train.shape))\n",
    "print('Shape of y_test: ' + str(y_test.shape))"
   ]
  },
  {
   "cell_type": "markdown",
   "metadata": {},
   "source": [
    "## 1.3. Feature scaling"
   ]
  },
  {
   "cell_type": "markdown",
   "metadata": {},
   "source": [
    "Use the standardization to trainsform both training and test features"
   ]
  },
  {
   "cell_type": "code",
   "execution_count": 3,
   "metadata": {
    "pycharm": {
     "is_executing": false
    }
   },
   "outputs": [
    {
     "name": "stdout",
     "output_type": "stream",
     "text": [
      "test mean = \n",
      "[[-0.11393082  0.07153568  0.00589515  0.21194502  0.21201873  0.12042627\n",
      "   0.04350233 -0.06957708]]\n",
      "test std = \n",
      "[[0.92123261 0.94768289 0.91876841 1.08667274 1.23734842 0.99184404\n",
      "  0.89431527 0.9467768 ]]\n"
     ]
    }
   ],
   "source": [
    "# Standardization\n",
    "import numpy\n",
    "\n",
    "# calculate mu and sig using the training set\n",
    "d = x_train.shape[1]\n",
    "mu = numpy.mean(x_train, axis=0).reshape(1, d)\n",
    "sig = numpy.std(x_train, axis=0).reshape(1, d)\n",
    "\n",
    "# transform the training features\n",
    "x_train = (x_train - mu) / (sig + 1E-6)\n",
    "\n",
    "# transform the test features\n",
    "x_test = (x_test - mu) / (sig + 1E-6)\n",
    "\n",
    "print('test mean = ')\n",
    "print(numpy.mean(x_test, axis=0))\n",
    "\n",
    "print('test std = ')\n",
    "print(numpy.std(x_test, axis=0))"
   ]
  },
  {
   "cell_type": "markdown",
   "metadata": {},
   "source": [
    "## 1.4. Add a dimension of all ones"
   ]
  },
  {
   "cell_type": "code",
   "execution_count": 4,
   "metadata": {
    "pycharm": {
     "is_executing": false
    }
   },
   "outputs": [
    {
     "name": "stdout",
     "output_type": "stream",
     "text": [
      "Shape of x_train: (576, 9)\n",
      "Shape of x_test: (192, 9)\n"
     ]
    }
   ],
   "source": [
    "n_train, d = x_train.shape\n",
    "x_train = numpy.concatenate((x_train, numpy.ones((n_train, 1))), axis=1)\n",
    "\n",
    "n_test, d = x_test.shape\n",
    "x_test = numpy.concatenate((x_test, numpy.ones((n_test, 1))), axis=1)\n",
    "\n",
    "print('Shape of x_train: ' + str(x_train.shape))\n",
    "print('Shape of x_test: ' + str(x_test.shape))"
   ]
  },
  {
   "cell_type": "markdown",
   "metadata": {},
   "source": [
    "# 2. Logistic regression model\n",
    "\n",
    "The objective function is $Q (w; X, y) = \\frac{1}{n} \\sum_{i=1}^n \\log \\Big( 1 + \\exp \\big( - y_i x_i^T w \\big) \\Big) + \\frac{\\lambda}{2} \\| w \\|_2^2 $."
   ]
  },
  {
   "cell_type": "code",
   "execution_count": 5,
   "metadata": {
    "pycharm": {
     "is_executing": false
    }
   },
   "outputs": [],
   "source": [
    "# Calculate the objective function value\n",
    "# Inputs:\n",
    "#     w: d-by-1 matrix\n",
    "#     x: n-by-d matrix\n",
    "#     y: n-by-1 matrix\n",
    "#     lam: scalar, the regularization parameter\n",
    "# Return:\n",
    "#     objective function value (scalar)\n",
    "def objective(w, x, y, lam):\n",
    "    n, d = x.shape\n",
    "    yx = numpy.multiply(y, x) # n-by-d matrix\n",
    "    yxw = numpy.dot(yx, w) # n-by-1 matrix\n",
    "    vec1 = numpy.exp(-yxw) # n-by-1 matrix\n",
    "    vec2 = numpy.log(1 + vec1) # n-by-1 matrix\n",
    "    loss = numpy.mean(vec2) # scalar\n",
    "    reg = lam / 2 * numpy.sum(w * w) # scalar\n",
    "    return loss + reg\n",
    "    "
   ]
  },
  {
   "cell_type": "code",
   "execution_count": 6,
   "metadata": {
    "pycharm": {
     "is_executing": false
    }
   },
   "outputs": [
    {
     "name": "stdout",
     "output_type": "stream",
     "text": [
      "Initial objective function value = 0.6931471805599453\n"
     ]
    }
   ],
   "source": [
    "# initialize w\n",
    "d = x_train.shape[1]\n",
    "w = numpy.zeros((d, 1))\n",
    "\n",
    "# evaluate the objective function value at w\n",
    "lam = 1E-6\n",
    "objval0 = objective(w, x_train, y_train, lam)\n",
    "print('Initial objective function value = ' + str(objval0))"
   ]
  },
  {
   "cell_type": "markdown",
   "metadata": {},
   "source": [
    "# 3. Numerical optimization"
   ]
  },
  {
   "cell_type": "markdown",
   "metadata": {},
   "source": [
    "## 3.1. Gradient descent\n"
   ]
  },
  {
   "cell_type": "markdown",
   "metadata": {},
   "source": [
    "The gradient at $w$ is $g = - \\frac{1}{n} \\sum_{i=1}^n \\frac{y_i x_i }{1 + \\exp ( y_i x_i^T w)} + \\lambda w$"
   ]
  },
  {
   "cell_type": "code",
   "execution_count": 7,
   "metadata": {
    "pycharm": {
     "is_executing": false
    }
   },
   "outputs": [],
   "source": [
    "# Calculate the gradient\n",
    "# Inputs:\n",
    "#     w: d-by-1 matrix\n",
    "#     x: n-by-d matrix\n",
    "#     y: n-by-1 matrix\n",
    "#     lam: scalar, the regularization parameter\n",
    "# Return:\n",
    "#     g: g: d-by-1 matrix, full gradient\n",
    "def gradient(w, x, y, lam):\n",
    "    n, d = x.shape\n",
    "    yx = numpy.multiply(y, x) # n-by-d matrix\n",
    "    yxw = numpy.dot(yx, w) # n-by-1 matrix\n",
    "    vec1 = numpy.exp(yxw) # n-by-1 matrix\n",
    "    vec2 = numpy.divide(yx, 1+vec1) # n-by-d matrix\n",
    "    vec3 = -numpy.mean(vec2, axis=0).reshape(d, 1) # d-by-1 matrix\n",
    "    g = vec3 + lam * w\n",
    "    return g"
   ]
  },
  {
   "cell_type": "code",
   "execution_count": 8,
   "metadata": {
    "pycharm": {
     "is_executing": false
    }
   },
   "outputs": [],
   "source": [
    "# Gradient descent for solving logistic regression\n",
    "# Inputs:\n",
    "#     x: n-by-d matrix\n",
    "#     y: n-by-1 matrix\n",
    "#     lam: scalar, the regularization parameter\n",
    "#     stepsize: scalar\n",
    "#     max_iter: integer, the maximal iterations\n",
    "#     w: d-by-1 matrix, initialization of w\n",
    "# Return:\n",
    "#     w: d-by-1 matrix, the solution\n",
    "#     objvals: a record of each iteration's objective value\n",
    "def grad_descent(x, y, lam, stepsize, max_iter=100, w=None):\n",
    "    n, d = x.shape\n",
    "    objvals = numpy.zeros(max_iter) # store the objective values\n",
    "    if w is None:\n",
    "        w = numpy.zeros((d, 1)) # zero initialization\n",
    "    \n",
    "    for t in range(max_iter):\n",
    "        objval = objective(w, x, y, lam)\n",
    "        objvals[t] = objval\n",
    "        print('Objective value at t=' + str(t) + ' is ' + str(objval))\n",
    "        g = gradient(w, x, y, lam)\n",
    "        w -= stepsize * g\n",
    "    \n",
    "    return w, objvals"
   ]
  },
  {
   "cell_type": "markdown",
   "metadata": {},
   "source": [
    "Run gradient descent."
   ]
  },
  {
   "cell_type": "code",
   "execution_count": 9,
   "metadata": {
    "pycharm": {
     "is_executing": false
    }
   },
   "outputs": [
    {
     "name": "stdout",
     "output_type": "stream",
     "text": [
      "Objective value at t=0 is 0.6931471805599453\n",
      "Objective value at t=1 is 0.5918066457781869\n",
      "Objective value at t=2 is 0.5498413401038897\n",
      "Objective value at t=3 is 0.527037129433309\n",
      "Objective value at t=4 is 0.5126461950573542\n",
      "Objective value at t=5 is 0.5027822393911879\n",
      "Objective value at t=6 is 0.4956713681187366\n",
      "Objective value at t=7 is 0.49036917275503056\n",
      "Objective value at t=8 is 0.486318076221013\n",
      "Objective value at t=9 is 0.4831645921597344\n",
      "Objective value at t=10 is 0.48067297946813164\n",
      "Objective value at t=11 is 0.4786800138736254\n",
      "Objective value at t=12 is 0.47706935851400883\n",
      "Objective value at t=13 is 0.475756142624706\n",
      "Objective value at t=14 is 0.474677243805925\n",
      "Objective value at t=15 is 0.47378493820247114\n",
      "Objective value at t=16 is 0.47304262821609316\n",
      "Objective value at t=17 is 0.4724218974155765\n",
      "Objective value at t=18 is 0.47190043794249176\n",
      "Objective value at t=19 is 0.4714605654395268\n",
      "Objective value at t=20 is 0.47108813785651615\n",
      "Objective value at t=21 is 0.4707717569656719\n",
      "Objective value at t=22 is 0.47050217099323627\n",
      "Objective value at t=23 is 0.4702718224277032\n",
      "Objective value at t=24 is 0.4700745020289432\n",
      "Objective value at t=25 is 0.4699050814814475\n",
      "Objective value at t=26 is 0.46975930494469026\n",
      "Objective value at t=27 is 0.4696336251732503\n",
      "Objective value at t=28 is 0.46952507369104096\n",
      "Objective value at t=29 is 0.46943115721837386\n",
      "Objective value at t=30 is 0.46934977450607923\n",
      "Objective value at t=31 is 0.46927914915508856\n",
      "Objective value at t=32 is 0.46921777504772605\n",
      "Objective value at t=33 is 0.469164371795351\n",
      "Objective value at t=34 is 0.46911784819045327\n",
      "Objective value at t=35 is 0.46907727209237987\n",
      "Objective value at t=36 is 0.46904184551199457\n",
      "Objective value at t=37 is 0.4690108839186452\n",
      "Objective value at t=38 is 0.4689837989923783\n",
      "Objective value at t=39 is 0.46896008419969315\n",
      "Objective value at t=40 is 0.4689393026928389\n",
      "Objective value at t=41 is 0.46892107712856024\n",
      "Objective value at t=42 is 0.46890508107822315\n",
      "Objective value at t=43 is 0.46889103176180225\n",
      "Objective value at t=44 is 0.4688786838867123\n",
      "Objective value at t=45 is 0.4688678244114724\n",
      "Objective value at t=46 is 0.46885826808573017\n",
      "Objective value at t=47 is 0.4688498536437461\n",
      "Objective value at t=48 is 0.4688424405493\n",
      "Objective value at t=49 is 0.46883590620702303\n",
      "Objective value at t=50 is 0.4688301435691628\n",
      "Objective value at t=51 is 0.4688250590783148\n",
      "Objective value at t=52 is 0.46882057089617957\n",
      "Objective value at t=53 is 0.46881660737630443\n",
      "Objective value at t=54 is 0.4688131057453319\n",
      "Objective value at t=55 is 0.46881001096274727\n",
      "Objective value at t=56 is 0.46880727473369566\n",
      "Objective value at t=57 is 0.4688048546532695\n",
      "Objective value at t=58 is 0.4688027134638888\n",
      "Objective value at t=59 is 0.4688008184101033\n",
      "Objective value at t=60 is 0.46879914067744116\n",
      "Objective value at t=61 is 0.46879765490385145\n",
      "Objective value at t=62 is 0.4687963387539391\n",
      "Objective value at t=63 is 0.4687951725475703\n",
      "Objective value at t=64 is 0.4687941389356183\n",
      "Objective value at t=65 is 0.4687932226166215\n",
      "Objective value at t=66 is 0.4687924100889919\n",
      "Objective value at t=67 is 0.4687916894341384\n",
      "Objective value at t=68 is 0.468791050126509\n",
      "Objective value at t=69 is 0.46879048286709063\n",
      "Objective value at t=70 is 0.46878997943736445\n",
      "Objective value at t=71 is 0.46878953257112516\n",
      "Objective value at t=72 is 0.46878913584190274\n",
      "Objective value at t=73 is 0.46878878356402837\n",
      "Objective value at t=74 is 0.46878847070564195\n",
      "Objective value at t=75 is 0.46878819281215406\n",
      "Objective value at t=76 is 0.46878794593887235\n",
      "Objective value at t=77 is 0.4687877265916623\n",
      "Objective value at t=78 is 0.4687875316746601\n",
      "Objective value at t=79 is 0.4687873584441766\n",
      "Objective value at t=80 is 0.46878720446804106\n",
      "Objective value at t=81 is 0.46878706758972727\n",
      "Objective value at t=82 is 0.4687869458966862\n",
      "Objective value at t=83 is 0.4687868376923799\n",
      "Objective value at t=84 is 0.4687867414715764\n",
      "Objective value at t=85 is 0.46878665589851465\n",
      "Objective value at t=86 is 0.46878657978760147\n",
      "Objective value at t=87 is 0.4687865120863411\n",
      "Objective value at t=88 is 0.4687864518602309\n",
      "Objective value at t=89 is 0.46878639827939783\n",
      "Objective value at t=90 is 0.46878635060676704\n",
      "Objective value at t=91 is 0.468786308187586\n",
      "Objective value at t=92 is 0.46878627044014615\n",
      "Objective value at t=93 is 0.46878623684756227\n",
      "Objective value at t=94 is 0.4687862069504885\n",
      "Objective value at t=95 is 0.4687861803406605\n",
      "Objective value at t=96 is 0.4687861566551717\n",
      "Objective value at t=97 is 0.4687861355713958\n",
      "Objective value at t=98 is 0.46878611680248455\n",
      "Objective value at t=99 is 0.46878610009337257\n"
     ]
    }
   ],
   "source": [
    "lam = 1E-6\n",
    "stepsize = 1.0\n",
    "w, objvals_gd = grad_descent(x_train, y_train, lam, stepsize)"
   ]
  },
  {
   "cell_type": "markdown",
   "metadata": {},
   "source": [
    "## 3.2. Stochastic gradient descent (SGD)\n",
    "\n",
    "Define $Q_i (w) = \\log \\Big( 1 + \\exp \\big( - y_i x_i^T w \\big) \\Big) + \\frac{\\lambda}{2} \\| w \\|_2^2 $.\n",
    "\n",
    "The stochastic gradient at $w$ is $g_i = \\frac{\\partial Q_i }{ \\partial w} = -\\frac{y_i x_i }{1 + \\exp ( y_i x_i^T w)} + \\lambda w$."
   ]
  },
  {
   "cell_type": "code",
   "execution_count": 10,
   "metadata": {
    "pycharm": {
     "is_executing": false
    }
   },
   "outputs": [],
   "source": [
    "# Calculate the objective Q_i and the gradient of Q_i\n",
    "# Inputs:\n",
    "#     w: d-by-1 matrix\n",
    "#     xi: 1-by-d matrix\n",
    "#     yi: scalar\n",
    "#     lam: scalar, the regularization parameter\n",
    "# Return:\n",
    "#     obj: scalar, the objective Q_i\n",
    "#     g: d-by-1 matrix, gradient of Q_i\n",
    "def stochastic_objective_gradient(w, xi, yi, lam):\n",
    "    d = xi.shape[0]\n",
    "    yx = yi * xi # 1-by-d matrix\n",
    "    yxw = float(numpy.dot(yx, w)) # scalar\n",
    "    \n",
    "    # calculate objective function Q_i\n",
    "    loss = numpy.log(1 + numpy.exp(-yxw)) # scalar\n",
    "    reg = lam / 2 * numpy.sum(w * w) # scalar\n",
    "    obj = loss + reg\n",
    "    \n",
    "    # calculate stochastic gradient\n",
    "    g_loss = -yx.T / (1 + numpy.exp(yxw)) # d-by-1 matrix\n",
    "    g = g_loss + lam * w # d-by-1 matrix\n",
    "    \n",
    "    return obj, g"
   ]
  },
  {
   "cell_type": "code",
   "execution_count": 11,
   "metadata": {
    "pycharm": {
     "is_executing": false
    }
   },
   "outputs": [],
   "source": [
    "# SGD for solving logistic regression\n",
    "# Inputs:\n",
    "#     x: n-by-d matrix\n",
    "#     y: n-by-1 matrix\n",
    "#     lam: scalar, the regularization parameter\n",
    "#     stepsize: scalar\n",
    "#     max_epoch: integer, the maximal epochs\n",
    "#     w: d-by-1 matrix, initialization of w\n",
    "# Return:\n",
    "#     w: the solution\n",
    "#     objvals: record of each iteration's objective value\n",
    "def sgd(x, y, lam, stepsize, max_epoch=100, w=None):\n",
    "    n, d = x.shape\n",
    "    objvals = numpy.zeros(max_epoch) # store the objective values\n",
    "    if w is None:\n",
    "        w = numpy.zeros((d, 1)) # zero initialization\n",
    "    \n",
    "    for t in range(max_epoch):\n",
    "        # randomly shuffle the samples\n",
    "        rand_indices = numpy.random.permutation(n)\n",
    "        x_rand = x[rand_indices, :]\n",
    "        y_rand = y[rand_indices, :]\n",
    "        \n",
    "        objval = 0 # accumulate the objective values\n",
    "        for i in range(n):\n",
    "            xi = x_rand[i, :] # 1-by-d matrix\n",
    "            yi = float(y_rand[i, :]) # scalar\n",
    "            obj, g = stochastic_objective_gradient(w, xi, yi, lam)\n",
    "            objval += obj\n",
    "            w -= stepsize * g\n",
    "        \n",
    "        stepsize *= 0.9 # decrease step size\n",
    "        objval /= n\n",
    "        objvals[t] = objval\n",
    "        print('Objective value at epoch t=' + str(t) + ' is ' + str(objval))\n",
    "    \n",
    "    return w, objvals"
   ]
  },
  {
   "cell_type": "markdown",
   "metadata": {},
   "source": [
    "Run SGD."
   ]
  },
  {
   "cell_type": "code",
   "execution_count": 12,
   "metadata": {
    "pycharm": {
     "is_executing": false
    }
   },
   "outputs": [
    {
     "name": "stdout",
     "output_type": "stream",
     "text": [
      "Objective value at epoch t=0 is 0.5377410909198924\n",
      "Objective value at epoch t=1 is 0.5208290986567331\n",
      "Objective value at epoch t=2 is 0.5177444623039134\n",
      "Objective value at epoch t=3 is 0.5008816758236514\n",
      "Objective value at epoch t=4 is 0.4996004268308657\n",
      "Objective value at epoch t=5 is 0.5017941258742957\n",
      "Objective value at epoch t=6 is 0.5045303008826981\n",
      "Objective value at epoch t=7 is 0.49777160953847677\n",
      "Objective value at epoch t=8 is 0.4949275903686962\n",
      "Objective value at epoch t=9 is 0.49175788594418496\n",
      "Objective value at epoch t=10 is 0.4891214822207922\n",
      "Objective value at epoch t=11 is 0.4844337280636651\n",
      "Objective value at epoch t=12 is 0.48790285468631606\n",
      "Objective value at epoch t=13 is 0.4825514638161727\n",
      "Objective value at epoch t=14 is 0.4840062889803869\n",
      "Objective value at epoch t=15 is 0.48288878868005863\n",
      "Objective value at epoch t=16 is 0.47919949389743327\n",
      "Objective value at epoch t=17 is 0.479448866863517\n",
      "Objective value at epoch t=18 is 0.4783675403865849\n",
      "Objective value at epoch t=19 is 0.4781921785168446\n",
      "Objective value at epoch t=20 is 0.47665449719112324\n",
      "Objective value at epoch t=21 is 0.4749197327619917\n",
      "Objective value at epoch t=22 is 0.475235334658472\n",
      "Objective value at epoch t=23 is 0.4751199211003931\n",
      "Objective value at epoch t=24 is 0.4744386500478481\n",
      "Objective value at epoch t=25 is 0.47324411494122287\n",
      "Objective value at epoch t=26 is 0.4732714139336516\n",
      "Objective value at epoch t=27 is 0.4730579447885478\n",
      "Objective value at epoch t=28 is 0.472701076963962\n",
      "Objective value at epoch t=29 is 0.4718878898508263\n",
      "Objective value at epoch t=30 is 0.47192305437838833\n",
      "Objective value at epoch t=31 is 0.4714698980118318\n",
      "Objective value at epoch t=32 is 0.471109972232797\n",
      "Objective value at epoch t=33 is 0.47108428389385004\n",
      "Objective value at epoch t=34 is 0.4707853804648068\n",
      "Objective value at epoch t=35 is 0.4706552011737996\n",
      "Objective value at epoch t=36 is 0.4704934137186817\n",
      "Objective value at epoch t=37 is 0.47031975377752594\n",
      "Objective value at epoch t=38 is 0.47013085377913466\n",
      "Objective value at epoch t=39 is 0.47001404290748666\n",
      "Objective value at epoch t=40 is 0.4698551725260902\n",
      "Objective value at epoch t=41 is 0.469789467482657\n",
      "Objective value at epoch t=42 is 0.4696802283219282\n",
      "Objective value at epoch t=43 is 0.46959677589335047\n",
      "Objective value at epoch t=44 is 0.46952234665552495\n",
      "Objective value at epoch t=45 is 0.469436190923475\n",
      "Objective value at epoch t=46 is 0.4693820177726894\n",
      "Objective value at epoch t=47 is 0.4693225866477894\n",
      "Objective value at epoch t=48 is 0.4692706546068391\n",
      "Objective value at epoch t=49 is 0.469220238519173\n",
      "Objective value at epoch t=50 is 0.46918034813209275\n",
      "Objective value at epoch t=51 is 0.4691393834567539\n",
      "Objective value at epoch t=52 is 0.46910441770133104\n",
      "Objective value at epoch t=53 is 0.46907343784415456\n",
      "Objective value at epoch t=54 is 0.4690439426514426\n",
      "Objective value at epoch t=55 is 0.46901893196082534\n",
      "Objective value at epoch t=56 is 0.46899467537174505\n",
      "Objective value at epoch t=57 is 0.4689745612700675\n",
      "Objective value at epoch t=58 is 0.46895570221675087\n",
      "Objective value at epoch t=59 is 0.4689386641550361\n",
      "Objective value at epoch t=60 is 0.46892351247002373\n",
      "Objective value at epoch t=61 is 0.46891024927767766\n",
      "Objective value at epoch t=62 is 0.4688976205501749\n",
      "Objective value at epoch t=63 is 0.4688865716259943\n",
      "Objective value at epoch t=64 is 0.46887651774294564\n",
      "Objective value at epoch t=65 is 0.4688675686163361\n",
      "Objective value at epoch t=66 is 0.4688594717102626\n",
      "Objective value at epoch t=67 is 0.4688521660675944\n",
      "Objective value at epoch t=68 is 0.468845597108441\n",
      "Objective value at epoch t=69 is 0.4688396665573966\n",
      "Objective value at epoch t=70 is 0.46883431472107046\n",
      "Objective value at epoch t=71 is 0.46882953987174836\n",
      "Objective value at epoch t=72 is 0.4688252195171707\n",
      "Objective value at epoch t=73 is 0.46882128633975423\n",
      "Objective value at epoch t=74 is 0.468817837742032\n",
      "Objective value at epoch t=75 is 0.4688146975465647\n",
      "Objective value at epoch t=76 is 0.4688118554131074\n",
      "Objective value at epoch t=77 is 0.46880930728811404\n",
      "Objective value at epoch t=78 is 0.46880701073104053\n",
      "Objective value at epoch t=79 is 0.4688049464555771\n",
      "Objective value at epoch t=80 is 0.4688030738181739\n",
      "Objective value at epoch t=81 is 0.46880141068838505\n",
      "Objective value at epoch t=82 is 0.4687999013668387\n",
      "Objective value at epoch t=83 is 0.46879854512273156\n",
      "Objective value at epoch t=84 is 0.46879732407767477\n",
      "Objective value at epoch t=85 is 0.46879622445353214\n",
      "Objective value at epoch t=86 is 0.468795238124761\n",
      "Objective value at epoch t=87 is 0.4687943476912785\n",
      "Objective value at epoch t=88 is 0.4687935443238098\n",
      "Objective value at epoch t=89 is 0.4687928258936018\n",
      "Objective value at epoch t=90 is 0.4687921766568497\n",
      "Objective value at epoch t=91 is 0.4687915927945533\n",
      "Objective value at epoch t=92 is 0.4687910666855654\n",
      "Objective value at epoch t=93 is 0.4687905939595397\n",
      "Objective value at epoch t=94 is 0.46879016862484413\n",
      "Objective value at epoch t=95 is 0.4687897852655751\n",
      "Objective value at epoch t=96 is 0.4687894404091612\n",
      "Objective value at epoch t=97 is 0.4687891300605089\n",
      "Objective value at epoch t=98 is 0.46878885078448274\n",
      "Objective value at epoch t=99 is 0.4687885993284302\n"
     ]
    }
   ],
   "source": [
    "lam = 1E-6\n",
    "stepsize = 0.1\n",
    "w, objvals_sgd = sgd(x_train, y_train, lam, stepsize)"
   ]
  },
  {
   "cell_type": "markdown",
   "metadata": {},
   "source": [
    "# 4. Compare GD with SGD\n",
    "\n",
    "Plot objective function values against epochs."
   ]
  },
  {
   "cell_type": "code",
   "execution_count": 13,
   "metadata": {
    "pycharm": {
     "is_executing": false
    }
   },
   "outputs": [
    {
     "data": {
      "image/png": "[encoded data removed]",
      "text/plain": [
       "<Figure size 432x288 with 1 Axes>"
      ]
     },
     "metadata": {
      "needs_background": "light"
     },
     "output_type": "display_data"
    }
   ],
   "source": [
    "import matplotlib.pyplot as plt\n",
    "%matplotlib inline\n",
    "\n",
    "fig = plt.figure(figsize=(6, 4))\n",
    "\n",
    "epochs_gd = range(len(objvals_gd))\n",
    "epochs_sgd = range(len(objvals_sgd))\n",
    "\n",
    "line0, = plt.plot(epochs_gd, objvals_gd, '--b', LineWidth=4)\n",
    "line1, = plt.plot(epochs_sgd, objvals_sgd, '-r', LineWidth=2)\n",
    "plt.xlabel('Epochs', FontSize=20)\n",
    "plt.ylabel('Objective Value', FontSize=20)\n",
    "plt.xticks(FontSize=16)\n",
    "plt.yticks(FontSize=16)\n",
    "plt.legend([line0, line1], ['GD', 'SGD'], fontsize=20)\n",
    "plt.tight_layout()\n",
    "plt.show()\n",
    "fig.savefig('compare_gd_sgd.pdf', format='pdf', dpi=1200)"
   ]
  },
  {
   "cell_type": "markdown",
   "metadata": {},
   "source": [
    "# 5. Prediction"
   ]
  },
  {
   "cell_type": "code",
   "execution_count": 14,
   "metadata": {
    "pycharm": {
     "is_executing": false
    }
   },
   "outputs": [],
   "source": [
    "# Predict class label\n",
    "# Inputs:\n",
    "#     w: d-by-1 matrix\n",
    "#     X: m-by-d matrix\n",
    "# Return:\n",
    "#     f: m-by-1 matrix, the predictions\n",
    "def predict(w, X):\n",
    "    xw = numpy.dot(X, w)\n",
    "    f = numpy.sign(xw)\n",
    "    return f"
   ]
  },
  {
   "cell_type": "code",
   "execution_count": 15,
   "metadata": {
    "pycharm": {
     "is_executing": false
    }
   },
   "outputs": [
    {
     "name": "stdout",
     "output_type": "stream",
     "text": [
      "Training classification error is 0.21354166666666666\n"
     ]
    }
   ],
   "source": [
    "# evaluate training error\n",
    "f_train = predict(w, x_train)\n",
    "diff = numpy.abs(f_train - y_train) / 2\n",
    "error_train = numpy.mean(diff)\n",
    "print('Training classification error is ' + str(error_train))"
   ]
  },
  {
   "cell_type": "code",
   "execution_count": 16,
   "metadata": {
    "pycharm": {
     "is_executing": false
    }
   },
   "outputs": [
    {
     "name": "stdout",
     "output_type": "stream",
     "text": [
      "Test classification error is 0.24479166666666666\n"
     ]
    }
   ],
   "source": [
    "# evaluate test error\n",
    "f_test = predict(w, x_test)\n",
    "diff = numpy.abs(f_test - y_test) / 2\n",
    "error_test = numpy.mean(diff)\n",
    "print('Test classification error is ' + str(error_test))"
   ]
  },
  {
   "cell_type": "markdown",
   "metadata": {},
   "source": [
    "# 6. Mini-batch SGD (fill the code)\n",
    "\n"
   ]
  },
  {
   "cell_type": "markdown",
   "metadata": {},
   "source": [
    "## 6.1. Compute the objective $Q_I$ and its gradient using a batch of samples\n",
    "\n",
    "Define $Q_I (w) = \\frac{1}{b} \\sum_{i \\in I} \\log \\Big( 1 + \\exp \\big( - y_i x_i^T w \\big) \\Big) + \\frac{\\lambda}{2} \\| w \\|_2^2 $, where $I$ is a set containing $b$ indices randomly drawn from $\\{ 1, \\cdots , n \\}$ without replacement.\n",
    "\n",
    "The stochastic gradient at $w$ is $g_I = \\frac{\\partial Q_I }{ \\partial w} = \\frac{1}{b} \\sum_{i \\in I} \\frac{- y_i x_i }{1 + \\exp ( y_i x_i^T w)} + \\lambda w$."
   ]
  },
  {
   "cell_type": "code",
   "execution_count": 17,
   "metadata": {
    "pycharm": {
     "is_executing": false
    }
   },
   "outputs": [],
   "source": [
    "# Calculate the objective Q_I and the gradient of Q_I\n",
    "# Inputs:\n",
    "#     w: d-by-1 matrix\n",
    "#     xi: b-by-d matrix\n",
    "#     yi: b-by-1 matrix\n",
    "#     lam: scalar, the regularization parameter\n",
    "#     b: integer, the batch size\n",
    "# Return:\n",
    "#     obj: scalar, the objective Q_i\n",
    "#     g: d-by-1 matrix, gradient of Q_i\n",
    "def mb_stochastic_objective_gradient(w, xi, yi, lam, b):\n",
    "    # Fill the function\n",
    "    # Follow the implementation of stochastic_objective_gradient\n",
    "    # Use matrix-vector multiplication; do not use FOR LOOP of vector-vector multiplications\n",
    "    d = xi.shape[1]\n",
    "    yx = numpy.multiply(yi, xi) # b-by-d matrix\n",
    "    yxw = numpy.dot(yx, w) # b-by-1 matrix\n",
    "    \n",
    "    # calculate objective function Q_i\n",
    "    loss = numpy.mean(numpy.log(1 + numpy.exp(-yxw))) # scalar\n",
    "    reg = lam / 2 * numpy.sum(w * w) # scalar\n",
    "    obj = loss + reg\n",
    "    \n",
    "    # calculate stochastic gradient    \n",
    "    vec1 = numpy.exp(yxw) # b-by-1 matrix\n",
    "    vec2 = numpy.divide(yx, 1 + vec1) # b-by-d matrix\n",
    "    vec3 = -numpy.mean(vec2, axis=0).reshape(d, 1) # d-by-1 matrix    \n",
    "    g = vec3 + lam * w # d-by-1 matrix\n",
    "    \n",
    "    return obj, g"
   ]
  },
  {
   "cell_type": "markdown",
   "metadata": {},
   "source": [
    "## 6.2. Implement mini-batch SGD\n",
    "\n",
    "Hints:\n",
    "1. In every epoch, randomly permute the $n$ samples (just like SGD).\n",
    "2. Each epoch has $\\frac{n}{b}$ iterations. In every iteration, use $b$ samples, and compute the gradient and objective using the ``mb_stochastic_objective_gradient`` function. In the next iteration, use the next $b$ samples, and so on.\n",
    "3. Note that ``n mod b`` may not be zero. For example, if $n=1095$ and $b=100$, then there will be $95$ samples left. If the $95$ samples are not used, then the computed objective function will be incorrect. You need to take this effect into account in your implementation of the ``mb_sgd`` function."
   ]
  },
  {
   "cell_type": "code",
   "execution_count": 18,
   "metadata": {
    "pycharm": {
     "is_executing": false
    }
   },
   "outputs": [],
   "source": [
    "# Mini-Batch SGD for solving logistic regression\n",
    "# Inputs:\n",
    "#     x: n-by-d matrix\n",
    "#     y: n-by-1 matrix\n",
    "#     lam: scalar, the regularization parameter\n",
    "#     b: integer, the batch size\n",
    "#     stepsize: scalar\n",
    "#     max_epoch: integer, the maximal epochs\n",
    "#     w: d-by-1 matrix, initialization of w\n",
    "# Return:\n",
    "#     w: the solution\n",
    "#     objvals: record of each iteration's objective value\n",
    "def mb_sgd(x, y, lam, b, stepsize, max_epoch=100, w=None):\n",
    "    # Fill the function\n",
    "    # Follow the implementation of sgd\n",
    "    # Record one objective value per epoch (not per iteration!)\n",
    "    n, d = x.shape\n",
    "    objvals = numpy.zeros(max_epoch) # store the objective values\n",
    "    if w is None:\n",
    "        w = numpy.zeros((d, 1)) # zero initialization\n",
    "    \n",
    "    for t in range(max_epoch):\n",
    "        # randomly shuffle the samples\n",
    "        rand_indices = numpy.random.permutation(n).reshape((n // b, b))\n",
    "        objval = 0\n",
    "        for batch in rand_indices:\n",
    "            xi = x[batch, :]\n",
    "            yi = y[batch, :]            \n",
    "            obj, g = mb_stochastic_objective_gradient(w, xi, yi, lam, b)\n",
    "            objval += obj\n",
    "            w -= stepsize * g\n",
    "            \n",
    "        stepsize *= 0.9 # decrease step size\n",
    "        objval /= n / b\n",
    "        objvals[t] = objval\n",
    "        print('Objective value at epoch t=' + str(t) + ' is ' + str(objval))    \n",
    "    return w, objvals"
   ]
  },
  {
   "cell_type": "markdown",
   "metadata": {},
   "source": [
    "## 6.3. Run MB-SGD"
   ]
  },
  {
   "cell_type": "code",
   "execution_count": 19,
   "metadata": {
    "pycharm": {
     "is_executing": false
    }
   },
   "outputs": [
    {
     "name": "stdout",
     "output_type": "stream",
     "text": [
      "Objective value at epoch t=0 is 0.5485504681865975\n",
      "Objective value at epoch t=1 is 0.4893289315406633\n",
      "Objective value at epoch t=2 is 0.4813991386207152\n",
      "Objective value at epoch t=3 is 0.47729655481963174\n",
      "Objective value at epoch t=4 is 0.4751883233099848\n",
      "Objective value at epoch t=5 is 0.4739223507348943\n",
      "Objective value at epoch t=6 is 0.4736036892137327\n",
      "Objective value at epoch t=7 is 0.47249654810829544\n",
      "Objective value at epoch t=8 is 0.4724823195601194\n",
      "Objective value at epoch t=9 is 0.47220804841640057\n",
      "Objective value at epoch t=10 is 0.4718329362500007\n",
      "Objective value at epoch t=11 is 0.4715818454781199\n",
      "Objective value at epoch t=12 is 0.4714011127335126\n",
      "Objective value at epoch t=13 is 0.4711805431701604\n",
      "Objective value at epoch t=14 is 0.47091970804606564\n",
      "Objective value at epoch t=15 is 0.47064511980921847\n",
      "Objective value at epoch t=16 is 0.4705870165614455\n",
      "Objective value at epoch t=17 is 0.47029800493740787\n",
      "Objective value at epoch t=18 is 0.4702777561566076\n",
      "Objective value at epoch t=19 is 0.4699992673714298\n",
      "Objective value at epoch t=20 is 0.4699639064187916\n",
      "Objective value at epoch t=21 is 0.46983371432298004\n",
      "Objective value at epoch t=22 is 0.4696613001076625\n",
      "Objective value at epoch t=23 is 0.4695531525572252\n",
      "Objective value at epoch t=24 is 0.46955973135052986\n",
      "Objective value at epoch t=25 is 0.46947386913978206\n",
      "Objective value at epoch t=26 is 0.4694213903319768\n",
      "Objective value at epoch t=27 is 0.46930171070039123\n",
      "Objective value at epoch t=28 is 0.46934451878771877\n",
      "Objective value at epoch t=29 is 0.46924693778105453\n",
      "Objective value at epoch t=30 is 0.46921740859693134\n",
      "Objective value at epoch t=31 is 0.4691863366651288\n",
      "Objective value at epoch t=32 is 0.4691299172679025\n",
      "Objective value at epoch t=33 is 0.469090792330781\n",
      "Objective value at epoch t=34 is 0.46905028969116447\n",
      "Objective value at epoch t=35 is 0.46901047362487525\n",
      "Objective value at epoch t=36 is 0.4689815015092573\n",
      "Objective value at epoch t=37 is 0.46898359334540846\n",
      "Objective value at epoch t=38 is 0.46896074628254447\n",
      "Objective value at epoch t=39 is 0.46895746834904234\n",
      "Objective value at epoch t=40 is 0.46892327168193876\n",
      "Objective value at epoch t=41 is 0.4689123120910449\n",
      "Objective value at epoch t=42 is 0.4688991255069277\n",
      "Objective value at epoch t=43 is 0.4688869240542983\n",
      "Objective value at epoch t=44 is 0.46888614222883984\n",
      "Objective value at epoch t=45 is 0.4688695165589613\n",
      "Objective value at epoch t=46 is 0.4688629883058024\n",
      "Objective value at epoch t=47 is 0.4688530309423431\n",
      "Objective value at epoch t=48 is 0.46885010751026157\n",
      "Objective value at epoch t=49 is 0.46884919045382684\n",
      "Objective value at epoch t=50 is 0.4688404907687819\n",
      "Objective value at epoch t=51 is 0.4688326769357991\n",
      "Objective value at epoch t=52 is 0.46883106663546226\n",
      "Objective value at epoch t=53 is 0.4688231401313159\n",
      "Objective value at epoch t=54 is 0.46882180326533657\n",
      "Objective value at epoch t=55 is 0.46881548614470275\n",
      "Objective value at epoch t=56 is 0.468814359371869\n",
      "Objective value at epoch t=57 is 0.46881101490862787\n",
      "Objective value at epoch t=58 is 0.46881057230172374\n",
      "Objective value at epoch t=59 is 0.4688087479855913\n",
      "Objective value at epoch t=60 is 0.4688055561941986\n",
      "Objective value at epoch t=61 is 0.46880560297210333\n",
      "Objective value at epoch t=62 is 0.4688028862336784\n",
      "Objective value at epoch t=63 is 0.468801960199738\n",
      "Objective value at epoch t=64 is 0.4688007142344779\n",
      "Objective value at epoch t=65 is 0.46879996190759243\n",
      "Objective value at epoch t=66 is 0.4687990018453872\n",
      "Objective value at epoch t=67 is 0.4687981013604409\n",
      "Objective value at epoch t=68 is 0.468797521330375\n",
      "Objective value at epoch t=69 is 0.4687954980441396\n",
      "Objective value at epoch t=70 is 0.4687951170390235\n",
      "Objective value at epoch t=71 is 0.4687950229261351\n",
      "Objective value at epoch t=72 is 0.4687944893323044\n",
      "Objective value at epoch t=73 is 0.4687939943028973\n",
      "Objective value at epoch t=74 is 0.4687936408502169\n",
      "Objective value at epoch t=75 is 0.4687931036428405\n",
      "Objective value at epoch t=76 is 0.46879301224073594\n",
      "Objective value at epoch t=77 is 0.4687925884171384\n",
      "Objective value at epoch t=78 is 0.4687923212807969\n",
      "Objective value at epoch t=79 is 0.46879189719132747\n",
      "Objective value at epoch t=80 is 0.46879158200013404\n",
      "Objective value at epoch t=81 is 0.4687913828233437\n",
      "Objective value at epoch t=82 is 0.4687912860793781\n",
      "Objective value at epoch t=83 is 0.4687910901883599\n",
      "Objective value at epoch t=84 is 0.46879082878939154\n",
      "Objective value at epoch t=85 is 0.46879069914810967\n",
      "Objective value at epoch t=86 is 0.4687907047409568\n",
      "Objective value at epoch t=87 is 0.4687905655503077\n",
      "Objective value at epoch t=88 is 0.4687905111380746\n",
      "Objective value at epoch t=89 is 0.4687903831049781\n",
      "Objective value at epoch t=90 is 0.4687902237973878\n",
      "Objective value at epoch t=91 is 0.4687902003112061\n",
      "Objective value at epoch t=92 is 0.46879013686289933\n",
      "Objective value at epoch t=93 is 0.4687900717083415\n",
      "Objective value at epoch t=94 is 0.4687900195536798\n",
      "Objective value at epoch t=95 is 0.46878998236514785\n",
      "Objective value at epoch t=96 is 0.46878994805742086\n",
      "Objective value at epoch t=97 is 0.46878992357493726\n",
      "Objective value at epoch t=98 is 0.46878986439926784\n",
      "Objective value at epoch t=99 is 0.4687898333736068\n"
     ]
    }
   ],
   "source": [
    "# MB-SGD with batch size b=8\n",
    "lam = 1E-6 # do not change\n",
    "b = 8 # do not change\n",
    "stepsize = 0.1 # you must tune this parameter\n",
    "\n",
    "w, objvals_mbsgd8 = mb_sgd(x_train, y_train, lam, b, stepsize)"
   ]
  },
  {
   "cell_type": "code",
   "execution_count": 20,
   "metadata": {
    "pycharm": {
     "is_executing": false
    }
   },
   "outputs": [
    {
     "name": "stdout",
     "output_type": "stream",
     "text": [
      "Objective value at epoch t=0 is 0.6534322524654389\n",
      "Objective value at epoch t=1 is 0.592525823289273\n",
      "Objective value at epoch t=2 is 0.5609834379581066\n",
      "Objective value at epoch t=3 is 0.5415166792196163\n",
      "Objective value at epoch t=4 is 0.5291766017176184\n",
      "Objective value at epoch t=5 is 0.5205215224654931\n",
      "Objective value at epoch t=6 is 0.5141258332435101\n",
      "Objective value at epoch t=7 is 0.5090846025644151\n",
      "Objective value at epoch t=8 is 0.5053476979388798\n",
      "Objective value at epoch t=9 is 0.502213223179902\n",
      "Objective value at epoch t=10 is 0.49969359022681403\n",
      "Objective value at epoch t=11 is 0.49779231125970014\n",
      "Objective value at epoch t=12 is 0.4961161861544614\n",
      "Objective value at epoch t=13 is 0.49476516049105335\n",
      "Objective value at epoch t=14 is 0.49357688045213166\n",
      "Objective value at epoch t=15 is 0.4925288358763452\n",
      "Objective value at epoch t=16 is 0.49165512498636854\n",
      "Objective value at epoch t=17 is 0.49092949261101165\n",
      "Objective value at epoch t=18 is 0.49021950843163303\n",
      "Objective value at epoch t=19 is 0.48970417573861497\n",
      "Objective value at epoch t=20 is 0.4892171797456458\n",
      "Objective value at epoch t=21 is 0.4887387129787433\n",
      "Objective value at epoch t=22 is 0.48838195737968426\n",
      "Objective value at epoch t=23 is 0.4880587170821269\n",
      "Objective value at epoch t=24 is 0.48775000374639416\n",
      "Objective value at epoch t=25 is 0.4874761944059731\n",
      "Objective value at epoch t=26 is 0.4872635759831693\n",
      "Objective value at epoch t=27 is 0.48705041931413795\n",
      "Objective value at epoch t=28 is 0.4868677233632746\n",
      "Objective value at epoch t=29 is 0.48672467127716423\n",
      "Objective value at epoch t=30 is 0.4865719183628056\n",
      "Objective value at epoch t=31 is 0.48642767597437786\n",
      "Objective value at epoch t=32 is 0.4863213326813524\n",
      "Objective value at epoch t=33 is 0.48621613967102095\n",
      "Objective value at epoch t=34 is 0.4861111256815121\n",
      "Objective value at epoch t=35 is 0.4860408478666861\n",
      "Objective value at epoch t=36 is 0.4859669745002987\n",
      "Objective value at epoch t=37 is 0.485905092648467\n",
      "Objective value at epoch t=38 is 0.4858364772401332\n",
      "Objective value at epoch t=39 is 0.48579674981898396\n",
      "Objective value at epoch t=40 is 0.4857409700683667\n",
      "Objective value at epoch t=41 is 0.48569602239324866\n",
      "Objective value at epoch t=42 is 0.4856619462997\n",
      "Objective value at epoch t=43 is 0.48562338660360005\n",
      "Objective value at epoch t=44 is 0.4855938082582163\n",
      "Objective value at epoch t=45 is 0.4855675415557118\n",
      "Objective value at epoch t=46 is 0.4855419517308608\n",
      "Objective value at epoch t=47 is 0.48552108478249906\n",
      "Objective value at epoch t=48 is 0.4854997363048424\n",
      "Objective value at epoch t=49 is 0.4854808669761621\n",
      "Objective value at epoch t=50 is 0.4854641028006283\n",
      "Objective value at epoch t=51 is 0.48544957911027825\n",
      "Objective value at epoch t=52 is 0.48543448233192993\n",
      "Objective value at epoch t=53 is 0.4854232789213163\n",
      "Objective value at epoch t=54 is 0.48541273787258554\n",
      "Objective value at epoch t=55 is 0.4854027470330564\n",
      "Objective value at epoch t=56 is 0.4853947106406348\n",
      "Objective value at epoch t=57 is 0.4853872739449494\n",
      "Objective value at epoch t=58 is 0.4853798484091388\n",
      "Objective value at epoch t=59 is 0.48537360275625513\n",
      "Objective value at epoch t=60 is 0.4853679956329688\n",
      "Objective value at epoch t=61 is 0.4853627537260378\n",
      "Objective value at epoch t=62 is 0.48535838408316084\n",
      "Objective value at epoch t=63 is 0.48535397526389484\n",
      "Objective value at epoch t=64 is 0.485350290553592\n",
      "Objective value at epoch t=65 is 0.4853468023377443\n",
      "Objective value at epoch t=66 is 0.4853439510107408\n",
      "Objective value at epoch t=67 is 0.485341215490726\n",
      "Objective value at epoch t=68 is 0.4853389943102953\n",
      "Objective value at epoch t=69 is 0.4853367398095879\n",
      "Objective value at epoch t=70 is 0.48533474179963243\n",
      "Objective value at epoch t=71 is 0.4853331230732539\n",
      "Objective value at epoch t=72 is 0.48533138012653054\n",
      "Objective value at epoch t=73 is 0.48532992457313373\n",
      "Objective value at epoch t=74 is 0.48532865273771264\n",
      "Objective value at epoch t=75 is 0.4853274439937465\n",
      "Objective value at epoch t=76 is 0.48532651975419605\n",
      "Objective value at epoch t=77 is 0.48532552220228553\n",
      "Objective value at epoch t=78 is 0.485324708526946\n",
      "Objective value at epoch t=79 is 0.4853239460336569\n",
      "Objective value at epoch t=80 is 0.48532325510816043\n",
      "Objective value at epoch t=81 is 0.48532263404555664\n",
      "Objective value at epoch t=82 is 0.48532209010920346\n",
      "Objective value at epoch t=83 is 0.4853216196620865\n",
      "Objective value at epoch t=84 is 0.48532115135544135\n",
      "Objective value at epoch t=85 is 0.48532070240846537\n",
      "Objective value at epoch t=86 is 0.485320380799021\n",
      "Objective value at epoch t=87 is 0.48532006245954334\n",
      "Objective value at epoch t=88 is 0.48531979744103254\n",
      "Objective value at epoch t=89 is 0.48531946944057913\n",
      "Objective value at epoch t=90 is 0.4853192600626317\n",
      "Objective value at epoch t=91 is 0.48531905078117643\n",
      "Objective value at epoch t=92 is 0.4853188229296815\n",
      "Objective value at epoch t=93 is 0.48531865970085253\n",
      "Objective value at epoch t=94 is 0.48531851299952755\n",
      "Objective value at epoch t=95 is 0.4853183759698438\n",
      "Objective value at epoch t=96 is 0.48531824328379297\n",
      "Objective value at epoch t=97 is 0.4853181385073295\n",
      "Objective value at epoch t=98 is 0.4853180260658777\n",
      "Objective value at epoch t=99 is 0.48531792870847923\n"
     ]
    }
   ],
   "source": [
    "# MB-SGD with batch size b=64\n",
    "lam = 1E-6 # do not change\n",
    "b = 64 # do not change\n",
    "stepsize = 0.1 # you must tune this parameter\n",
    "\n",
    "w, objvals_mbsgd64 = mb_sgd(x_train, y_train, lam, b, stepsize)"
   ]
  },
  {
   "cell_type": "markdown",
   "metadata": {},
   "source": [
    "# 7. Plot and compare GD, SGD, and MB-SGD"
   ]
  },
  {
   "cell_type": "markdown",
   "metadata": {},
   "source": [
    "You are required to compare the following algorithms:\n",
    "\n",
    "- Gradient descent (GD)\n",
    "\n",
    "- SGD\n",
    "\n",
    "- MB-SGD with b=8\n",
    "\n",
    "- MB-SGD with b=64\n",
    "\n",
    "Follow the code in Section 4 to plot ```objective function value``` against ```epochs```. There should be four curves in the plot; each curve corresponds to one algorithm."
   ]
  },
  {
   "cell_type": "markdown",
   "metadata": {},
   "source": [
    "Hint: Logistic regression with $\\ell_2$-norm regularization is a strongly convex optimization problem. All the algorithms will converge to the same solution. In the end, the ``objective function value`` of the 4 algorithms will be the same. If not the same, your implementation must be wrong. "
   ]
  },
  {
   "cell_type": "code",
   "execution_count": 21,
   "metadata": {
    "pycharm": {
     "is_executing": false,
     "name": "#%%\n"
    }
   },
   "outputs": [
    {
     "data": {
      "image/png": "[encoded data removed]",
      "text/plain": [
       "<Figure size 864x576 with 1 Axes>"
      ]
     },
     "metadata": {
      "needs_background": "light"
     },
     "output_type": "display_data"
    }
   ],
   "source": [
    "# plot the 4 curves:\n",
    "import matplotlib.pyplot as plt\n",
    "%matplotlib inline\n",
    "\n",
    "fig = plt.figure(figsize=(12, 8))\n",
    "\n",
    "epochs_gd = range(len(objvals_gd))\n",
    "epochs_sgd = range(len(objvals_sgd))\n",
    "epochs_mbsgd8 = range(len(objvals_mbsgd8))\n",
    "epochs_mbsgd64 = range(len(objvals_mbsgd64))\n",
    "\n",
    "line0, = plt.plot(epochs_gd, objvals_gd, '--b', LineWidth=4)\n",
    "line1, = plt.plot(epochs_sgd, objvals_sgd, '-r', LineWidth=2)\n",
    "line2, = plt.plot(epochs_mbsgd8, objvals_mbsgd8, '-.y', LineWidth=2)\n",
    "line3, = plt.plot(epochs_mbsgd64, objvals_mbsgd64, '*c', LineWidth=2)\n",
    "plt.xlabel('Epochs', FontSize=20)\n",
    "plt.ylabel('Objective Value', FontSize=20)\n",
    "plt.xticks(FontSize=16)\n",
    "plt.yticks(FontSize=16)\n",
    "plt.legend([line0, line1, line2, line3], ['GD', 'SGD', 'MB-SGD8', 'MB-SGD64'], fontsize=20)\n",
    "plt.tight_layout()\n",
    "plt.show()\n",
    "fig.savefig('compare_gd_sgd.pdf', format='pdf', dpi=1200)\n",
    "\n"
   ]
  }
 ],
 "metadata": {
  "kernelspec": {
   "display_name": "Python 3",
   "language": "python",
   "name": "python3"
  },
  "language_info": {
   "codemirror_mode": {
    "name": "ipython",
    "version": 3
   },
   "file_extension": ".py",
   "mimetype": "text/x-python",
   "name": "python",
   "nbconvert_exporter": "python",
   "pygments_lexer": "ipython3",
   "version": "3.5.2"
  },
  "pycharm": {
   "stem_cell": {
    "cell_type": "raw",
    "metadata": {
     "collapsed": false
    },
    "source": []
   }
  }
 },
 "nbformat": 4,
 "nbformat_minor": 2
}
