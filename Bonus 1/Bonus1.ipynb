{
 "cells": [
  {
   "cell_type": "markdown",
   "metadata": {},
   "source": [
    "# Bonus 1: Numerical Optimization for Logistic Regression.\n",
    "\n",
    "### Name: Zubair Shaikh\n"
   ]
  },
  {
   "cell_type": "markdown",
   "metadata": {},
   "source": [
    "## 0. You will do the following:\n",
    "\n",
    "1. Read the lecture note: [click here](https://github.com/wangshusen/DeepLearning/blob/master/LectureNotes/Logistic/paper/logistic.pdf)\n",
    "\n",
    "2. Read, complete, and run my code.\n",
    "\n",
    "3. **Implement mini-batch SGD** and evaluate the performance. (1 bonus point.)\n",
    "\n",
    "4. Convert the .IPYNB file to .HTML file.\n",
    "\n",
    "    * The HTML file must contain **the code** and **the output after execution**.\n",
    "    \n",
    "5. Upload this .HTML file to your Google Drive, Dropbox, or your Github repo.\n",
    "\n",
    "6. Submit the link to this .HTML file to Canvas.\n",
    "\n",
    "    * Example: https://github.com/wangshusen/CS583-2019F/blob/master/homework/Bonus1/Bonus1.html\n",
    "\n",
    "\n",
    "## Grading criteria:\n",
    "\n",
    "1. When computing the ```gradient``` and ```objective function value``` using a batch of samples, use **matrix-vector multiplication** rather than a FOR LOOP of **vector-vector multiplications**.\n",
    "\n",
    "2. Plot ```objective function value``` against ```epochs```. In the plot, compare GD, SGD, and MB-SGD (with $b=8$ and $b=64$). The plot must look reasonable."
   ]
  },
  {
   "cell_type": "code",
   "execution_count": 0,
   "metadata": {
    "pycharm": {
     "is_executing": false
    }
   },
   "outputs": [],
   "source": []
  },
  {
   "cell_type": "markdown",
   "metadata": {},
   "source": [
    "# 1. Data processing\n",
    "\n",
    "- Download the Diabete dataset from https://www.csie.ntu.edu.tw/~cjlin/libsvmtools/datasets/binary/diabetes\n",
    "- Load the data using sklearn.\n",
    "- Preprocess the data."
   ]
  },
  {
   "cell_type": "markdown",
   "metadata": {},
   "source": [
    "## 1.1. Load the data"
   ]
  },
  {
   "cell_type": "code",
   "execution_count": 1,
   "metadata": {
    "pycharm": {
     "is_executing": false
    }
   },
   "outputs": [
    {
     "name": "stdout",
     "text": [
      "Shape of x: (768, 8)\nShape of y: (768,)\n"
     ],
     "output_type": "stream"
    }
   ],
   "source": [
    "from sklearn import datasets\n",
    "import numpy\n",
    "\n",
    "x_sparse, y = datasets.load_svmlight_file('diabetes')\n",
    "x = x_sparse.todense()\n",
    "\n",
    "print('Shape of x: ' + str(x.shape))\n",
    "print('Shape of y: ' + str(y.shape))"
   ]
  },
  {
   "cell_type": "markdown",
   "metadata": {},
   "source": [
    "## 1.2. Partition to training and test sets"
   ]
  },
  {
   "cell_type": "code",
   "execution_count": 2,
   "metadata": {
    "pycharm": {
     "is_executing": false
    }
   },
   "outputs": [
    {
     "name": "stdout",
     "text": [
      "Shape of x_train: (576, 8)\nShape of x_test: (192, 8)\nShape of y_train: (576, 1)\nShape of y_test: (192, 1)\n"
     ],
     "output_type": "stream"
    }
   ],
   "source": [
    "# partition the data to training and test sets\n",
    "n = x.shape[0]\n",
    "n_train = int(numpy.ceil(n * 0.75))\n",
    "n_test = n - n_train\n",
    "\n",
    "rand_indices = numpy.random.permutation(n)\n",
    "train_indices = rand_indices[0:n_train]\n",
    "test_indices = rand_indices[n_train:n]\n",
    "\n",
    "x_train = x[train_indices, :]\n",
    "x_test = x[test_indices, :]\n",
    "y_train = y[train_indices].reshape(n_train, 1)\n",
    "y_test = y[test_indices].reshape(n_test, 1)\n",
    "\n",
    "print('Shape of x_train: ' + str(x_train.shape))\n",
    "print('Shape of x_test: ' + str(x_test.shape))\n",
    "print('Shape of y_train: ' + str(y_train.shape))\n",
    "print('Shape of y_test: ' + str(y_test.shape))"
   ]
  },
  {
   "cell_type": "markdown",
   "metadata": {},
   "source": [
    "## 1.3. Feature scaling"
   ]
  },
  {
   "cell_type": "markdown",
   "metadata": {},
   "source": [
    "Use the standardization to trainsform both training and test features"
   ]
  },
  {
   "cell_type": "code",
   "execution_count": 3,
   "metadata": {
    "pycharm": {
     "is_executing": false
    }
   },
   "outputs": [
    {
     "name": "stdout",
     "text": [
      "test mean = \n[[ 0.0200419  -0.28122009 -0.24184791 -0.15703749 -0.16682189 -0.12965457\n  -0.22165188 -0.00307432]]\ntest std = \n[[0.98681307 0.97994735 1.23530118 1.02970679 0.9559316  0.936521\n  0.88109199 0.96360403]]\n"
     ],
     "output_type": "stream"
    }
   ],
   "source": [
    "# Standardization\n",
    "import numpy\n",
    "\n",
    "# calculate mu and sig using the training set\n",
    "d = x_train.shape[1]\n",
    "mu = numpy.mean(x_train, axis=0).reshape(1, d)\n",
    "sig = numpy.std(x_train, axis=0).reshape(1, d)\n",
    "\n",
    "# transform the training features\n",
    "x_train = (x_train - mu) / (sig + 1E-6)\n",
    "\n",
    "# transform the test features\n",
    "x_test = (x_test - mu) / (sig + 1E-6)\n",
    "\n",
    "print('test mean = ')\n",
    "print(numpy.mean(x_test, axis=0))\n",
    "\n",
    "print('test std = ')\n",
    "print(numpy.std(x_test, axis=0))"
   ]
  },
  {
   "cell_type": "markdown",
   "metadata": {},
   "source": [
    "## 1.4. Add a dimension of all ones"
   ]
  },
  {
   "cell_type": "code",
   "execution_count": 4,
   "metadata": {
    "pycharm": {
     "is_executing": false
    }
   },
   "outputs": [
    {
     "name": "stdout",
     "text": [
      "Shape of x_train: (576, 9)\nShape of x_test: (192, 9)\n"
     ],
     "output_type": "stream"
    }
   ],
   "source": [
    "n_train, d = x_train.shape\n",
    "x_train = numpy.concatenate((x_train, numpy.ones((n_train, 1))), axis=1)\n",
    "\n",
    "n_test, d = x_test.shape\n",
    "x_test = numpy.concatenate((x_test, numpy.ones((n_test, 1))), axis=1)\n",
    "\n",
    "print('Shape of x_train: ' + str(x_train.shape))\n",
    "print('Shape of x_test: ' + str(x_test.shape))"
   ]
  },
  {
   "cell_type": "markdown",
   "metadata": {},
   "source": [
    "# 2. Logistic regression model\n",
    "\n",
    "The objective function is $Q (w; X, y) = \\frac{1}{n} \\sum_{i=1}^n \\log \\Big( 1 + \\exp \\big( - y_i x_i^T w \\big) \\Big) + \\frac{\\lambda}{2} \\| w \\|_2^2 $."
   ]
  },
  {
   "cell_type": "code",
   "execution_count": 5,
   "metadata": {
    "pycharm": {
     "is_executing": false
    }
   },
   "outputs": [],
   "source": [
    "# Calculate the objective function value\n",
    "# Inputs:\n",
    "#     w: d-by-1 matrix\n",
    "#     x: n-by-d matrix\n",
    "#     y: n-by-1 matrix\n",
    "#     lam: scalar, the regularization parameter\n",
    "# Return:\n",
    "#     objective function value (scalar)\n",
    "def objective(w, x, y, lam):\n",
    "    n, d = x.shape\n",
    "    yx = numpy.multiply(y, x) # n-by-d matrix\n",
    "    yxw = numpy.dot(yx, w) # n-by-1 matrix\n",
    "    vec1 = numpy.exp(-yxw) # n-by-1 matrix\n",
    "    vec2 = numpy.log(1 + vec1) # n-by-1 matrix\n",
    "    loss = numpy.mean(vec2) # scalar\n",
    "    reg = lam / 2 * numpy.sum(w * w) # scalar\n",
    "    return loss + reg\n",
    "    "
   ]
  },
  {
   "cell_type": "code",
   "execution_count": 6,
   "metadata": {
    "pycharm": {
     "is_executing": false
    }
   },
   "outputs": [
    {
     "name": "stdout",
     "text": [
      "Initial objective function value = 0.6931471805599453\n"
     ],
     "output_type": "stream"
    }
   ],
   "source": [
    "# initialize w\n",
    "d = x_train.shape[1]\n",
    "w = numpy.zeros((d, 1))\n",
    "\n",
    "# evaluate the objective function value at w\n",
    "lam = 1E-6\n",
    "objval0 = objective(w, x_train, y_train, lam)\n",
    "print('Initial objective function value = ' + str(objval0))"
   ]
  },
  {
   "cell_type": "markdown",
   "metadata": {},
   "source": [
    "# 3. Numerical optimization"
   ]
  },
  {
   "cell_type": "markdown",
   "metadata": {},
   "source": [
    "## 3.1. Gradient descent\n"
   ]
  },
  {
   "cell_type": "markdown",
   "metadata": {},
   "source": [
    "The gradient at $w$ is $g = - \\frac{1}{n} \\sum_{i=1}^n \\frac{y_i x_i }{1 + \\exp ( y_i x_i^T w)} + \\lambda w$"
   ]
  },
  {
   "cell_type": "code",
   "execution_count": 7,
   "metadata": {
    "pycharm": {
     "is_executing": false
    }
   },
   "outputs": [],
   "source": [
    "# Calculate the gradient\n",
    "# Inputs:\n",
    "#     w: d-by-1 matrix\n",
    "#     x: n-by-d matrix\n",
    "#     y: n-by-1 matrix\n",
    "#     lam: scalar, the regularization parameter\n",
    "# Return:\n",
    "#     g: g: d-by-1 matrix, full gradient\n",
    "def gradient(w, x, y, lam):\n",
    "    n, d = x.shape\n",
    "    yx = numpy.multiply(y, x) # n-by-d matrix\n",
    "    yxw = numpy.dot(yx, w) # n-by-1 matrix\n",
    "    vec1 = numpy.exp(yxw) # n-by-1 matrix\n",
    "    vec2 = numpy.divide(yx, 1+vec1) # n-by-d matrix\n",
    "    vec3 = -numpy.mean(vec2, axis=0).reshape(d, 1) # d-by-1 matrix\n",
    "    g = vec3 + lam * w\n",
    "    return g"
   ]
  },
  {
   "cell_type": "code",
   "execution_count": 8,
   "metadata": {
    "pycharm": {
     "is_executing": false
    }
   },
   "outputs": [],
   "source": [
    "# Gradient descent for solving logistic regression\n",
    "# Inputs:\n",
    "#     x: n-by-d matrix\n",
    "#     y: n-by-1 matrix\n",
    "#     lam: scalar, the regularization parameter\n",
    "#     stepsize: scalar\n",
    "#     max_iter: integer, the maximal iterations\n",
    "#     w: d-by-1 matrix, initialization of w\n",
    "# Return:\n",
    "#     w: d-by-1 matrix, the solution\n",
    "#     objvals: a record of each iteration's objective value\n",
    "def grad_descent(x, y, lam, stepsize, max_iter=100, w=None):\n",
    "    n, d = x.shape\n",
    "    objvals = numpy.zeros(max_iter) # store the objective values\n",
    "    if w is None:\n",
    "        w = numpy.zeros((d, 1)) # zero initialization\n",
    "    \n",
    "    for t in range(max_iter):\n",
    "        objval = objective(w, x, y, lam)\n",
    "        objvals[t] = objval\n",
    "        print('Objective value at t=' + str(t) + ' is ' + str(objval))\n",
    "        g = gradient(w, x, y, lam)\n",
    "        w -= stepsize * g\n",
    "    \n",
    "    return w, objvals"
   ]
  },
  {
   "cell_type": "markdown",
   "metadata": {},
   "source": [
    "Run gradient descent."
   ]
  },
  {
   "cell_type": "code",
   "execution_count": 9,
   "metadata": {
    "pycharm": {
     "is_executing": false
    }
   },
   "outputs": [
    {
     "name": "stdout",
     "text": [
      "Objective value at t=0 is 0.6931471805599453\nObjective value at t=1 is 0.5847669169182722\nObjective value at t=2 is 0.541821843073541\nObjective value at t=3 is 0.5189624504078822\nObjective value at t=4 is 0.5046958808183372\nObjective value at t=5 is 0.4949710224242788\nObjective value at t=6 is 0.48797361359379565\nObjective value at t=7 is 0.4827533265308684\nObjective value at t=8 is 0.4787563282339787\nObjective value at t=9 is 0.47563481951232855\nObjective value at t=10 is 0.4731583338439503\nObjective value at t=11 is 0.4711679465813401\nObjective value at t=12 is 0.4695506612520572\nObjective value at t=13 is 0.46822415664207284\nObjective value at t=14 is 0.4671272477117475\nObjective value at t=15 is 0.4662136845487957\nObjective value at t=16 is 0.4654479940457821\nObjective value at t=17 is 0.4648026194078032\nObjective value at t=18 is 0.46425590988192955\nObjective value at t=19 is 0.4637906818246266\nObjective value at t=20 is 0.4633931720540114\nObjective value at t=21 is 0.4630522655969365\nObjective value at t=22 is 0.4627589185271335\nObjective value at t=23 is 0.46250572154517217\nObjective value at t=24 is 0.46228656643687055\nObjective value at t=25 is 0.4620963886417936\nObjective value at t=26 is 0.46193096675384726\nObjective value at t=27 is 0.46178676504565097\nObjective value at t=28 is 0.4616608088160485\nObjective value at t=29 is 0.4615505850009312\nObjective value at t=30 is 0.46145396238990016\nObjective value at t=31 is 0.4613691271762033\nObjective value at t=32 is 0.46129453058559095\nObjective value at t=33 is 0.46122884608528486\nObjective value at t=34 is 0.46117093423983124\nObjective value at t=35 is 0.4611198137074579\nObjective value at t=36 is 0.4610746371952282\nObjective value at t=37 is 0.4610346714400637\nObjective value at t=38 is 0.46099928047466837\nObjective value at t=39 is 0.4609679115864824\nObjective value at t=40 is 0.4609400834943407\nObjective value at t=41 is 0.4609153763591445\nObjective value at t=42 is 0.46089342331731886\nObjective value at t=43 is 0.4608739032834461\nObjective value at t=44 is 0.460856534814507\nObjective value at t=45 is 0.46084107086513704\nObjective value at t=46 is 0.4608272942931401\nObjective value at t=47 is 0.46081501399868346\nObjective value at t=48 is 0.46080406160027254\nObjective value at t=49 is 0.4607942885666894\nObjective value at t=50 is 0.4607855637372676\nObjective value at t=51 is 0.46077777117374574\nObjective value at t=52 is 0.4607708082959107\nObjective value at t=53 is 0.4607645842606897\nObjective value at t=54 is 0.4607590185505398\nObjective value at t=55 is 0.4607540397421491\nObjective value at t=56 is 0.46074958443078684\nObjective value at t=57 is 0.4607455962892694\nObjective value at t=58 is 0.4607420252435625\nObjective value at t=59 is 0.4607388267496156\nObjective value at t=60 is 0.46073596115820636\nObjective value at t=61 is 0.4607333931564212\nObjective value at t=62 is 0.460731091275966\nObjective value at t=63 is 0.46072902745984634\nObjective value at t=64 is 0.460727176680092\nObjective value at t=65 is 0.46072551660018346\nObjective value at t=66 is 0.4607240272766748\nObjective value at t=67 is 0.46072269089522466\nObjective value at t=68 is 0.46072149153687264\nObjective value at t=69 is 0.46072041497092425\nObjective value at t=70 is 0.4607194484712775\nObjective value at t=71 is 0.46071858065341514\nObjective value at t=72 is 0.46071780132963813\nObjective value at t=73 is 0.46071710138041194\nObjective value at t=74 is 0.46071647263996185\nObjective value at t=75 is 0.4607159077944745\nObjective value at t=76 is 0.4607154002914673\nObjective value at t=77 is 0.46071494425905385\nObjective value at t=78 is 0.4607145344339892\nObjective value at t=79 is 0.46071416609750726\nObjective value at t=80 is 0.4607138350180795\nObjective value at t=81 is 0.4607135374003246\nObjective value at t=82 is 0.46071326983939065\nObjective value at t=83 is 0.4607130292802037\nObjective value at t=84 is 0.46071281298105377\nObjective value at t=85 is 0.46071261848104006\nObjective value at t=86 is 0.46071244357095853\nObjective value at t=87 is 0.4607122862672604\nObjective value at t=88 is 0.4607121447887456\nObjective value at t=89 is 0.4607120175357037\nObjective value at t=90 is 0.4607119030712341\nObjective value at t=91 is 0.4607118001045182\nObjective value at t=92 is 0.46071170747583096\nObjective value at t=93 is 0.4607116241431122\nObjective value at t=94 is 0.4607115491699284\nObjective value at t=95 is 0.4607114817146818\nObjective value at t=96 is 0.4607114210209337\nObjective value at t=97 is 0.46071136640872495\nObjective value at t=98 is 0.46071131726679093\nObjective value at t=99 is 0.46071127304557674\n"
     ],
     "output_type": "stream"
    }
   ],
   "source": [
    "lam = 1E-6\n",
    "stepsize = 1.0\n",
    "w, objvals_gd = grad_descent(x_train, y_train, lam, stepsize)"
   ]
  },
  {
   "cell_type": "markdown",
   "metadata": {},
   "source": [
    "## 3.2. Stochastic gradient descent (SGD)\n",
    "\n",
    "Define $Q_i (w) = \\log \\Big( 1 + \\exp \\big( - y_i x_i^T w \\big) \\Big) + \\frac{\\lambda}{2} \\| w \\|_2^2 $.\n",
    "\n",
    "The stochastic gradient at $w$ is $g_i = \\frac{\\partial Q_i }{ \\partial w} = -\\frac{y_i x_i }{1 + \\exp ( y_i x_i^T w)} + \\lambda w$."
   ]
  },
  {
   "cell_type": "code",
   "execution_count": 10,
   "metadata": {
    "pycharm": {
     "is_executing": false
    }
   },
   "outputs": [],
   "source": [
    "# Calculate the objective Q_i and the gradient of Q_i\n",
    "# Inputs:\n",
    "#     w: d-by-1 matrix\n",
    "#     xi: 1-by-d matrix\n",
    "#     yi: scalar\n",
    "#     lam: scalar, the regularization parameter\n",
    "# Return:\n",
    "#     obj: scalar, the objective Q_i\n",
    "#     g: d-by-1 matrix, gradient of Q_i\n",
    "def stochastic_objective_gradient(w, xi, yi, lam):\n",
    "    d = xi.shape[0]\n",
    "    yx = yi * xi # 1-by-d matrix\n",
    "    yxw = float(numpy.dot(yx, w)) # scalar\n",
    "    \n",
    "    # calculate objective function Q_i\n",
    "    loss = numpy.log(1 + numpy.exp(-yxw)) # scalar\n",
    "    reg = lam / 2 * numpy.sum(w * w) # scalar\n",
    "    obj = loss + reg\n",
    "    \n",
    "    # calculate stochastic gradient\n",
    "    g_loss = -yx.T / (1 + numpy.exp(yxw)) # d-by-1 matrix\n",
    "    g = g_loss + lam * w # d-by-1 matrix\n",
    "    \n",
    "    return obj, g"
   ]
  },
  {
   "cell_type": "code",
   "execution_count": 11,
   "metadata": {
    "pycharm": {
     "is_executing": false
    }
   },
   "outputs": [],
   "source": [
    "# SGD for solving logistic regression\n",
    "# Inputs:\n",
    "#     x: n-by-d matrix\n",
    "#     y: n-by-1 matrix\n",
    "#     lam: scalar, the regularization parameter\n",
    "#     stepsize: scalar\n",
    "#     max_epoch: integer, the maximal epochs\n",
    "#     w: d-by-1 matrix, initialization of w\n",
    "# Return:\n",
    "#     w: the solution\n",
    "#     objvals: record of each iteration's objective value\n",
    "def sgd(x, y, lam, stepsize, max_epoch=100, w=None):\n",
    "    n, d = x.shape\n",
    "    objvals = numpy.zeros(max_epoch) # store the objective values\n",
    "    if w is None:\n",
    "        w = numpy.zeros((d, 1)) # zero initialization\n",
    "    \n",
    "    for t in range(max_epoch):\n",
    "        # randomly shuffle the samples\n",
    "        rand_indices = numpy.random.permutation(n)\n",
    "        x_rand = x[rand_indices, :]\n",
    "        y_rand = y[rand_indices, :]\n",
    "        \n",
    "        objval = 0 # accumulate the objective values\n",
    "        for i in range(n):\n",
    "            xi = x_rand[i, :] # 1-by-d matrix\n",
    "            yi = float(y_rand[i, :]) # scalar\n",
    "            obj, g = stochastic_objective_gradient(w, xi, yi, lam)\n",
    "            objval += obj\n",
    "            w -= stepsize * g\n",
    "        \n",
    "        stepsize *= 0.9 # decrease step size\n",
    "        objval /= n\n",
    "        objvals[t] = objval\n",
    "        print('Objective value at epoch t=' + str(t) + ' is ' + str(objval))\n",
    "    \n",
    "    return w, objvals"
   ]
  },
  {
   "cell_type": "markdown",
   "metadata": {},
   "source": [
    "Run SGD."
   ]
  },
  {
   "cell_type": "code",
   "execution_count": 12,
   "metadata": {
    "pycharm": {
     "is_executing": false
    }
   },
   "outputs": [
    {
     "name": "stdout",
     "text": [
      "Objective value at epoch t=0 is 0.5273263514791948\nObjective value at epoch t=1 is 0.5057234164843444\n",
      "Objective value at epoch t=2 is 0.5125715837392855\nObjective value at epoch t=3 is 0.4959520431564272\nObjective value at epoch t=4 is 0.49541470481012584\n",
      "Objective value at epoch t=5 is 0.5006518215880568\nObjective value at epoch t=6 is 0.4899650894648881\n",
      "Objective value at epoch t=7 is 0.48154849101168157\nObjective value at epoch t=8 is 0.4885230345063327\n",
      "Objective value at epoch t=9 is 0.48039606097750887\nObjective value at epoch t=10 is 0.4818009052102154\n",
      "Objective value at epoch t=11 is 0.4755347537007391\nObjective value at epoch t=12 is 0.4781495041803926\n",
      "Objective value at epoch t=13 is 0.4771509851750927\nObjective value at epoch t=14 is 0.47507072705873754\n",
      "Objective value at epoch t=15 is 0.47273833509653596\nObjective value at epoch t=16 is 0.4709495471730984\nObjective value at epoch t=17 is 0.4714628709604248\n",
      "Objective value at epoch t=18 is 0.46702295573240593\nObjective value at epoch t=19 is 0.4704175896147814\n",
      "Objective value at epoch t=20 is 0.46895706578652896\nObjective value at epoch t=21 is 0.46779098316022794\n",
      "Objective value at epoch t=22 is 0.46650806514438464\nObjective value at epoch t=23 is 0.4665763384321241\n",
      "Objective value at epoch t=24 is 0.46596315874380523\nObjective value at epoch t=25 is 0.46568802796885156\n",
      "Objective value at epoch t=26 is 0.4646569673451723\nObjective value at epoch t=27 is 0.46497833606091254\n",
      "Objective value at epoch t=28 is 0.4645923072548784\nObjective value at epoch t=29 is 0.4640288643588628\n",
      "Objective value at epoch t=30 is 0.46360825019486757\nObjective value at epoch t=31 is 0.46343626458825393\n",
      "Objective value at epoch t=32 is 0.46312875937022163\nObjective value at epoch t=33 is 0.4629183757526429\n",
      "Objective value at epoch t=34 is 0.46268522936944806\nObjective value at epoch t=35 is 0.46247086207671173\n",
      "Objective value at epoch t=36 is 0.46230563049021534\nObjective value at epoch t=37 is 0.4621604248191089\n",
      "Objective value at epoch t=38 is 0.4620089567440393\nObjective value at epoch t=39 is 0.4619184818001739\n",
      "Objective value at epoch t=40 is 0.461789637754615\nObjective value at epoch t=41 is 0.4616804309440174\n",
      "Objective value at epoch t=42 is 0.46157861204731837\nObjective value at epoch t=43 is 0.4614988376364797\n",
      "Objective value at epoch t=44 is 0.4614173057343789\nObjective value at epoch t=45 is 0.4613531661787691\n",
      "Objective value at epoch t=46 is 0.4612831356204563\nObjective value at epoch t=47 is 0.46122624856659467\n",
      "Objective value at epoch t=48 is 0.46117545233537194\nObjective value at epoch t=49 is 0.4611303312963966\n",
      "Objective value at epoch t=50 is 0.46108768628112223\nObjective value at epoch t=51 is 0.4610531991687665\n",
      "Objective value at epoch t=52 is 0.4610183853706725\nObjective value at epoch t=53 is 0.46098711938729764\nObjective value at epoch t=54 is 0.4609604620328076\n",
      "Objective value at epoch t=55 is 0.46093577242272205\nObjective value at epoch t=56 is 0.46091262996065463\n",
      "Objective value at epoch t=57 is 0.4608913061692878\nObjective value at epoch t=58 is 0.4608749304962425\nObjective value at epoch t=59 is 0.4608582721402292\n",
      "Objective value at epoch t=60 is 0.4608436280260849\nObjective value at epoch t=61 is 0.4608304858052462\n",
      "Objective value at epoch t=62 is 0.46081866890594114\nObjective value at epoch t=63 is 0.4608078638083608\n",
      "Objective value at epoch t=64 is 0.4607982203159685\nObjective value at epoch t=65 is 0.4607895281925318\n",
      "Objective value at epoch t=66 is 0.46078168432240296\nObjective value at epoch t=67 is 0.4607745745591713\nObjective value at epoch t=68 is 0.46076826783600056\n",
      "Objective value at epoch t=69 is 0.46076248681449594\nObjective value at epoch t=70 is 0.4607574357243122\nObjective value at epoch t=71 is 0.4607527606110573\n",
      "Objective value at epoch t=72 is 0.4607486213252306\nObjective value at epoch t=73 is 0.4607448818493396\nObjective value at epoch t=74 is 0.4607414984941492\n",
      "Objective value at epoch t=75 is 0.4607384601157665\nObjective value at epoch t=76 is 0.46073573003920326\n",
      "Objective value at epoch t=77 is 0.46073326751673627\nObjective value at epoch t=78 is 0.4607310445094682\nObjective value at epoch t=79 is 0.46072905508612444\nObjective value at epoch t=80 is 0.46072725321095476\n",
      "Objective value at epoch t=81 is 0.46072563942821865\nObjective value at epoch t=82 is 0.4607241881099553\n",
      "Objective value at epoch t=83 is 0.46072287901233\nObjective value at epoch t=84 is 0.4607217004765701\nObjective value at epoch t=85 is 0.46072063830810706\n",
      "Objective value at epoch t=86 is 0.4607196856174367\nObjective value at epoch t=87 is 0.4607188264287281\n",
      "Objective value at epoch t=88 is 0.4607180536047167\nObjective value at epoch t=89 is 0.4607173577127877\nObjective value at epoch t=90 is 0.4607167312940259\n",
      "Objective value at epoch t=91 is 0.4607161682164226\nObjective value at epoch t=92 is 0.4607156601046788\n",
      "Objective value at epoch t=93 is 0.4607152043671078\nObjective value at epoch t=94 is 0.4607147934200488\nObjective value at epoch t=95 is 0.4607144234565468\n",
      "Objective value at epoch t=96 is 0.46071409081475856\nObjective value at epoch t=97 is 0.460713791080584\n",
      "Objective value at epoch t=98 is 0.4607135216461671\nObjective value at epoch t=99 is 0.46071327904679893\n"
     ],
     "output_type": "stream"
    }
   ],
   "source": [
    "lam = 1E-6\n",
    "stepsize = 0.1\n",
    "w, objvals_sgd = sgd(x_train, y_train, lam, stepsize)"
   ]
  },
  {
   "cell_type": "markdown",
   "metadata": {},
   "source": [
    "# 4. Compare GD with SGD\n",
    "\n",
    "Plot objective function values against epochs."
   ]
  },
  {
   "cell_type": "code",
   "execution_count": 13,
   "metadata": {
    "pycharm": {
     "is_executing": false
    }
   },
   "outputs": [
    {
     "data": {
      "text/plain": "<Figure size 432x288 with 1 Axes>",
      "image/png": "[encoded data removed]"
     },
     "metadata": {
      "needs_background": "light"
     },
     "output_type": "display_data"
    }
   ],
   "source": [
    "import matplotlib.pyplot as plt\n",
    "%matplotlib inline\n",
    "\n",
    "fig = plt.figure(figsize=(6, 4))\n",
    "\n",
    "epochs_gd = range(len(objvals_gd))\n",
    "epochs_sgd = range(len(objvals_sgd))\n",
    "\n",
    "line0, = plt.plot(epochs_gd, objvals_gd, '--b', LineWidth=4)\n",
    "line1, = plt.plot(epochs_sgd, objvals_sgd, '-r', LineWidth=2)\n",
    "plt.xlabel('Epochs', FontSize=20)\n",
    "plt.ylabel('Objective Value', FontSize=20)\n",
    "plt.xticks(FontSize=16)\n",
    "plt.yticks(FontSize=16)\n",
    "plt.legend([line0, line1], ['GD', 'SGD'], fontsize=20)\n",
    "plt.tight_layout()\n",
    "plt.show()\n",
    "fig.savefig('compare_gd_sgd.pdf', format='pdf', dpi=1200)"
   ]
  },
  {
   "cell_type": "markdown",
   "metadata": {},
   "source": [
    "# 5. Prediction"
   ]
  },
  {
   "cell_type": "code",
   "execution_count": 14,
   "metadata": {
    "pycharm": {
     "is_executing": false
    }
   },
   "outputs": [],
   "source": [
    "# Predict class label\n",
    "# Inputs:\n",
    "#     w: d-by-1 matrix\n",
    "#     X: m-by-d matrix\n",
    "# Return:\n",
    "#     f: m-by-1 matrix, the predictions\n",
    "def predict(w, X):\n",
    "    xw = numpy.dot(X, w)\n",
    "    f = numpy.sign(xw)\n",
    "    return f"
   ]
  },
  {
   "cell_type": "code",
   "execution_count": 15,
   "metadata": {
    "pycharm": {
     "is_executing": false
    }
   },
   "outputs": [
    {
     "name": "stdout",
     "text": [
      "Training classification error is 0.21354166666666666\n"
     ],
     "output_type": "stream"
    }
   ],
   "source": [
    "# evaluate training error\n",
    "f_train = predict(w, x_train)\n",
    "diff = numpy.abs(f_train - y_train) / 2\n",
    "error_train = numpy.mean(diff)\n",
    "print('Training classification error is ' + str(error_train))"
   ]
  },
  {
   "cell_type": "code",
   "execution_count": 16,
   "metadata": {
    "pycharm": {
     "is_executing": false
    }
   },
   "outputs": [
    {
     "name": "stdout",
     "text": [
      "Test classification error is 0.265625\n"
     ],
     "output_type": "stream"
    }
   ],
   "source": [
    "# evaluate test error\n",
    "f_test = predict(w, x_test)\n",
    "diff = numpy.abs(f_test - y_test) / 2\n",
    "error_test = numpy.mean(diff)\n",
    "print('Test classification error is ' + str(error_test))"
   ]
  },
  {
   "cell_type": "markdown",
   "metadata": {},
   "source": [
    "# 6. Mini-batch SGD (fill the code)\n",
    "\n"
   ]
  },
  {
   "cell_type": "markdown",
   "metadata": {},
   "source": [
    "## 6.1. Compute the objective $Q_I$ and its gradient using a batch of samples\n",
    "\n",
    "Define $Q_I (w) = \\frac{1}{b} \\sum_{i \\in I} \\log \\Big( 1 + \\exp \\big( - y_i x_i^T w \\big) \\Big) + \\frac{\\lambda}{2} \\| w \\|_2^2 $, where $I$ is a set containing $b$ indices randomly drawn from $\\{ 1, \\cdots , n \\}$ without replacement.\n",
    "\n",
    "The stochastic gradient at $w$ is $g_I = \\frac{\\partial Q_I }{ \\partial w} = \\frac{1}{b} \\sum_{i \\in I} \\frac{- y_i x_i }{1 + \\exp ( y_i x_i^T w)} + \\lambda w$."
   ]
  },
  {
   "cell_type": "code",
   "execution_count": 17,
   "metadata": {
    "pycharm": {
     "is_executing": false
    }
   },
   "outputs": [],
   "source": [
    "# Calculate the objective Q_I and the gradient of Q_I\n",
    "# Inputs:\n",
    "#     w: d-by-1 matrix\n",
    "#     xi: b-by-d matrix\n",
    "#     yi: b-by-1 matrix\n",
    "#     lam: scalar, the regularization parameter\n",
    "#     b: integer, the batch size\n",
    "# Return:\n",
    "#     obj: scalar, the objective Q_i\n",
    "#     g: d-by-1 matrix, gradient of Q_i\n",
    "def mb_stochastic_objective_gradient(w, xi, yi, lam, b):\n",
    "    # Fill the function\n",
    "    # Follow the implementation of stochastic_objective_gradient\n",
    "    # Use matrix-vector multiplication; do not use FOR LOOP of vector-vector multiplications\n",
    "    d = xi.shape[1]\n",
    "    yx = numpy.multiply(yi, xi) # b-by-d matrix\n",
    "    yxw = numpy.dot(yx, w) # b-by-1 matrix\n",
    "    \n",
    "    # calculate objective function Q_i\n",
    "    loss = numpy.mean(numpy.log(1 + numpy.exp(-yxw))) # scalar\n",
    "    reg = lam / 2 * numpy.sum(w * w) # scalar\n",
    "    obj = loss + reg\n",
    "    \n",
    "    # calculate stochastic gradient    \n",
    "    vec1 = numpy.exp(yxw) # b-by-1 matrix\n",
    "    vec2 = numpy.divide(yx, 1 + vec1) # b-by-d matrix\n",
    "    vec3 = -numpy.mean(vec2, axis=0).reshape(d, 1) # d-by-1 matrix    \n",
    "    g = vec3 + lam * w # d-by-1 matrix\n",
    "    \n",
    "    return obj, g"
   ]
  },
  {
   "cell_type": "markdown",
   "metadata": {},
   "source": [
    "## 6.2. Implement mini-batch SGD\n",
    "\n",
    "Hints:\n",
    "1. In every epoch, randomly permute the $n$ samples (just like SGD).\n",
    "2. Each epoch has $\\frac{n}{b}$ iterations. In every iteration, use $b$ samples, and compute the gradient and objective using the ``mb_stochastic_objective_gradient`` function. In the next iteration, use the next $b$ samples, and so on.\n",
    "3. Note that ``n mod b`` may not be zero. For example, if $n=1095$ and $b=100$, then there will be $95$ samples left. If the $95$ samples are not used, then the computed objective function will be incorrect. You need to take this effect into account in your implementation of the ``mb_sgd`` function."
   ]
  },
  {
   "cell_type": "code",
   "execution_count": 18,
   "metadata": {
    "pycharm": {
     "is_executing": false
    }
   },
   "outputs": [],
   "source": [
    "# Mini-Batch SGD for solving logistic regression\n",
    "# Inputs:\n",
    "#     x: n-by-d matrix\n",
    "#     y: n-by-1 matrix\n",
    "#     lam: scalar, the regularization parameter\n",
    "#     b: integer, the batch size\n",
    "#     stepsize: scalar\n",
    "#     max_epoch: integer, the maximal epochs\n",
    "#     w: d-by-1 matrix, initialization of w\n",
    "# Return:\n",
    "#     w: the solution\n",
    "#     objvals: record of each iteration's objective value\n",
    "def mb_sgd(x, y, lam, b, stepsize, max_epoch=100, w=None):\n",
    "    # Fill the function\n",
    "    # Follow the implementation of sgd\n",
    "    # Record one objective value per epoch (not per iteration!)\n",
    "    n, d = x.shape\n",
    "    objvals = numpy.zeros(max_epoch) # store the objective values\n",
    "    if w is None:\n",
    "        w = numpy.zeros((d, 1)) # zero initialization\n",
    "    \n",
    "    for t in range(max_epoch):\n",
    "        # randomly shuffle the samples\n",
    "        rand_indices = numpy.random.permutation(n).reshape((n // b, b))\n",
    "        objval = 0\n",
    "        for batch in rand_indices:\n",
    "            xi = x[batch, :]\n",
    "            yi = y[batch, :]            \n",
    "            obj, g = mb_stochastic_objective_gradient(w, xi, yi, lam, b)\n",
    "            objval += obj\n",
    "            w -= stepsize * g\n",
    "            \n",
    "        stepsize *= 0.9 # decrease step size\n",
    "        objval /= n / b\n",
    "        objvals[t] = objval\n",
    "        print('Objective value at epoch t=' + str(t) + ' is ' + str(objval))    \n",
    "    return w, objvals"
   ]
  },
  {
   "cell_type": "markdown",
   "metadata": {},
   "source": [
    "## 6.3. Run MB-SGD"
   ]
  },
  {
   "cell_type": "code",
   "execution_count": 19,
   "metadata": {
    "pycharm": {
     "is_executing": false
    }
   },
   "outputs": [
    {
     "name": "stdout",
     "text": [
      "Objective value at epoch t=0 is 0.5424494455645688\nObjective value at epoch t=1 is 0.4831939014799623\nObjective value at epoch t=2 is 0.4703822943518985\nObjective value at epoch t=3 is 0.4697492653794998\nObjective value at epoch t=4 is 0.46817283394038206\nObjective value at epoch t=5 is 0.46611433048176626\n",
      "Objective value at epoch t=6 is 0.46547912928775464\nObjective value at epoch t=7 is 0.4652151249799565\nObjective value at epoch t=8 is 0.46450444100377314\nObjective value at epoch t=9 is 0.46416989944879616\nObjective value at epoch t=10 is 0.4635262107066968\nObjective value at epoch t=11 is 0.4633687250836632\nObjective value at epoch t=12 is 0.4632431295218248\nObjective value at epoch t=13 is 0.4628437453668788\n",
      "Objective value at epoch t=14 is 0.4627315654666181\nObjective value at epoch t=15 is 0.4623183355805701\nObjective value at epoch t=16 is 0.4622458378222843\nObjective value at epoch t=17 is 0.46220177399714224\nObjective value at epoch t=18 is 0.4620832922316839\nObjective value at epoch t=19 is 0.4619040962106173\nObjective value at epoch t=20 is 0.46181255843499414\n",
      "Objective value at epoch t=21 is 0.46176295350431773\nObjective value at epoch t=22 is 0.4615518251209956\nObjective value at epoch t=23 is 0.4615572972521881\nObjective value at epoch t=24 is 0.4614628402171051\nObjective value at epoch t=25 is 0.461350840621678\nObjective value at epoch t=26 is 0.461298213435924\n",
      "Objective value at epoch t=27 is 0.46126774146446725\nObjective value at epoch t=28 is 0.461145377693559\nObjective value at epoch t=29 is 0.4611650959296558\nObjective value at epoch t=30 is 0.4610564360754172\nObjective value at epoch t=31 is 0.46110837982196656\nObjective value at epoch t=32 is 0.4610280566821753\n",
      "Objective value at epoch t=33 is 0.4609929147874003\nObjective value at epoch t=34 is 0.4609844950010399\nObjective value at epoch t=35 is 0.46093136307992666\nObjective value at epoch t=36 is 0.46093150598798477\nObjective value at epoch t=37 is 0.4609195610555638\nObjective value at epoch t=38 is 0.46087505690993186\n",
      "Objective value at epoch t=39 is 0.46086947575178017\nObjective value at epoch t=40 is 0.4608660720677657\nObjective value at epoch t=41 is 0.46084449602703415\nObjective value at epoch t=42 is 0.4608266662676174\nObjective value at epoch t=43 is 0.46081250625929726\nObjective value at epoch t=44 is 0.46081059852054296\n",
      "Objective value at epoch t=45 is 0.46079396580336796\nObjective value at epoch t=46 is 0.4607927618900207\nObjective value at epoch t=47 is 0.4607888166024753\nObjective value at epoch t=48 is 0.46077538636745746\nObjective value at epoch t=49 is 0.46076696768919934\nObjective value at epoch t=50 is 0.46076226984646623\nObjective value at epoch t=51 is 0.4607595952828375\n",
      "Objective value at epoch t=52 is 0.46075683087998315\nObjective value at epoch t=53 is 0.4607557958163722\nObjective value at epoch t=54 is 0.46075002286732925\nObjective value at epoch t=55 is 0.4607484849552891\nObjective value at epoch t=56 is 0.46074512599783163\nObjective value at epoch t=57 is 0.4607398841304844\nObjective value at epoch t=58 is 0.4607403694201482\nObjective value at epoch t=59 is 0.46073751765561366\n",
      "Objective value at epoch t=60 is 0.46073412784789114\nObjective value at epoch t=61 is 0.4607341632767368\nObjective value at epoch t=62 is 0.46073154239830455\nObjective value at epoch t=63 is 0.4607293553955206\nObjective value at epoch t=64 is 0.46072976653354314\nObjective value at epoch t=65 is 0.4607279470538125\nObjective value at epoch t=66 is 0.46072606424358387\n",
      "Objective value at epoch t=67 is 0.4607261714356288\nObjective value at epoch t=68 is 0.46072544396520904\nObjective value at epoch t=69 is 0.46072498142765334\nObjective value at epoch t=70 is 0.46072333350233424\nObjective value at epoch t=71 is 0.46072277377914617\nObjective value at epoch t=72 is 0.4607229855408506\nObjective value at epoch t=73 is 0.4607220750345915\nObjective value at epoch t=74 is 0.46072161207386375\nObjective value at epoch t=75 is 0.4607215650138126\nObjective value at epoch t=76 is 0.4607210998031599\nObjective value at epoch t=77 is 0.46072112225160045\n",
      "Objective value at epoch t=78 is 0.460720340294604\nObjective value at epoch t=79 is 0.4607200503465041\nObjective value at epoch t=80 is 0.46071998538053055\nObjective value at epoch t=81 is 0.4607197366992154\nObjective value at epoch t=82 is 0.4607195124347789\nObjective value at epoch t=83 is 0.4607193822296478\nObjective value at epoch t=84 is 0.4607192701403414\nObjective value at epoch t=85 is 0.4607190572363124\nObjective value at epoch t=86 is 0.46071902562111994\nObjective value at epoch t=87 is 0.46071894562697085\n",
      "Objective value at epoch t=88 is 0.46071881431082384\nObjective value at epoch t=89 is 0.46071874557951076\nObjective value at epoch t=90 is 0.46071863957167053\nObjective value at epoch t=91 is 0.4607186406965431\nObjective value at epoch t=92 is 0.4607185681902257\nObjective value at epoch t=93 is 0.4607185641101752\nObjective value at epoch t=94 is 0.46071848460493453\nObjective value at epoch t=95 is 0.46071840121984814\nObjective value at epoch t=96 is 0.46071838433760465\nObjective value at epoch t=97 is 0.4607183140279235\n",
      "Objective value at epoch t=98 is 0.46071828821875055\nObjective value at epoch t=99 is 0.46071826726181686\n"
     ],
     "output_type": "stream"
    }
   ],
   "source": [
    "# MB-SGD with batch size b=8\n",
    "lam = 1E-6 # do not change\n",
    "b = 8 # do not change\n",
    "stepsize = 0.1 # you must tune this parameter\n",
    "\n",
    "w, objvals_mbsgd8 = mb_sgd(x_train, y_train, lam, b, stepsize)"
   ]
  },
  {
   "cell_type": "code",
   "execution_count": 20,
   "metadata": {
    "pycharm": {
     "is_executing": false
    }
   },
   "outputs": [
    {
     "name": "stdout",
     "text": [
      "Objective value at epoch t=0 is 0.6496759228428262\nObjective value at epoch t=1 is 0.5849676086524741\nObjective value at epoch t=2 is 0.5528546566378864\nObjective value at epoch t=3 is 0.5333353065318004\nObjective value at epoch t=4 is 0.5210164653771011\nObjective value at epoch t=5 is 0.512545630893499\nObjective value at epoch t=6 is 0.5059247609083134\nObjective value at epoch t=7 is 0.5013694902835482\nObjective value at epoch t=8 is 0.4974354846637965\nObjective value at epoch t=9 is 0.49460439267089623\nObjective value at epoch t=10 is 0.4920338877585116\nObjective value at epoch t=11 is 0.49012806367705636\nObjective value at epoch t=12 is 0.4884268052643939\nObjective value at epoch t=13 is 0.4870038390363993\nObjective value at epoch t=14 is 0.48589695470940897\nObjective value at epoch t=15 is 0.48483125482572437\nObjective value at epoch t=16 is 0.48400532585801237\nObjective value at epoch t=17 is 0.4832999820096718\nObjective value at epoch t=18 is 0.48265599314758034\nObjective value at epoch t=19 is 0.48211146491949236\nObjective value at epoch t=20 is 0.48161682434158565\nObjective value at epoch t=21 is 0.4811980814891224\nObjective value at epoch t=22 is 0.48079255422417855\nObjective value at epoch t=23 is 0.48046618266121804\nObjective value at epoch t=24 is 0.48017047446010824\nObjective value at epoch t=25 is 0.47990280638569566\nObjective value at epoch t=26 is 0.4796897648459293\nObjective value at epoch t=27 is 0.4794904567275412\nObjective value at epoch t=28 is 0.4792889809542547\nObjective value at epoch t=29 is 0.4791473116266059\nObjective value at epoch t=30 is 0.4789853841277776\nObjective value at epoch t=31 is 0.4788599838812508\nObjective value at epoch t=32 is 0.4787520490696083\nObjective value at epoch t=33 is 0.47864718598267153\nObjective value at epoch t=34 is 0.47854995481110485\n",
      "Objective value at epoch t=35 is 0.4784791342852026\nObjective value at epoch t=36 is 0.47839479545324515\nObjective value at epoch t=37 is 0.4783289160717541\nObjective value at epoch t=38 is 0.4782727943761741\nObjective value at epoch t=39 is 0.4782143171660679\nObjective value at epoch t=40 is 0.4781727724285939\n",
      "Objective value at epoch t=41 is 0.47813201264534516\nObjective value at epoch t=42 is 0.478088174505263\nObjective value at epoch t=43 is 0.478057231638938\nObjective value at epoch t=44 is 0.4780261547089402\nObjective value at epoch t=45 is 0.4779988441185904\nObjective value at epoch t=46 is 0.4779739090738595\nObjective value at epoch t=47 is 0.4779536950385331\nObjective value at epoch t=48 is 0.47793299800768324\nObjective value at epoch t=49 is 0.47791443710289155\nObjective value at epoch t=50 is 0.47789924903469877\nObjective value at epoch t=51 is 0.47788387031119384\nObjective value at epoch t=52 is 0.4778703196119792\nObjective value at epoch t=53 is 0.47786045046931985\nObjective value at epoch t=54 is 0.4778492500843017\nObjective value at epoch t=55 is 0.47783901197802514\nObjective value at epoch t=56 is 0.47782981999895136\nObjective value at epoch t=57 is 0.4778225993210055\nObjective value at epoch t=58 is 0.4778165962554136\nObjective value at epoch t=59 is 0.4778101076455875\nObjective value at epoch t=60 is 0.4778038248926078\nObjective value at epoch t=61 is 0.47779893172420973\nObjective value at epoch t=62 is 0.47779406590273976\nObjective value at epoch t=63 is 0.47778990928336806\nObjective value at epoch t=64 is 0.4777862574059653\nObjective value at epoch t=65 is 0.4777829891980644\nObjective value at epoch t=66 is 0.4777798392620142\nObjective value at epoch t=67 is 0.4777775524509526\nObjective value at epoch t=68 is 0.47777485718097323\nObjective value at epoch t=69 is 0.4777728484971983\nObjective value at epoch t=70 is 0.47777079874697354\nObjective value at epoch t=71 is 0.47776918788979333\nObjective value at epoch t=72 is 0.4777673666557175\nObjective value at epoch t=73 is 0.4777661899977954\nObjective value at epoch t=74 is 0.47776488578218845\n",
      "Objective value at epoch t=75 is 0.4777636412099296\nObjective value at epoch t=76 is 0.4777625919576167\nObjective value at epoch t=77 is 0.477761671075942\nObjective value at epoch t=78 is 0.47776084535959107\nObjective value at epoch t=79 is 0.4777600789547999\nObjective value at epoch t=80 is 0.4777594010581379\nObjective value at epoch t=81 is 0.47775886054380073\n",
      "Objective value at epoch t=82 is 0.477758224215468\nObjective value at epoch t=83 is 0.4777577536288541\nObjective value at epoch t=84 is 0.47775727562620474\nObjective value at epoch t=85 is 0.4777569202213323\nObjective value at epoch t=86 is 0.4777565068812391\nObjective value at epoch t=87 is 0.47775618394817015\nObjective value at epoch t=88 is 0.4777558986407693\nObjective value at epoch t=89 is 0.47775566608757775\nObjective value at epoch t=90 is 0.4777554101865664\nObjective value at epoch t=91 is 0.47775519913133224\nObjective value at epoch t=92 is 0.47775501218645083\nObjective value at epoch t=93 is 0.47775484295330806\nObjective value at epoch t=94 is 0.4777546956343217\nObjective value at epoch t=95 is 0.47775454890907887\nObjective value at epoch t=96 is 0.4777544376806999\nObjective value at epoch t=97 is 0.47775431834685694\nObjective value at epoch t=98 is 0.4777541971393648\nObjective value at epoch t=99 is 0.4777541120277604\n"
     ],
     "output_type": "stream"
    }
   ],
   "source": [
    "# MB-SGD with batch size b=64\n",
    "lam = 1E-6 # do not change\n",
    "b = 64 # do not change\n",
    "stepsize = 0.1 # you must tune this parameter\n",
    "\n",
    "w, objvals_mbsgd64 = mb_sgd(x_train, y_train, lam, b, stepsize)"
   ]
  },
  {
   "cell_type": "markdown",
   "metadata": {},
   "source": [
    "# 7. Plot and compare GD, SGD, and MB-SGD"
   ]
  },
  {
   "cell_type": "markdown",
   "metadata": {},
   "source": [
    "You are required to compare the following algorithms:\n",
    "\n",
    "- Gradient descent (GD)\n",
    "\n",
    "- SGD\n",
    "\n",
    "- MB-SGD with b=8\n",
    "\n",
    "- MB-SGD with b=64\n",
    "\n",
    "Follow the code in Section 4 to plot ```objective function value``` against ```epochs```. There should be four curves in the plot; each curve corresponds to one algorithm."
   ]
  },
  {
   "cell_type": "markdown",
   "metadata": {},
   "source": [
    "Hint: Logistic regression with $\\ell_2$-norm regularization is a strongly convex optimization problem. All the algorithms will converge to the same solution. In the end, the ``objective function value`` of the 4 algorithms will be the same. If not the same, your implementation must be wrong. "
   ]
  },
  {
   "cell_type": "code",
   "execution_count": 21,
   "metadata": {
    "pycharm": {
     "is_executing": false,
     "name": "#%%\n"
    }
   },
   "outputs": [
    {
     "data": {
      "text/plain": "<Figure size 864x576 with 1 Axes>",
      "image/png": "[encoded data removed]"
     },
     "metadata": {
      "needs_background": "light"
     },
     "output_type": "display_data"
    }
   ],
   "source": [
    "# plot the 4 curves:\n",
    "import matplotlib.pyplot as plt\n",
    "%matplotlib inline\n",
    "\n",
    "fig = plt.figure(figsize=(12, 8))\n",
    "\n",
    "epochs_gd = range(len(objvals_gd))\n",
    "epochs_sgd = range(len(objvals_sgd))\n",
    "epochs_mbsgd8 = range(len(objvals_mbsgd8))\n",
    "epochs_mbsgd64 = range(len(objvals_mbsgd64))\n",
    "\n",
    "line0, = plt.plot(epochs_gd, objvals_gd, '--b', LineWidth=4)\n",
    "line1, = plt.plot(epochs_sgd, objvals_sgd, '-r', LineWidth=2)\n",
    "line2, = plt.plot(epochs_mbsgd8, objvals_mbsgd8, '-.y', LineWidth=2)\n",
    "line3, = plt.plot(epochs_mbsgd64, objvals_mbsgd64, '*c', LineWidth=2)\n",
    "plt.xlabel('Epochs', FontSize=20)\n",
    "plt.ylabel('Objective Value', FontSize=20)\n",
    "plt.xticks(FontSize=16)\n",
    "plt.yticks(FontSize=16)\n",
    "plt.legend([line0, line1, line2, line3], ['GD', 'SGD', 'MB-SGD8', 'MB-SGD64'], fontsize=20)\n",
    "plt.tight_layout()\n",
    "plt.show()\n",
    "fig.savefig('compare_gd_sgd_mbsgd.pdf', format='pdf', dpi=1200)\n",
    "\n"
   ]
  }
 ],
 "metadata": {
  "kernelspec": {
   "display_name": "Python 3",
   "language": "python",
   "name": "python3"
  },
  "language_info": {
   "codemirror_mode": {
    "name": "ipython",
    "version": 3
   },
   "file_extension": ".py",
   "mimetype": "text/x-python",
   "name": "python",
   "nbconvert_exporter": "python",
   "pygments_lexer": "ipython3",
   "version": "3.5.2"
  },
  "pycharm": {
   "stem_cell": {
    "cell_type": "raw",
    "source": [],
    "metadata": {
     "collapsed": false
    }
   }
  }
 },
 "nbformat": 4,
 "nbformat_minor": 2
}
