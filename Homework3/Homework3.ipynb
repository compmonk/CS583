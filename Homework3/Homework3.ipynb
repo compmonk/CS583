{
  "nbformat": 4,
  "nbformat_minor": 0,
  "metadata": {
    "kernelspec": {
      "name": "python3",
      "display_name": "Python 3"
    },
    "language_info": {
      "codemirror_mode": {
        "name": "ipython",
        "version": 3
      },
      "file_extension": ".py",
      "mimetype": "text/x-python",
      "name": "python",
      "nbconvert_exporter": "python",
      "pygments_lexer": "ipython3",
      "version": "3.6.4"
    },
    "pycharm": {
      "stem_cell": {
        "cell_type": "raw",
        "source": [],
        "metadata": {
          "collapsed": false
        }
      }
    },
    "colab": {
      "name": "Homework3.ipynb",
      "provenance": [],
      "collapsed_sections": []
    },
    "accelerator": "GPU"
  },
  "cells": [
    {
      "cell_type": "markdown",
      "metadata": {
        "id": "H3d65kKYoMs5",
        "colab_type": "text"
      },
      "source": [
        "# Home 3: Build a CNN for image recognition.\n",
        "\n",
        "### Name: Zubair Shaikh\n"
      ]
    },
    {
      "cell_type": "markdown",
      "metadata": {
        "id": "NU4fZ2-koMs8",
        "colab_type": "text"
      },
      "source": [
        "## 0. You will do the following:\n",
        "\n",
        "1. Read, complete, and run the code.\n",
        "\n",
        "2. **Make substantial improvements** to maximize the accurcy.\n",
        "    \n",
        "3. Convert the .IPYNB file to .HTML file.\n",
        "\n",
        "    * The HTML file must contain the code and the output after execution.\n",
        "    \n",
        "    \n",
        "4. Upload this .HTML file to your Google Drive, Dropbox, or Github repo.\n",
        "\n",
        "4. Submit the link to this .HTML file to Canvas.\n",
        "\n",
        "    * Example: https://github.com/wangshusen/CS583-2019F/blob/master/homework/HM3/HM3.html\n",
        "\n",
        "\n",
        "## Requirements:\n",
        "\n",
        "1. You can use whatever CNN architecture, including VGG, Inception, and ResNet. However, you must build the networks layer by layer. You must NOT import the archetectures from ```keras.applications```.\n",
        "\n",
        "2. Make sure ```BatchNormalization``` is between a ```Conv```/```Dense``` layer and an ```activation``` layer.\n",
        "\n",
        "3. If you want to regularize a ```Conv```/```Dense``` layer, you should place a ```Dropout``` layer **before** the ```Conv```/```Dense``` layer.\n",
        "\n",
        "4. An accuracy above 70% is considered reasonable. An accuracy above 80% is considered good. Without data augmentation, achieving 80% accuracy is difficult.\n",
        "\n",
        "\n",
        "## Google Colab\n",
        "\n",
        "- If you do not have GPU, the training of a CNN can be slow. Google Colab is a good option.\n",
        "\n",
        "- Keep in mind that you must download it as an IPYNB file and then use IPython Notebook to convert it to HTML.\n",
        "\n",
        "- Also keep in mind that the IPYNB and HTML files must contain the outputs. (Otherwise, the instructor will not be able to know the correctness and performance.) Do the followings to keep the outputs.\n",
        "\n",
        "- In Colab, go to ```Runtime``` --> ```Change runtime type``` --> Do NOT check ```Omit code cell output when saving this notebook```. In this way, the downloaded IPYNB file contains the outputs."
      ]
    },
    {
      "cell_type": "markdown",
      "metadata": {
        "id": "uVkvmOnnoMs9",
        "colab_type": "text"
      },
      "source": [
        "## 1. Data preparation"
      ]
    },
    {
      "cell_type": "markdown",
      "metadata": {
        "id": "TGjqCsw9oMs-",
        "colab_type": "text"
      },
      "source": [
        "### 1.1. Load data\n"
      ]
    },
    {
      "cell_type": "code",
      "metadata": {
        "id": "YmR2Qlm6oMs_",
        "colab_type": "code",
        "outputId": "c69cc2b9-6427-47f6-d037-15b8a28be63c",
        "colab": {
          "base_uri": "https://localhost:8080/",
          "height": 172
        }
      },
      "source": [
        "from keras.datasets import cifar10\n",
        "import numpy\n",
        "\n",
        "(x_train, y_train), (x_test, y_test) = cifar10.load_data()\n",
        "\n",
        "print('shape of x_train: ' + str(x_train.shape))\n",
        "print('shape of y_train: ' + str(y_train.shape))\n",
        "print('shape of x_test: ' + str(x_test.shape))\n",
        "print('shape of y_test: ' + str(y_test.shape))\n",
        "print('number of classes: ' + str(numpy.max(y_train) - numpy.min(y_train) + 1))"
      ],
      "execution_count": 1,
      "outputs": [
        {
          "output_type": "stream",
          "text": [
            "Using TensorFlow backend.\n"
          ],
          "name": "stderr"
        },
        {
          "output_type": "display_data",
          "data": {
            "text/html": [
              "<p style=\"color: red;\">\n",
              "The default version of TensorFlow in Colab will soon switch to TensorFlow 2.x.<br>\n",
              "We recommend you <a href=\"https://www.tensorflow.org/guide/migrate\" target=\"_blank\">upgrade</a> now \n",
              "or ensure your notebook will continue to use TensorFlow 1.x via the <code>%tensorflow_version 1.x</code> magic:\n",
              "<a href=\"https://colab.research.google.com/notebooks/tensorflow_version.ipynb\" target=\"_blank\">more info</a>.</p>\n"
            ],
            "text/plain": [
              "<IPython.core.display.HTML object>"
            ]
          },
          "metadata": {
            "tags": []
          }
        },
        {
          "output_type": "stream",
          "text": [
            "shape of x_train: (50000, 32, 32, 3)\n",
            "shape of y_train: (50000, 1)\n",
            "shape of x_test: (10000, 32, 32, 3)\n",
            "shape of y_test: (10000, 1)\n",
            "number of classes: 10\n"
          ],
          "name": "stdout"
        }
      ]
    },
    {
      "cell_type": "markdown",
      "metadata": {
        "id": "8CyveC_AoMtE",
        "colab_type": "text"
      },
      "source": [
        "### 1.2. One-hot encode the labels\n",
        "\n",
        "In the input, a label is a scalar in $\\{0, 1, \\cdots , 9\\}$. One-hot encode transform such a scalar to a $10$-dim vector. E.g., a scalar ```y_train[j]=3``` is transformed to the vector ```y_train_vec[j]=[0, 0, 0, 1, 0, 0, 0, 0, 0, 0]```.\n",
        "\n",
        "1. Define a function ```to_one_hot``` that transforms an $n\\times 1$ array to a $n\\times 10$ matrix.\n",
        "\n",
        "2. Apply the function to ```y_train``` and ```y_test```."
      ]
    },
    {
      "cell_type": "code",
      "metadata": {
        "id": "a27YDlhMoMtG",
        "colab_type": "code",
        "outputId": "87a48c82-17c4-4f40-c836-9eef9145bacd",
        "colab": {
          "base_uri": "https://localhost:8080/",
          "height": 89
        }
      },
      "source": [
        "def to_one_hot(y, num_class=10):\n",
        "  return numpy.eye(num_class)[y.reshape(-1)]\n",
        "\n",
        "y_train_vec = to_one_hot(y_train)\n",
        "y_test_vec = to_one_hot(y_test)\n",
        "\n",
        "print('Shape of y_train_vec: ' + str(y_train_vec.shape))\n",
        "print('Shape of y_test_vec: ' + str(y_test_vec.shape))\n",
        "\n",
        "print(y_train[0])\n",
        "print(y_train_vec[0])"
      ],
      "execution_count": 2,
      "outputs": [
        {
          "output_type": "stream",
          "text": [
            "Shape of y_train_vec: (50000, 10)\n",
            "Shape of y_test_vec: (10000, 10)\n",
            "[6]\n",
            "[0. 0. 0. 0. 0. 0. 1. 0. 0. 0.]\n"
          ],
          "name": "stdout"
        }
      ]
    },
    {
      "cell_type": "markdown",
      "metadata": {
        "id": "i3e8JEEToMtL",
        "colab_type": "text"
      },
      "source": [
        "#### Remark: the outputs should be\n",
        "* Shape of y_train_vec: (50000, 10)\n",
        "* Shape of y_test_vec: (10000, 10)\n",
        "* [6]\n",
        "* [0. 0. 0. 0. 0. 0. 1. 0. 0. 0.]"
      ]
    },
    {
      "cell_type": "markdown",
      "metadata": {
        "id": "IpwktdHjoMtM",
        "colab_type": "text"
      },
      "source": [
        "### 1.3. Randomly partition the training set to training and validation sets\n",
        "\n",
        "Randomly partition the 50K training samples to 2 sets:\n",
        "* a training set containing 40K samples\n",
        "* a validation set containing 10K samples\n"
      ]
    },
    {
      "cell_type": "code",
      "metadata": {
        "id": "LZPVbLXdoMtO",
        "colab_type": "code",
        "outputId": "be61234d-da27-4544-f053-1508979e3fd7",
        "colab": {
          "base_uri": "https://localhost:8080/",
          "height": 89
        }
      },
      "source": [
        "rand_indices = numpy.random.permutation(50000)\n",
        "train_indices = rand_indices[0:40000]\n",
        "valid_indices = rand_indices[40000:50000]\n",
        "\n",
        "x_val = x_train[valid_indices, :]\n",
        "y_val = y_train_vec[valid_indices, :]\n",
        "\n",
        "x_tr = x_train[train_indices, :]\n",
        "y_tr = y_train_vec[train_indices, :]\n",
        "\n",
        "print('Shape of x_tr: ' + str(x_tr.shape))\n",
        "print('Shape of y_tr: ' + str(y_tr.shape))\n",
        "print('Shape of x_val: ' + str(x_val.shape))\n",
        "print('Shape of y_val: ' + str(y_val.shape))"
      ],
      "execution_count": 3,
      "outputs": [
        {
          "output_type": "stream",
          "text": [
            "Shape of x_tr: (40000, 32, 32, 3)\n",
            "Shape of y_tr: (40000, 10)\n",
            "Shape of x_val: (10000, 32, 32, 3)\n",
            "Shape of y_val: (10000, 10)\n"
          ],
          "name": "stdout"
        }
      ]
    },
    {
      "cell_type": "markdown",
      "metadata": {
        "id": "s0OAw-gLoMtS",
        "colab_type": "text"
      },
      "source": [
        "## 2. Build a CNN and tune its hyper-parameters\n",
        "\n",
        "1. Build a convolutional neural network model\n",
        "2. Use the validation data to tune the hyper-parameters (e.g., network structure, and optimization algorithm)\n",
        "    * Do NOT use test data for hyper-parameter tuning!!!\n",
        "3. Try to achieve a validation accuracy as high as possible."
      ]
    },
    {
      "cell_type": "markdown",
      "metadata": {
        "id": "xGAvFfTFoMtU",
        "colab_type": "text"
      },
      "source": [
        "### Remark: \n",
        "\n",
        "The following CNN is just an example. You are supposed to make **substantial improvements** such as:\n",
        "* Add more layers.\n",
        "* Use regularizations, e.g., dropout.\n",
        "* Use batch normalization."
      ]
    },
    {
      "cell_type": "code",
      "metadata": {
        "id": "zv0HdYUpoMtW",
        "colab_type": "code",
        "outputId": "ace924b0-4cab-40ed-db07-3e4db5209226",
        "colab": {
          "base_uri": "https://localhost:8080/",
          "height": 1000
        }
      },
      "source": [
        "from keras.layers import Conv2D, MaxPooling2D, Flatten, Dense, BatchNormalization, Activation, Dropout\n",
        "from keras.models import Sequential\n",
        "\n",
        "model = Sequential()\n",
        "model.add(Conv2D(32, (3, 3), padding='same', input_shape=(32, 32, 3)))\n",
        "model.add(BatchNormalization())\n",
        "model.add(Activation('relu'))\n",
        "\n",
        "model.add(Conv2D(32, (3, 3), activation='relu'))\n",
        "model.add(BatchNormalization())\n",
        "model.add(Activation('relu'))\n",
        "model.add(MaxPooling2D((2, 2)))\n",
        "\n",
        "model.add(Conv2D(64, (3, 3), activation='relu', padding='same'))\n",
        "model.add(BatchNormalization())\n",
        "model.add(Activation('relu'))\n",
        "\n",
        "model.add(Conv2D(64, (3, 3), activation='relu'))\n",
        "model.add(BatchNormalization())\n",
        "model.add(Activation('relu'))\n",
        "\n",
        "model.add(MaxPooling2D((2, 2)))\n",
        "model.add(Flatten())\n",
        "model.add(Dropout(0.5))\n",
        "\n",
        "model.add(Dense(512))\n",
        "model.add(BatchNormalization())\n",
        "model.add(Activation('relu'))\n",
        "model.add(Dense(10, activation='softmax'))\n",
        "\n",
        "model.summary()"
      ],
      "execution_count": 4,
      "outputs": [
        {
          "output_type": "stream",
          "text": [
            "WARNING:tensorflow:From /usr/local/lib/python3.6/dist-packages/keras/backend/tensorflow_backend.py:66: The name tf.get_default_graph is deprecated. Please use tf.compat.v1.get_default_graph instead.\n",
            "\n",
            "WARNING:tensorflow:From /usr/local/lib/python3.6/dist-packages/keras/backend/tensorflow_backend.py:541: The name tf.placeholder is deprecated. Please use tf.compat.v1.placeholder instead.\n",
            "\n",
            "WARNING:tensorflow:From /usr/local/lib/python3.6/dist-packages/keras/backend/tensorflow_backend.py:4432: The name tf.random_uniform is deprecated. Please use tf.random.uniform instead.\n",
            "\n",
            "WARNING:tensorflow:From /usr/local/lib/python3.6/dist-packages/keras/backend/tensorflow_backend.py:190: The name tf.get_default_session is deprecated. Please use tf.compat.v1.get_default_session instead.\n",
            "\n",
            "WARNING:tensorflow:From /usr/local/lib/python3.6/dist-packages/keras/backend/tensorflow_backend.py:197: The name tf.ConfigProto is deprecated. Please use tf.compat.v1.ConfigProto instead.\n",
            "\n",
            "WARNING:tensorflow:From /usr/local/lib/python3.6/dist-packages/keras/backend/tensorflow_backend.py:203: The name tf.Session is deprecated. Please use tf.compat.v1.Session instead.\n",
            "\n",
            "WARNING:tensorflow:From /usr/local/lib/python3.6/dist-packages/keras/backend/tensorflow_backend.py:207: The name tf.global_variables is deprecated. Please use tf.compat.v1.global_variables instead.\n",
            "\n",
            "WARNING:tensorflow:From /usr/local/lib/python3.6/dist-packages/keras/backend/tensorflow_backend.py:216: The name tf.is_variable_initialized is deprecated. Please use tf.compat.v1.is_variable_initialized instead.\n",
            "\n",
            "WARNING:tensorflow:From /usr/local/lib/python3.6/dist-packages/keras/backend/tensorflow_backend.py:223: The name tf.variables_initializer is deprecated. Please use tf.compat.v1.variables_initializer instead.\n",
            "\n",
            "WARNING:tensorflow:From /usr/local/lib/python3.6/dist-packages/keras/backend/tensorflow_backend.py:2041: The name tf.nn.fused_batch_norm is deprecated. Please use tf.compat.v1.nn.fused_batch_norm instead.\n",
            "\n",
            "WARNING:tensorflow:From /usr/local/lib/python3.6/dist-packages/keras/backend/tensorflow_backend.py:148: The name tf.placeholder_with_default is deprecated. Please use tf.compat.v1.placeholder_with_default instead.\n",
            "\n",
            "WARNING:tensorflow:From /usr/local/lib/python3.6/dist-packages/keras/backend/tensorflow_backend.py:4267: The name tf.nn.max_pool is deprecated. Please use tf.nn.max_pool2d instead.\n",
            "\n",
            "WARNING:tensorflow:From /usr/local/lib/python3.6/dist-packages/keras/backend/tensorflow_backend.py:3733: calling dropout (from tensorflow.python.ops.nn_ops) with keep_prob is deprecated and will be removed in a future version.\n",
            "Instructions for updating:\n",
            "Please use `rate` instead of `keep_prob`. Rate should be set to `rate = 1 - keep_prob`.\n",
            "Model: \"sequential_1\"\n",
            "_________________________________________________________________\n",
            "Layer (type)                 Output Shape              Param #   \n",
            "=================================================================\n",
            "conv2d_1 (Conv2D)            (None, 32, 32, 32)        896       \n",
            "_________________________________________________________________\n",
            "batch_normalization_1 (Batch (None, 32, 32, 32)        128       \n",
            "_________________________________________________________________\n",
            "activation_1 (Activation)    (None, 32, 32, 32)        0         \n",
            "_________________________________________________________________\n",
            "conv2d_2 (Conv2D)            (None, 30, 30, 32)        9248      \n",
            "_________________________________________________________________\n",
            "batch_normalization_2 (Batch (None, 30, 30, 32)        128       \n",
            "_________________________________________________________________\n",
            "activation_2 (Activation)    (None, 30, 30, 32)        0         \n",
            "_________________________________________________________________\n",
            "max_pooling2d_1 (MaxPooling2 (None, 15, 15, 32)        0         \n",
            "_________________________________________________________________\n",
            "conv2d_3 (Conv2D)            (None, 15, 15, 64)        18496     \n",
            "_________________________________________________________________\n",
            "batch_normalization_3 (Batch (None, 15, 15, 64)        256       \n",
            "_________________________________________________________________\n",
            "activation_3 (Activation)    (None, 15, 15, 64)        0         \n",
            "_________________________________________________________________\n",
            "conv2d_4 (Conv2D)            (None, 13, 13, 64)        36928     \n",
            "_________________________________________________________________\n",
            "batch_normalization_4 (Batch (None, 13, 13, 64)        256       \n",
            "_________________________________________________________________\n",
            "activation_4 (Activation)    (None, 13, 13, 64)        0         \n",
            "_________________________________________________________________\n",
            "max_pooling2d_2 (MaxPooling2 (None, 6, 6, 64)          0         \n",
            "_________________________________________________________________\n",
            "flatten_1 (Flatten)          (None, 2304)              0         \n",
            "_________________________________________________________________\n",
            "dropout_1 (Dropout)          (None, 2304)              0         \n",
            "_________________________________________________________________\n",
            "dense_1 (Dense)              (None, 512)               1180160   \n",
            "_________________________________________________________________\n",
            "batch_normalization_5 (Batch (None, 512)               2048      \n",
            "_________________________________________________________________\n",
            "activation_5 (Activation)    (None, 512)               0         \n",
            "_________________________________________________________________\n",
            "dense_2 (Dense)              (None, 10)                5130      \n",
            "=================================================================\n",
            "Total params: 1,253,674\n",
            "Trainable params: 1,252,266\n",
            "Non-trainable params: 1,408\n",
            "_________________________________________________________________\n"
          ],
          "name": "stdout"
        }
      ]
    },
    {
      "cell_type": "markdown",
      "metadata": {
        "id": "AeKFO-Ptg9Wn",
        "colab_type": "text"
      },
      "source": [
        "**Data Augmentation**"
      ]
    },
    {
      "cell_type": "code",
      "metadata": {
        "id": "ef-wu0cLfY9A",
        "colab_type": "code",
        "colab": {}
      },
      "source": [
        "\n",
        "from keras.preprocessing.image import ImageDataGenerator\n",
        "\n",
        "datagen = ImageDataGenerator(\n",
        "    rotation_range=0,\n",
        "    width_shift_range=0.1,\n",
        "    height_shift_range=0.1,\n",
        "    fill_mode='nearest',\n",
        "    horizontal_flip=True    \n",
        ")\n",
        "\n",
        "train_generator = datagen.flow(x_tr, y_tr, batch_size=32)\n",
        "validation_generator = datagen.flow(x_val, y_val, batch_size=32)"
      ],
      "execution_count": 0,
      "outputs": []
    },
    {
      "cell_type": "code",
      "metadata": {
        "id": "3Q9bAny8hwQs",
        "colab_type": "code",
        "outputId": "4c8c3dfe-68dc-4659-d34c-e3f8c4a08fee",
        "colab": {
          "base_uri": "https://localhost:8080/",
          "height": 1000
        }
      },
      "source": [
        "from keras import optimizers\n",
        "import matplotlib.pyplot as plt\n",
        "learning_rate = 1E-5\n",
        "\n",
        "model.compile(loss='categorical_crossentropy',\n",
        "              optimizer=optimizers.RMSprop(lr=learning_rate),\n",
        "              metrics=['acc'])\n",
        "\n",
        "history = model.fit_generator(train_generator, \n",
        "                              epochs=100,\n",
        "                              validation_data=validation_generator\n",
        "                              )\n",
        "\n",
        "print(\"\\n\\n*********************************************************************\")\n",
        "print(\"learning rate: {0}, loss: {1}, acc: {2}, val_loss: {3}, val_acc: {4}\".format(learning_rate, \n",
        "                                                                                    history.history['loss'][-1],\n",
        "                                                                                    history.history['acc'][-1],\n",
        "                                                                                    history.history['val_loss'][-1],\n",
        "                                                                                    history.history['val_acc'][-1]\n",
        "                                                                                    ))\n",
        "print(\"*********************************************************************\\n\\n\")"
      ],
      "execution_count": 6,
      "outputs": [
        {
          "output_type": "stream",
          "text": [
            "WARNING:tensorflow:From /usr/local/lib/python3.6/dist-packages/keras/optimizers.py:793: The name tf.train.Optimizer is deprecated. Please use tf.compat.v1.train.Optimizer instead.\n",
            "\n",
            "WARNING:tensorflow:From /usr/local/lib/python3.6/dist-packages/keras/backend/tensorflow_backend.py:3576: The name tf.log is deprecated. Please use tf.math.log instead.\n",
            "\n",
            "WARNING:tensorflow:From /usr/local/lib/python3.6/dist-packages/tensorflow_core/python/ops/math_grad.py:1424: where (from tensorflow.python.ops.array_ops) is deprecated and will be removed in a future version.\n",
            "Instructions for updating:\n",
            "Use tf.where in 2.0, which has the same broadcast rule as np.where\n",
            "WARNING:tensorflow:From /usr/local/lib/python3.6/dist-packages/keras/backend/tensorflow_backend.py:1033: The name tf.assign_add is deprecated. Please use tf.compat.v1.assign_add instead.\n",
            "\n",
            "WARNING:tensorflow:From /usr/local/lib/python3.6/dist-packages/keras/backend/tensorflow_backend.py:1020: The name tf.assign is deprecated. Please use tf.compat.v1.assign instead.\n",
            "\n",
            "Epoch 1/100\n",
            "1250/1250 [==============================] - 46s 37ms/step - loss: 2.2185 - acc: 0.2078 - val_loss: 1.8526 - val_acc: 0.3338\n",
            "Epoch 2/100\n",
            "1250/1250 [==============================] - 44s 36ms/step - loss: 1.9131 - acc: 0.3118 - val_loss: 1.6887 - val_acc: 0.3920\n",
            "Epoch 3/100\n",
            "1250/1250 [==============================] - 44s 35ms/step - loss: 1.7945 - acc: 0.3518 - val_loss: 1.6083 - val_acc: 0.4150\n",
            "Epoch 4/100\n",
            "1250/1250 [==============================] - 44s 36ms/step - loss: 1.7098 - acc: 0.3792 - val_loss: 1.5400 - val_acc: 0.4391\n",
            "Epoch 5/100\n",
            "1250/1250 [==============================] - 44s 36ms/step - loss: 1.6563 - acc: 0.4004 - val_loss: 1.4988 - val_acc: 0.4567\n",
            "Epoch 6/100\n",
            "1250/1250 [==============================] - 45s 36ms/step - loss: 1.6056 - acc: 0.4159 - val_loss: 1.4630 - val_acc: 0.4742\n",
            "Epoch 7/100\n",
            "1250/1250 [==============================] - 44s 36ms/step - loss: 1.5764 - acc: 0.4292 - val_loss: 1.4320 - val_acc: 0.4809\n",
            "Epoch 8/100\n",
            "1250/1250 [==============================] - 45s 36ms/step - loss: 1.5368 - acc: 0.4420 - val_loss: 1.4062 - val_acc: 0.4915\n",
            "Epoch 9/100\n",
            "1250/1250 [==============================] - 44s 35ms/step - loss: 1.5130 - acc: 0.4515 - val_loss: 1.3841 - val_acc: 0.4984\n",
            "Epoch 10/100\n",
            "1250/1250 [==============================] - 44s 35ms/step - loss: 1.4847 - acc: 0.4644 - val_loss: 1.3621 - val_acc: 0.5123\n",
            "Epoch 11/100\n",
            "1250/1250 [==============================] - 44s 35ms/step - loss: 1.4618 - acc: 0.4739 - val_loss: 1.3450 - val_acc: 0.5152\n",
            "Epoch 12/100\n",
            "1250/1250 [==============================] - 44s 36ms/step - loss: 1.4459 - acc: 0.4767 - val_loss: 1.3317 - val_acc: 0.5251\n",
            "Epoch 13/100\n",
            "1250/1250 [==============================] - 44s 35ms/step - loss: 1.4247 - acc: 0.4852 - val_loss: 1.3126 - val_acc: 0.5311\n",
            "Epoch 14/100\n",
            "1250/1250 [==============================] - 45s 36ms/step - loss: 1.4118 - acc: 0.4930 - val_loss: 1.2952 - val_acc: 0.5345\n",
            "Epoch 15/100\n",
            "1250/1250 [==============================] - 44s 36ms/step - loss: 1.3905 - acc: 0.4970 - val_loss: 1.2820 - val_acc: 0.5403\n",
            "Epoch 16/100\n",
            "1250/1250 [==============================] - 45s 36ms/step - loss: 1.3786 - acc: 0.5032 - val_loss: 1.2653 - val_acc: 0.5501\n",
            "Epoch 17/100\n",
            "1250/1250 [==============================] - 45s 36ms/step - loss: 1.3577 - acc: 0.5144 - val_loss: 1.2481 - val_acc: 0.5547\n",
            "Epoch 18/100\n",
            "1250/1250 [==============================] - 45s 36ms/step - loss: 1.3451 - acc: 0.5194 - val_loss: 1.2460 - val_acc: 0.5573\n",
            "Epoch 19/100\n",
            "1250/1250 [==============================] - 45s 36ms/step - loss: 1.3317 - acc: 0.5214 - val_loss: 1.2208 - val_acc: 0.5678\n",
            "Epoch 20/100\n",
            "1250/1250 [==============================] - 45s 36ms/step - loss: 1.3254 - acc: 0.5242 - val_loss: 1.2143 - val_acc: 0.5689\n",
            "Epoch 21/100\n",
            "1250/1250 [==============================] - 45s 36ms/step - loss: 1.3044 - acc: 0.5324 - val_loss: 1.2111 - val_acc: 0.5662\n",
            "Epoch 22/100\n",
            "1250/1250 [==============================] - 45s 36ms/step - loss: 1.2983 - acc: 0.5366 - val_loss: 1.1976 - val_acc: 0.5757\n",
            "Epoch 23/100\n",
            "1250/1250 [==============================] - 45s 36ms/step - loss: 1.2892 - acc: 0.5378 - val_loss: 1.1942 - val_acc: 0.5769\n",
            "Epoch 24/100\n",
            "1250/1250 [==============================] - 45s 36ms/step - loss: 1.2751 - acc: 0.5462 - val_loss: 1.1789 - val_acc: 0.5800\n",
            "Epoch 25/100\n",
            "1250/1250 [==============================] - 45s 36ms/step - loss: 1.2593 - acc: 0.5505 - val_loss: 1.1665 - val_acc: 0.5889\n",
            "Epoch 26/100\n",
            "1250/1250 [==============================] - 45s 36ms/step - loss: 1.2546 - acc: 0.5546 - val_loss: 1.1502 - val_acc: 0.5911\n",
            "Epoch 27/100\n",
            "1250/1250 [==============================] - 45s 36ms/step - loss: 1.2375 - acc: 0.5590 - val_loss: 1.1484 - val_acc: 0.5947\n",
            "Epoch 28/100\n",
            "1250/1250 [==============================] - 45s 36ms/step - loss: 1.2367 - acc: 0.5612 - val_loss: 1.1351 - val_acc: 0.6022\n",
            "Epoch 29/100\n",
            "1250/1250 [==============================] - 45s 36ms/step - loss: 1.2294 - acc: 0.5617 - val_loss: 1.1320 - val_acc: 0.5973\n",
            "Epoch 30/100\n",
            "1250/1250 [==============================] - 45s 36ms/step - loss: 1.2245 - acc: 0.5628 - val_loss: 1.1232 - val_acc: 0.6020\n",
            "Epoch 31/100\n",
            "1250/1250 [==============================] - 45s 36ms/step - loss: 1.2078 - acc: 0.5698 - val_loss: 1.1115 - val_acc: 0.6062\n",
            "Epoch 32/100\n",
            "1250/1250 [==============================] - 45s 36ms/step - loss: 1.1971 - acc: 0.5775 - val_loss: 1.1097 - val_acc: 0.6050\n",
            "Epoch 33/100\n",
            "1250/1250 [==============================] - 45s 36ms/step - loss: 1.1925 - acc: 0.5748 - val_loss: 1.1042 - val_acc: 0.6111\n",
            "Epoch 34/100\n",
            "1250/1250 [==============================] - 45s 36ms/step - loss: 1.1881 - acc: 0.5771 - val_loss: 1.0933 - val_acc: 0.6128\n",
            "Epoch 35/100\n",
            "1250/1250 [==============================] - 45s 36ms/step - loss: 1.1775 - acc: 0.5831 - val_loss: 1.0850 - val_acc: 0.6176\n",
            "Epoch 36/100\n",
            "1250/1250 [==============================] - 45s 36ms/step - loss: 1.1719 - acc: 0.5862 - val_loss: 1.0725 - val_acc: 0.6245\n",
            "Epoch 37/100\n",
            "1250/1250 [==============================] - 44s 35ms/step - loss: 1.1594 - acc: 0.5887 - val_loss: 1.0741 - val_acc: 0.6217\n",
            "Epoch 38/100\n",
            "1250/1250 [==============================] - 48s 38ms/step - loss: 1.1614 - acc: 0.5909 - val_loss: 1.0568 - val_acc: 0.6298\n",
            "Epoch 39/100\n",
            "1250/1250 [==============================] - 46s 37ms/step - loss: 1.1529 - acc: 0.5921 - val_loss: 1.0582 - val_acc: 0.6248\n",
            "Epoch 40/100\n",
            "1250/1250 [==============================] - 45s 36ms/step - loss: 1.1426 - acc: 0.5956 - val_loss: 1.0541 - val_acc: 0.6269\n",
            "Epoch 41/100\n",
            "1250/1250 [==============================] - 45s 36ms/step - loss: 1.1376 - acc: 0.5984 - val_loss: 1.0483 - val_acc: 0.6319\n",
            "Epoch 42/100\n",
            "1250/1250 [==============================] - 45s 36ms/step - loss: 1.1314 - acc: 0.6008 - val_loss: 1.0290 - val_acc: 0.6410\n",
            "Epoch 43/100\n",
            "1250/1250 [==============================] - 46s 37ms/step - loss: 1.1210 - acc: 0.6019 - val_loss: 1.0205 - val_acc: 0.6474\n",
            "Epoch 44/100\n",
            "1250/1250 [==============================] - 46s 37ms/step - loss: 1.1222 - acc: 0.6067 - val_loss: 1.0175 - val_acc: 0.6397\n",
            "Epoch 45/100\n",
            "1250/1250 [==============================] - 46s 36ms/step - loss: 1.1140 - acc: 0.6016 - val_loss: 1.0287 - val_acc: 0.6369\n",
            "Epoch 46/100\n",
            "1250/1250 [==============================] - 46s 37ms/step - loss: 1.1051 - acc: 0.6083 - val_loss: 1.0162 - val_acc: 0.6411\n",
            "Epoch 47/100\n",
            "1250/1250 [==============================] - 46s 37ms/step - loss: 1.1010 - acc: 0.6101 - val_loss: 1.0159 - val_acc: 0.6451\n",
            "Epoch 48/100\n",
            "1250/1250 [==============================] - 46s 37ms/step - loss: 1.0969 - acc: 0.6143 - val_loss: 1.0112 - val_acc: 0.6477\n",
            "Epoch 49/100\n",
            "1250/1250 [==============================] - 46s 37ms/step - loss: 1.0949 - acc: 0.6111 - val_loss: 1.0116 - val_acc: 0.6484\n",
            "Epoch 50/100\n",
            "1250/1250 [==============================] - 46s 36ms/step - loss: 1.0816 - acc: 0.6191 - val_loss: 0.9991 - val_acc: 0.6458\n",
            "Epoch 51/100\n",
            "1250/1250 [==============================] - 46s 37ms/step - loss: 1.0806 - acc: 0.6187 - val_loss: 0.9950 - val_acc: 0.6523\n",
            "Epoch 52/100\n",
            "1250/1250 [==============================] - 46s 37ms/step - loss: 1.0722 - acc: 0.6233 - val_loss: 0.9783 - val_acc: 0.6615\n",
            "Epoch 53/100\n",
            "1250/1250 [==============================] - 45s 36ms/step - loss: 1.0658 - acc: 0.6266 - val_loss: 0.9865 - val_acc: 0.6572\n",
            "Epoch 54/100\n",
            "1250/1250 [==============================] - 46s 37ms/step - loss: 1.0672 - acc: 0.6203 - val_loss: 0.9731 - val_acc: 0.6604\n",
            "Epoch 55/100\n",
            "1250/1250 [==============================] - 46s 36ms/step - loss: 1.0645 - acc: 0.6229 - val_loss: 0.9768 - val_acc: 0.6515\n",
            "Epoch 56/100\n",
            "1250/1250 [==============================] - 46s 37ms/step - loss: 1.0539 - acc: 0.6279 - val_loss: 0.9653 - val_acc: 0.6634\n",
            "Epoch 57/100\n",
            "1250/1250 [==============================] - 46s 37ms/step - loss: 1.0549 - acc: 0.6287 - val_loss: 0.9598 - val_acc: 0.6615\n",
            "Epoch 58/100\n",
            "1250/1250 [==============================] - 46s 37ms/step - loss: 1.0495 - acc: 0.6291 - val_loss: 0.9592 - val_acc: 0.6633\n",
            "Epoch 59/100\n",
            "1250/1250 [==============================] - 46s 37ms/step - loss: 1.0418 - acc: 0.6304 - val_loss: 0.9593 - val_acc: 0.6660\n",
            "Epoch 60/100\n",
            "1250/1250 [==============================] - 46s 36ms/step - loss: 1.0412 - acc: 0.6332 - val_loss: 0.9563 - val_acc: 0.6682\n",
            "Epoch 61/100\n",
            "1250/1250 [==============================] - 46s 36ms/step - loss: 1.0311 - acc: 0.6381 - val_loss: 0.9473 - val_acc: 0.6713\n",
            "Epoch 62/100\n",
            "1250/1250 [==============================] - 46s 37ms/step - loss: 1.0260 - acc: 0.6409 - val_loss: 0.9412 - val_acc: 0.6725\n",
            "Epoch 63/100\n",
            "1250/1250 [==============================] - 46s 37ms/step - loss: 1.0202 - acc: 0.6409 - val_loss: 0.9305 - val_acc: 0.6733\n",
            "Epoch 64/100\n",
            "1250/1250 [==============================] - 46s 37ms/step - loss: 1.0217 - acc: 0.6399 - val_loss: 0.9247 - val_acc: 0.6830\n",
            "Epoch 65/100\n",
            "1250/1250 [==============================] - 46s 37ms/step - loss: 1.0210 - acc: 0.6393 - val_loss: 0.9229 - val_acc: 0.6747\n",
            "Epoch 66/100\n",
            "1250/1250 [==============================] - 46s 36ms/step - loss: 1.0132 - acc: 0.6441 - val_loss: 0.9150 - val_acc: 0.6791\n",
            "Epoch 67/100\n",
            "1250/1250 [==============================] - 46s 37ms/step - loss: 1.0051 - acc: 0.6446 - val_loss: 0.9226 - val_acc: 0.6811\n",
            "Epoch 68/100\n",
            "1250/1250 [==============================] - 46s 36ms/step - loss: 1.0074 - acc: 0.6432 - val_loss: 0.9153 - val_acc: 0.6806\n",
            "Epoch 69/100\n",
            "1250/1250 [==============================] - 46s 37ms/step - loss: 0.9989 - acc: 0.6472 - val_loss: 0.9167 - val_acc: 0.6809\n",
            "Epoch 70/100\n",
            "1250/1250 [==============================] - 46s 37ms/step - loss: 1.0000 - acc: 0.6487 - val_loss: 0.9160 - val_acc: 0.6827\n",
            "Epoch 71/100\n",
            "1250/1250 [==============================] - 46s 37ms/step - loss: 0.9926 - acc: 0.6524 - val_loss: 0.9182 - val_acc: 0.6804\n",
            "Epoch 72/100\n",
            "1250/1250 [==============================] - 46s 37ms/step - loss: 0.9831 - acc: 0.6538 - val_loss: 0.9054 - val_acc: 0.6879\n",
            "Epoch 73/100\n",
            "1250/1250 [==============================] - 46s 37ms/step - loss: 0.9877 - acc: 0.6510 - val_loss: 0.9068 - val_acc: 0.6886\n",
            "Epoch 74/100\n",
            "1250/1250 [==============================] - 45s 36ms/step - loss: 0.9804 - acc: 0.6566 - val_loss: 0.9001 - val_acc: 0.6895\n",
            "Epoch 75/100\n",
            "1250/1250 [==============================] - 46s 37ms/step - loss: 0.9787 - acc: 0.6549 - val_loss: 0.8904 - val_acc: 0.6933\n",
            "Epoch 76/100\n",
            "1250/1250 [==============================] - 46s 36ms/step - loss: 0.9818 - acc: 0.6551 - val_loss: 0.8955 - val_acc: 0.6917\n",
            "Epoch 77/100\n",
            "1250/1250 [==============================] - 46s 37ms/step - loss: 0.9731 - acc: 0.6564 - val_loss: 0.8856 - val_acc: 0.6937\n",
            "Epoch 78/100\n",
            "1250/1250 [==============================] - 46s 37ms/step - loss: 0.9710 - acc: 0.6595 - val_loss: 0.8852 - val_acc: 0.6900\n",
            "Epoch 79/100\n",
            "1250/1250 [==============================] - 44s 36ms/step - loss: 0.9664 - acc: 0.6611 - val_loss: 0.8881 - val_acc: 0.6839\n",
            "Epoch 80/100\n",
            "1250/1250 [==============================] - 45s 36ms/step - loss: 0.9609 - acc: 0.6638 - val_loss: 0.8850 - val_acc: 0.6922\n",
            "Epoch 81/100\n",
            "1250/1250 [==============================] - 46s 37ms/step - loss: 0.9567 - acc: 0.6625 - val_loss: 0.8766 - val_acc: 0.6940\n",
            "Epoch 82/100\n",
            "1250/1250 [==============================] - 45s 36ms/step - loss: 0.9624 - acc: 0.6626 - val_loss: 0.8872 - val_acc: 0.6953\n",
            "Epoch 83/100\n",
            "1250/1250 [==============================] - 46s 36ms/step - loss: 0.9559 - acc: 0.6634 - val_loss: 0.8768 - val_acc: 0.6999\n",
            "Epoch 84/100\n",
            "1250/1250 [==============================] - 45s 36ms/step - loss: 0.9505 - acc: 0.6657 - val_loss: 0.8757 - val_acc: 0.6950\n",
            "Epoch 85/100\n",
            "1250/1250 [==============================] - 46s 36ms/step - loss: 0.9543 - acc: 0.6645 - val_loss: 0.8735 - val_acc: 0.6919\n",
            "Epoch 86/100\n",
            "1250/1250 [==============================] - 46s 36ms/step - loss: 0.9462 - acc: 0.6682 - val_loss: 0.8620 - val_acc: 0.7025\n",
            "Epoch 87/100\n",
            "1250/1250 [==============================] - 46s 36ms/step - loss: 0.9403 - acc: 0.6696 - val_loss: 0.8595 - val_acc: 0.7031\n",
            "Epoch 88/100\n",
            "1250/1250 [==============================] - 46s 37ms/step - loss: 0.9393 - acc: 0.6714 - val_loss: 0.8702 - val_acc: 0.7046\n",
            "Epoch 89/100\n",
            "1250/1250 [==============================] - 46s 37ms/step - loss: 0.9315 - acc: 0.6734 - val_loss: 0.8622 - val_acc: 0.7033\n",
            "Epoch 90/100\n",
            "1250/1250 [==============================] - 46s 37ms/step - loss: 0.9276 - acc: 0.6725 - val_loss: 0.8581 - val_acc: 0.7041\n",
            "Epoch 91/100\n",
            "1250/1250 [==============================] - 46s 36ms/step - loss: 0.9389 - acc: 0.6715 - val_loss: 0.8597 - val_acc: 0.7046\n",
            "Epoch 92/100\n",
            "1250/1250 [==============================] - 46s 36ms/step - loss: 0.9232 - acc: 0.6770 - val_loss: 0.8524 - val_acc: 0.7051\n",
            "Epoch 93/100\n",
            "1250/1250 [==============================] - 46s 37ms/step - loss: 0.9257 - acc: 0.6747 - val_loss: 0.8475 - val_acc: 0.7060\n",
            "Epoch 94/100\n",
            " 108/1250 [=>............................] - ETA: 36s - loss: 0.9117 - acc: 0.6774Buffered data was truncated after reaching the output size limit."
          ],
          "name": "stdout"
        }
      ]
    },
    {
      "cell_type": "code",
      "metadata": {
        "id": "SgaQAT1KoMti",
        "colab_type": "code",
        "outputId": "69bb94db-ef3d-4d5e-d317-560c817a8f1f",
        "colab": {
          "base_uri": "https://localhost:8080/",
          "height": 279
        }
      },
      "source": [
        "import matplotlib.pyplot as plt\n",
        "%matplotlib inline\n",
        "\n",
        "acc = history.history['acc']\n",
        "val_acc = history.history['val_acc']\n",
        "\n",
        "epochs = range(len(acc))\n",
        "\n",
        "plt.plot(epochs, acc, 'bo', label='Training acc')\n",
        "plt.plot(epochs, val_acc, 'r', label='Validation acc')\n",
        "plt.xlabel('Epochs')\n",
        "plt.ylabel('Accuracy')\n",
        "plt.legend()\n",
        "plt.show()"
      ],
      "execution_count": 7,
      "outputs": [
        {
          "output_type": "display_data",
          "data": {
            "image/png": "[encoded data removed]",
            "text/plain": [
              "<Figure size 432x288 with 1 Axes>"
            ]
          },
          "metadata": {
            "tags": []
          }
        }
      ]
    },
    {
      "cell_type": "markdown",
      "metadata": {
        "id": "SomXA-mLoMtr",
        "colab_type": "text"
      },
      "source": [
        "## 3. Train (again) and evaluate the model\n",
        "\n",
        "- To this end, you have found the \"best\" hyper-parameters. \n",
        "- Now, fix the hyper-parameters and train the network on the entire training set (all the 50K training samples)\n",
        "- Evaluate your model on the test set."
      ]
    },
    {
      "cell_type": "markdown",
      "metadata": {
        "id": "hWstzZusoMtt",
        "colab_type": "text"
      },
      "source": [
        "### 3.1. Train the model on the entire training set\n",
        "\n",
        "Why? Previously, you used 40K samples for training; you wasted 10K samples for the sake of hyper-parameter tuning. Now you already know the hyper-parameters, so why not using all the 50K samples for training?"
      ]
    },
    {
      "cell_type": "code",
      "metadata": {
        "id": "jOEX3Q9OoMtv",
        "colab_type": "code",
        "colab": {}
      },
      "source": [
        "# <Compile your model again (using the same hyper-parameters)>\n",
        "# ..."
      ],
      "execution_count": 0,
      "outputs": []
    },
    {
      "cell_type": "code",
      "metadata": {
        "id": "HlyBeDGExgQo",
        "colab_type": "code",
        "outputId": "8e0f935d-8257-497e-ecb7-f5442e818d3d",
        "colab": {
          "base_uri": "https://localhost:8080/",
          "height": 1000
        }
      },
      "source": [
        "train_generator = datagen.flow(x_train, y_train_vec, batch_size=32)\n",
        "\n",
        "model.compile(loss='categorical_crossentropy',\n",
        "              optimizer=optimizers.RMSprop(lr=learning_rate),\n",
        "              metrics=['acc'])\n",
        "\n",
        "history = model.fit_generator(train_generator, \n",
        "                              epochs=100)\n",
        "\n",
        "print(\"\\n\\n*********************************************************************\")\n",
        "print(\"loss: {0}, acc: {1}\".format(history.history['loss'][-1], history.history['acc'][-1]))\n",
        "print(\"*********************************************************************\\n\\n\")   "
      ],
      "execution_count": 9,
      "outputs": [
        {
          "output_type": "stream",
          "text": [
            "Epoch 1/100\n",
            "1563/1563 [==============================] - 50s 32ms/step - loss: 0.9173 - acc: 0.6810\n",
            "Epoch 2/100\n",
            "1563/1563 [==============================] - 50s 32ms/step - loss: 0.9158 - acc: 0.6806\n",
            "Epoch 3/100\n",
            "1563/1563 [==============================] - 50s 32ms/step - loss: 0.9111 - acc: 0.6804\n",
            "Epoch 4/100\n",
            "1563/1563 [==============================] - 50s 32ms/step - loss: 0.9043 - acc: 0.6817\n",
            "Epoch 5/100\n",
            "1563/1563 [==============================] - 50s 32ms/step - loss: 0.8989 - acc: 0.6845\n",
            "Epoch 6/100\n",
            "1563/1563 [==============================] - 50s 32ms/step - loss: 0.9039 - acc: 0.6841\n",
            "Epoch 7/100\n",
            "1563/1563 [==============================] - 50s 32ms/step - loss: 0.8926 - acc: 0.6854\n",
            "Epoch 8/100\n",
            "1563/1563 [==============================] - 50s 32ms/step - loss: 0.8985 - acc: 0.6868\n",
            "Epoch 9/100\n",
            "1563/1563 [==============================] - 50s 32ms/step - loss: 0.8866 - acc: 0.6889\n",
            "Epoch 10/100\n",
            "1563/1563 [==============================] - 50s 32ms/step - loss: 0.8891 - acc: 0.6888\n",
            "Epoch 11/100\n",
            "1563/1563 [==============================] - 50s 32ms/step - loss: 0.8892 - acc: 0.6878\n",
            "Epoch 12/100\n",
            "1563/1563 [==============================] - 49s 32ms/step - loss: 0.8862 - acc: 0.6901\n",
            "Epoch 13/100\n",
            "1563/1563 [==============================] - 50s 32ms/step - loss: 0.8795 - acc: 0.6909\n",
            "Epoch 14/100\n",
            "1563/1563 [==============================] - 50s 32ms/step - loss: 0.8775 - acc: 0.6936\n",
            "Epoch 15/100\n",
            "1563/1563 [==============================] - 50s 32ms/step - loss: 0.8745 - acc: 0.6977\n",
            "Epoch 16/100\n",
            "1563/1563 [==============================] - 50s 32ms/step - loss: 0.8708 - acc: 0.6971\n",
            "Epoch 17/100\n",
            "1563/1563 [==============================] - 50s 32ms/step - loss: 0.8773 - acc: 0.6941\n",
            "Epoch 18/100\n",
            "1563/1563 [==============================] - 50s 32ms/step - loss: 0.8648 - acc: 0.6982\n",
            "Epoch 19/100\n",
            "1563/1563 [==============================] - 50s 32ms/step - loss: 0.8641 - acc: 0.6990\n",
            "Epoch 20/100\n",
            "1563/1563 [==============================] - 50s 32ms/step - loss: 0.8598 - acc: 0.6994\n",
            "Epoch 21/100\n",
            "1563/1563 [==============================] - 50s 32ms/step - loss: 0.8653 - acc: 0.6982\n",
            "Epoch 22/100\n",
            "1563/1563 [==============================] - 50s 32ms/step - loss: 0.8611 - acc: 0.6998\n",
            "Epoch 23/100\n",
            "1563/1563 [==============================] - 50s 32ms/step - loss: 0.8580 - acc: 0.7001\n",
            "Epoch 24/100\n",
            "1563/1563 [==============================] - 50s 32ms/step - loss: 0.8528 - acc: 0.7021\n",
            "Epoch 25/100\n",
            "1563/1563 [==============================] - 50s 32ms/step - loss: 0.8471 - acc: 0.7029\n",
            "Epoch 26/100\n",
            "1563/1563 [==============================] - 50s 32ms/step - loss: 0.8463 - acc: 0.7046\n",
            "Epoch 27/100\n",
            "1563/1563 [==============================] - 49s 32ms/step - loss: 0.8479 - acc: 0.7024\n",
            "Epoch 28/100\n",
            "1563/1563 [==============================] - 49s 32ms/step - loss: 0.8403 - acc: 0.7070\n",
            "Epoch 29/100\n",
            "1563/1563 [==============================] - 50s 32ms/step - loss: 0.8406 - acc: 0.7056\n",
            "Epoch 30/100\n",
            "1563/1563 [==============================] - 50s 32ms/step - loss: 0.8470 - acc: 0.7051\n",
            "Epoch 31/100\n",
            "1563/1563 [==============================] - 50s 32ms/step - loss: 0.8391 - acc: 0.7068\n",
            "Epoch 32/100\n",
            "1563/1563 [==============================] - 50s 32ms/step - loss: 0.8338 - acc: 0.7093\n",
            "Epoch 33/100\n",
            "1563/1563 [==============================] - 50s 32ms/step - loss: 0.8298 - acc: 0.7076\n",
            "Epoch 34/100\n",
            "1563/1563 [==============================] - 49s 32ms/step - loss: 0.8331 - acc: 0.7100\n",
            "Epoch 35/100\n",
            "1563/1563 [==============================] - 50s 32ms/step - loss: 0.8286 - acc: 0.7107\n",
            "Epoch 36/100\n",
            "1563/1563 [==============================] - 50s 32ms/step - loss: 0.8280 - acc: 0.7123\n",
            "Epoch 37/100\n",
            "1563/1563 [==============================] - 50s 32ms/step - loss: 0.8257 - acc: 0.7120\n",
            "Epoch 38/100\n",
            "1563/1563 [==============================] - 50s 32ms/step - loss: 0.8242 - acc: 0.7102\n",
            "Epoch 39/100\n",
            "1563/1563 [==============================] - 49s 32ms/step - loss: 0.8220 - acc: 0.7120\n",
            "Epoch 40/100\n",
            "1563/1563 [==============================] - 50s 32ms/step - loss: 0.8170 - acc: 0.7151\n",
            "Epoch 41/100\n",
            "1563/1563 [==============================] - 50s 32ms/step - loss: 0.8136 - acc: 0.7165\n",
            "Epoch 42/100\n",
            "1563/1563 [==============================] - 50s 32ms/step - loss: 0.8155 - acc: 0.7135\n",
            "Epoch 43/100\n",
            "1563/1563 [==============================] - 50s 32ms/step - loss: 0.8133 - acc: 0.7153\n",
            "Epoch 44/100\n",
            "1563/1563 [==============================] - 50s 32ms/step - loss: 0.8142 - acc: 0.7174\n",
            "Epoch 45/100\n",
            "1563/1563 [==============================] - 49s 32ms/step - loss: 0.8076 - acc: 0.7190\n",
            "Epoch 46/100\n",
            "1563/1563 [==============================] - 49s 32ms/step - loss: 0.8003 - acc: 0.7212\n",
            "Epoch 47/100\n",
            "1563/1563 [==============================] - 50s 32ms/step - loss: 0.8102 - acc: 0.7178\n",
            "Epoch 48/100\n",
            "1563/1563 [==============================] - 49s 32ms/step - loss: 0.8076 - acc: 0.7195\n",
            "Epoch 49/100\n",
            "1563/1563 [==============================] - 50s 32ms/step - loss: 0.8006 - acc: 0.7203\n",
            "Epoch 50/100\n",
            "1563/1563 [==============================] - 50s 32ms/step - loss: 0.7959 - acc: 0.7223\n",
            "Epoch 51/100\n",
            "1563/1563 [==============================] - 49s 32ms/step - loss: 0.7989 - acc: 0.7208\n",
            "Epoch 52/100\n",
            "1563/1563 [==============================] - 50s 32ms/step - loss: 0.7965 - acc: 0.7228\n",
            "Epoch 53/100\n",
            "1563/1563 [==============================] - 50s 32ms/step - loss: 0.7899 - acc: 0.7257\n",
            "Epoch 54/100\n",
            "1563/1563 [==============================] - 49s 32ms/step - loss: 0.7902 - acc: 0.7243\n",
            "Epoch 55/100\n",
            "1563/1563 [==============================] - 50s 32ms/step - loss: 0.7957 - acc: 0.7234\n",
            "Epoch 56/100\n",
            "1563/1563 [==============================] - 49s 32ms/step - loss: 0.7962 - acc: 0.7235\n",
            "Epoch 57/100\n",
            "1563/1563 [==============================] - 50s 32ms/step - loss: 0.7862 - acc: 0.7241\n",
            "Epoch 58/100\n",
            "1563/1563 [==============================] - 50s 32ms/step - loss: 0.7886 - acc: 0.7248\n",
            "Epoch 59/100\n",
            "1563/1563 [==============================] - 50s 32ms/step - loss: 0.7834 - acc: 0.7276\n",
            "Epoch 60/100\n",
            "1563/1563 [==============================] - 49s 32ms/step - loss: 0.7791 - acc: 0.7302\n",
            "Epoch 61/100\n",
            "1563/1563 [==============================] - 50s 32ms/step - loss: 0.7792 - acc: 0.7267\n",
            "Epoch 62/100\n",
            "1563/1563 [==============================] - 50s 32ms/step - loss: 0.7787 - acc: 0.7302\n",
            "Epoch 63/100\n",
            "1563/1563 [==============================] - 49s 32ms/step - loss: 0.7801 - acc: 0.7276\n",
            "Epoch 64/100\n",
            "1563/1563 [==============================] - 49s 32ms/step - loss: 0.7775 - acc: 0.7295\n",
            "Epoch 65/100\n",
            "1563/1563 [==============================] - 50s 32ms/step - loss: 0.7729 - acc: 0.7312\n",
            "Epoch 66/100\n",
            "1563/1563 [==============================] - 50s 32ms/step - loss: 0.7707 - acc: 0.7328\n",
            "Epoch 67/100\n",
            "1563/1563 [==============================] - 50s 32ms/step - loss: 0.7733 - acc: 0.7302\n",
            "Epoch 68/100\n",
            "1563/1563 [==============================] - 49s 32ms/step - loss: 0.7709 - acc: 0.7320\n",
            "Epoch 69/100\n",
            "1563/1563 [==============================] - 50s 32ms/step - loss: 0.7711 - acc: 0.7326\n",
            "Epoch 70/100\n",
            "1563/1563 [==============================] - 50s 32ms/step - loss: 0.7706 - acc: 0.7323\n",
            "Epoch 71/100\n",
            "1563/1563 [==============================] - 50s 32ms/step - loss: 0.7616 - acc: 0.7338\n",
            "Epoch 72/100\n",
            "1563/1563 [==============================] - 50s 32ms/step - loss: 0.7684 - acc: 0.7303\n",
            "Epoch 73/100\n",
            "1563/1563 [==============================] - 49s 32ms/step - loss: 0.7672 - acc: 0.7355\n",
            "Epoch 74/100\n",
            "1563/1563 [==============================] - 50s 32ms/step - loss: 0.7616 - acc: 0.7333\n",
            "Epoch 75/100\n",
            " 173/1563 [==>...........................] - ETA: 44s - loss: 0.7674 - acc: 0.7321Buffered data was truncated after reaching the output size limit."
          ],
          "name": "stdout"
        }
      ]
    },
    {
      "cell_type": "markdown",
      "metadata": {
        "id": "H5cFxnbtoMt4",
        "colab_type": "text"
      },
      "source": [
        "### 3.2. Evaluate the model on the test set\n",
        "\n",
        "Do NOT used the test set until now. Make sure that your model parameters and hyper-parameters are independent of the test set."
      ]
    },
    {
      "cell_type": "code",
      "metadata": {
        "id": "CEcTMRHvoMt5",
        "colab_type": "code",
        "outputId": "24aee472-68af-4ffb-9290-dde8da560e5f",
        "colab": {
          "base_uri": "https://localhost:8080/",
          "height": 71
        }
      },
      "source": [
        "loss_and_acc = model.evaluate(x_test, y_test_vec)\n",
        "print('loss = ' + str(loss_and_acc[0]))\n",
        "print('accuracy = ' + str(loss_and_acc[1]))"
      ],
      "execution_count": 11,
      "outputs": [
        {
          "output_type": "stream",
          "text": [
            "10000/10000 [==============================] - 2s 228us/step\n",
            "loss = 0.588442866897583\n",
            "accuracy = 0.7983\n"
          ],
          "name": "stdout"
        }
      ]
    },
    {
      "cell_type": "code",
      "metadata": {
        "id": "O7Q1ldcKoMt-",
        "colab_type": "code",
        "colab": {}
      },
      "source": [
        ""
      ],
      "execution_count": 0,
      "outputs": []
    }
  ]
}