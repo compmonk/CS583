{
  "nbformat": 4,
  "nbformat_minor": 0,
  "metadata": {
    "kernelspec": {
      "name": "python3",
      "display_name": "Python 3"
    },
    "language_info": {
      "pygments_lexer": "ipython3",
      "nbconvert_exporter": "python",
      "version": "3.6.4",
      "file_extension": ".py",
      "codemirror_mode": {
        "name": "ipython",
        "version": 3
      },
      "name": "python",
      "mimetype": "text/x-python"
    },
    "colab": {
      "name": "Final Project",
      "provenance": [],
      "collapsed_sections": [],
      "machine_shape": "hm"
    },
    "accelerator": "GPU"
  },
  "cells": [
    {
      "cell_type": "markdown",
      "metadata": {
        "id": "VEajys0SUFv_",
        "colab_type": "text"
      },
      "source": [
        "# **ASHRAE - Great Energy Predictor III**"
      ]
    },
    {
      "cell_type": "markdown",
      "metadata": {
        "id": "NMzlVdtxUE5S",
        "colab_type": "text"
      },
      "source": [
        "#### **Mounting the Drive**"
      ]
    },
    {
      "cell_type": "code",
      "metadata": {
        "id": "dSB1axtxQFy1",
        "colab_type": "code",
        "colab": {
          "base_uri": "https://localhost:8080/",
          "height": 35
        },
        "outputId": "da7293e9-55ed-40db-952d-af4d5f92e021"
      },
      "source": [
        "from google.colab import drive\n",
        "drive.mount('/content/drive')"
      ],
      "execution_count": 1,
      "outputs": [
        {
          "output_type": "stream",
          "text": [
            "Drive already mounted at /content/drive; to attempt to forcibly remount, call drive.mount(\"/content/drive\", force_remount=True).\n"
          ],
          "name": "stdout"
        }
      ]
    },
    {
      "cell_type": "markdown",
      "metadata": {
        "id": "VsmXpxBwUQo_",
        "colab_type": "text"
      },
      "source": [
        "#### **Importing the Libraries**"
      ]
    },
    {
      "cell_type": "code",
      "metadata": {
        "_uuid": "8f2839f25d086af736a60e9eeb907d3b93b6e0e5",
        "_cell_guid": "b1076dfc-b9ad-4769-8c92-a6c4dae69d19",
        "trusted": true,
        "id": "7n-GksMnP61L",
        "colab_type": "code",
        "colab": {
          "base_uri": "https://localhost:8080/",
          "height": 82
        },
        "outputId": "ea7b90d3-ed57-46f4-e1ae-b13511217bc6"
      },
      "source": [
        "# This Python 3 environment comes with many helpful analytics libraries installed\n",
        "# It is defined by the kaggle/python docker image: https://github.com/kaggle/docker-python\n",
        "# For example, here's several helpful packages to load in \n",
        "\n",
        "import numpy as np # linear algebra\n",
        "import pandas as pd # data processing, CSV file I/O (e.g. pd.read_csv)\n",
        "\n",
        "# Input data files are available in the \"../input/\" directory.\n",
        "# For example, running this (by clicking run or pressing Shift+Enter) will list all files under the input directory\n",
        "\n",
        "import os\n",
        "for dirname, _, filenames in os.walk('/kaggle/input'):\n",
        "    for filename in filenames:\n",
        "        print(os.path.join(dirname, filename))\n",
        "\n",
        "# Any results you write to the current directory are saved as output.\n",
        "\n",
        "from keras.models import Model, load_model\n",
        "from keras.layers import Input, Dropout, Dense, Embedding, SpatialDropout1D, concatenate, BatchNormalization, Flatten\n",
        "from keras.preprocessing.sequence import pad_sequences\n",
        "from keras.preprocessing import text, sequence\n",
        "from keras.callbacks import Callback\n",
        "from keras import backend as K\n",
        "from keras.models import Model\n",
        "from keras.losses import mean_squared_error as mse_loss\n",
        "from keras.callbacks import CSVLogger\n",
        "\n",
        "from keras import optimizers\n",
        "from keras.optimizers import RMSprop, Adam\n",
        "from keras.callbacks import EarlyStopping, ModelCheckpoint, ReduceLROnPlateau"
      ],
      "execution_count": 2,
      "outputs": [
        {
          "output_type": "stream",
          "text": [
            "Using TensorFlow backend.\n"
          ],
          "name": "stderr"
        },
        {
          "output_type": "display_data",
          "data": {
            "text/html": [
              "<p style=\"color: red;\">\n",
              "The default version of TensorFlow in Colab will soon switch to TensorFlow 2.x.<br>\n",
              "We recommend you <a href=\"https://www.tensorflow.org/guide/migrate\" target=\"_blank\">upgrade</a> now \n",
              "or ensure your notebook will continue to use TensorFlow 1.x via the <code>%tensorflow_version 1.x</code> magic:\n",
              "<a href=\"https://colab.research.google.com/notebooks/tensorflow_version.ipynb\" target=\"_blank\">more info</a>.</p>\n"
            ],
            "text/plain": [
              "<IPython.core.display.HTML object>"
            ]
          },
          "metadata": {
            "tags": []
          }
        }
      ]
    },
    {
      "cell_type": "code",
      "metadata": {
        "trusted": true,
        "id": "pqlYldbaP61Y",
        "colab_type": "code",
        "colab": {}
      },
      "source": [
        "def average_imputation(df, column_name):\n",
        "    imputation = df.groupby(['timestamp'])[column_name].mean()\n",
        "    \n",
        "    df.loc[df[column_name].isnull(), column_name] = df[df[column_name].isnull()][[column_name]].apply(lambda x: imputation[df['timestamp'][x.index]].values)\n",
        "    del imputation\n",
        "    return df\n"
      ],
      "execution_count": 0,
      "outputs": []
    },
    {
      "cell_type": "markdown",
      "metadata": {
        "id": "1Xo5ZNOnUVKw",
        "colab_type": "text"
      },
      "source": [
        "#### **Preparing the training data**\n"
      ]
    },
    {
      "cell_type": "code",
      "metadata": {
        "_uuid": "d629ff2d2480ee46fbb7e2d37f6b5fab8052498a",
        "_cell_guid": "79c7e3d0-c299-4dcb-8224-4455121ee9b0",
        "trusted": true,
        "id": "lZbXaFYlP61h",
        "colab_type": "code",
        "colab": {}
      },
      "source": [
        "building_df = pd.read_csv(\"/content/drive/My Drive/data/building_metadata.csv\")\n",
        "weather_train = pd.read_csv(\"/content/drive/My Drive/data/weather_train.csv\")\n",
        "train = pd.read_csv(\"/content/drive/My Drive/data/train.csv\")\n",
        "\n",
        "train = train.merge(building_df, left_on = \"building_id\", right_on = \"building_id\", how = \"left\")\n",
        "train = train.merge(weather_train, left_on = [\"site_id\", \"timestamp\"], right_on = [\"site_id\", \"timestamp\"])\n",
        "del weather_train\n",
        "\n",
        "train.loc[(train['meter']==0) & (train['site_id']==0) & (train['timestamp']<'2016-05-21 00:00:00'), 'drop'] = True\n",
        "train = train[train['drop']!=True]\n",
        "\n",
        "train[\"timestamp\"] = pd.to_datetime(train[\"timestamp\"])\n",
        "train[\"hour\"] = train[\"timestamp\"].dt.hour\n",
        "train[\"weekday\"] = train[\"timestamp\"].dt.weekday\n",
        "\n",
        "train = average_imputation(train, 'wind_speed')\n",
        "\n",
        "beaufort = [(0, 0, 0.3), (1, 0.3, 1.6), (2, 1.6, 3.4), (3, 3.4, 5.5), (4, 5.5, 8), (5, 8, 10.8), (6, 10.8, 13.9), \n",
        "          (7, 13.9, 17.2), (8, 17.2, 20.8), (9, 20.8, 24.5), (10, 24.5, 28.5), (11, 28.5, 33), (12, 33, 200)]\n",
        "\n",
        "for item in beaufort:\n",
        "    train.loc[(train['wind_speed']>=item[1]) & (train['wind_speed']<item[2]), 'beaufort_scale'] = item[0]\n",
        "\n",
        "del train[\"timestamp\"]"
      ],
      "execution_count": 0,
      "outputs": []
    },
    {
      "cell_type": "code",
      "metadata": {
        "trusted": true,
        "id": "mJBn18CtP61p",
        "colab_type": "code",
        "colab": {}
      },
      "source": [
        "from sklearn.preprocessing import LabelEncoder\n",
        "\n",
        "le = LabelEncoder()\n",
        "train[\"primary_use\"] = le.fit_transform(train[\"primary_use\"])\n",
        "\n",
        "categoricals = [\"site_id\", \"building_id\", \"primary_use\", \"hour\", \"weekday\",  \"meter\"]\n",
        "\n",
        "drop_cols = [\"sea_level_pressure\", \"wind_speed\", \"wind_direction\"]\n",
        "\n",
        "numericals = [\"square_feet\", \"year_built\", \"air_temperature\", \"cloud_coverage\",\n",
        "              \"dew_temperature\", \"precip_depth_1_hr\", \"floor_count\", 'beaufort_scale']\n",
        "\n",
        "feat_cols = categoricals + numericals"
      ],
      "execution_count": 0,
      "outputs": []
    },
    {
      "cell_type": "code",
      "metadata": {
        "trusted": true,
        "id": "x6jHSdNTP61x",
        "colab_type": "code",
        "colab": {}
      },
      "source": [
        "target = np.log1p(train[\"meter_reading\"])\n",
        "\n",
        "del train[\"meter_reading\"] \n",
        "\n",
        "train = train.drop(drop_cols, axis = 1)"
      ],
      "execution_count": 0,
      "outputs": []
    },
    {
      "cell_type": "markdown",
      "metadata": {
        "id": "EwQdIYbmUXQz",
        "colab_type": "text"
      },
      "source": [
        "#### **Reducing Memory Usage**\n"
      ]
    },
    {
      "cell_type": "code",
      "metadata": {
        "trusted": true,
        "id": "cgCSj0K_P616",
        "colab_type": "code",
        "colab": {}
      },
      "source": [
        "def reduce_mem_usage(df):\n",
        "    start_mem_usg = df.memory_usage().sum() / 1024**2 \n",
        "    print(\"Memory usage of properties dataframe is :\",start_mem_usg,\" MB\")\n",
        "    NAlist = [] # Keeps track of columns that have missing values filled in. \n",
        "    for col in df.columns:\n",
        "        if df[col].dtype != object:  # Exclude strings            \n",
        "            # Print current column type\n",
        "            print(\"******************************\")\n",
        "            print(\"Column: \",col)\n",
        "            print(\"dtype before: \",df[col].dtype)            \n",
        "            # make variables for Int, max and min\n",
        "            IsInt = False\n",
        "            mx = df[col].max()\n",
        "            mn = df[col].min()\n",
        "            print(\"min for this col: \",mn)\n",
        "            print(\"max for this col: \",mx)\n",
        "            # Integer does not support NA, therefore, NA needs to be filled\n",
        "            if not np.isfinite(df[col]).all(): \n",
        "                NAlist.append(col)\n",
        "                df[col].fillna(mn-1,inplace=True)  \n",
        "                   \n",
        "            # test if column can be converted to an integer\n",
        "            asint = df[col].fillna(0).astype(np.int64)\n",
        "            result = (df[col] - asint)\n",
        "            result = result.sum()\n",
        "            if result > -0.01 and result < 0.01:\n",
        "                IsInt = True            \n",
        "            # Make Integer/unsigned Integer datatypes\n",
        "            if IsInt:\n",
        "                if mn >= 0:\n",
        "                    if mx < 255:\n",
        "                        df[col] = df[col].astype(np.uint8)\n",
        "                    elif mx < 65535:\n",
        "                        df[col] = df[col].astype(np.uint16)\n",
        "                    elif mx < 4294967295:\n",
        "                        df[col] = df[col].astype(np.uint32)\n",
        "                    else:\n",
        "                        df[col] = df[col].astype(np.uint64)\n",
        "                else:\n",
        "                    if mn > np.iinfo(np.int8).min and mx < np.iinfo(np.int8).max:\n",
        "                        df[col] = df[col].astype(np.int8)\n",
        "                    elif mn > np.iinfo(np.int16).min and mx < np.iinfo(np.int16).max:\n",
        "                        df[col] = df[col].astype(np.int16)\n",
        "                    elif mn > np.iinfo(np.int32).min and mx < np.iinfo(np.int32).max:\n",
        "                        df[col] = df[col].astype(np.int32)\n",
        "                    elif mn > np.iinfo(np.int64).min and mx < np.iinfo(np.int64).max:\n",
        "                        df[col] = df[col].astype(np.int64)    \n",
        "            # Make float datatypes 32 bit\n",
        "            else:\n",
        "                df[col] = df[col].astype(np.float32)\n",
        "            \n",
        "            # Print new column type\n",
        "            print(\"dtype after: \",df[col].dtype)\n",
        "            print(\"******************************\")\n",
        "    # Print final result\n",
        "    print(\"___MEMORY USAGE AFTER COMPLETION:___\")\n",
        "    mem_usg = df.memory_usage().sum() / 1024**2 \n",
        "    print(\"Memory usage is: \",mem_usg,\" MB\")\n",
        "    print(\"This is \",100*mem_usg/start_mem_usg,\"% of the initial size\")\n",
        "    return df, NAlist"
      ],
      "execution_count": 0,
      "outputs": []
    },
    {
      "cell_type": "code",
      "metadata": {
        "trusted": true,
        "id": "Kqf6DJy3P62E",
        "colab_type": "code",
        "colab": {
          "base_uri": "https://localhost:8080/",
          "height": 1000
        },
        "outputId": "7340da61-166f-4ef2-f371-f94083476d41"
      },
      "source": [
        "train, NAlist = reduce_mem_usage(train)"
      ],
      "execution_count": 8,
      "outputs": [
        {
          "output_type": "stream",
          "text": [
            "Memory usage of properties dataframe is : 3054.1900634765625  MB\n",
            "******************************\n",
            "Column:  building_id\n",
            "dtype before:  int64\n",
            "min for this col:  0\n",
            "max for this col:  1448\n",
            "dtype after:  uint16\n",
            "******************************\n",
            "******************************\n",
            "Column:  meter\n",
            "dtype before:  int64\n",
            "min for this col:  0\n",
            "max for this col:  3\n",
            "dtype after:  uint8\n",
            "******************************\n",
            "******************************\n",
            "Column:  site_id\n",
            "dtype before:  int64\n",
            "min for this col:  0\n",
            "max for this col:  15\n",
            "dtype after:  uint8\n",
            "******************************\n",
            "******************************\n",
            "Column:  primary_use\n",
            "dtype before:  int64\n",
            "min for this col:  0\n",
            "max for this col:  15\n",
            "dtype after:  uint8\n",
            "******************************\n",
            "******************************\n",
            "Column:  square_feet\n",
            "dtype before:  int64\n",
            "min for this col:  283\n",
            "max for this col:  875000\n",
            "dtype after:  uint32\n",
            "******************************\n",
            "******************************\n",
            "Column:  year_built\n",
            "dtype before:  float64\n",
            "min for this col:  1900.0\n",
            "max for this col:  2017.0\n",
            "dtype after:  uint16\n",
            "******************************\n",
            "******************************\n",
            "Column:  floor_count\n",
            "dtype before:  float64\n",
            "min for this col:  1.0\n",
            "max for this col:  26.0\n",
            "dtype after:  uint8\n",
            "******************************\n",
            "******************************\n",
            "Column:  air_temperature\n",
            "dtype before:  float64\n",
            "min for this col:  -28.9\n",
            "max for this col:  47.2\n",
            "dtype after:  float32\n",
            "******************************\n",
            "******************************\n",
            "Column:  cloud_coverage\n",
            "dtype before:  float64\n",
            "min for this col:  0.0\n",
            "max for this col:  9.0\n",
            "dtype after:  uint8\n",
            "******************************\n",
            "******************************\n",
            "Column:  dew_temperature\n",
            "dtype before:  float64\n",
            "min for this col:  -35.0\n",
            "max for this col:  26.1\n",
            "dtype after:  float32\n",
            "******************************\n",
            "******************************\n",
            "Column:  precip_depth_1_hr\n",
            "dtype before:  float64\n",
            "min for this col:  -1.0\n",
            "max for this col:  343.0\n",
            "dtype after:  int16\n",
            "******************************\n",
            "******************************\n",
            "Column:  hour\n",
            "dtype before:  int64\n",
            "min for this col:  0\n",
            "max for this col:  23\n",
            "dtype after:  uint8\n",
            "******************************\n",
            "******************************\n",
            "Column:  weekday\n",
            "dtype before:  int64\n",
            "min for this col:  0\n",
            "max for this col:  6\n",
            "dtype after:  uint8\n",
            "******************************\n",
            "******************************\n",
            "Column:  beaufort_scale\n",
            "dtype before:  float64\n",
            "min for this col:  0.0\n",
            "max for this col:  8.0\n",
            "dtype after:  uint8\n",
            "******************************\n",
            "___MEMORY USAGE AFTER COMPLETION:___\n",
            "Memory usage is:  1432.156114578247  MB\n",
            "This is  46.89151902183959 % of the initial size\n"
          ],
          "name": "stdout"
        }
      ]
    },
    {
      "cell_type": "markdown",
      "metadata": {
        "id": "qug9ABoDUd85",
        "colab_type": "text"
      },
      "source": [
        "#### **Defining the model**\n"
      ]
    },
    {
      "cell_type": "code",
      "metadata": {
        "trusted": true,
        "id": "g3L-BFOiP62L",
        "colab_type": "code",
        "colab": {}
      },
      "source": [
        "def model(dense_dim_1=64, dense_dim_2=32, dense_dim_3=32, dense_dim_4=16, \n",
        "dropout1=0.2, dropout2=0.1, dropout3=0.1, dropout4=0.1, lr=0.001):\n",
        "\n",
        "    #Inputs\n",
        "    site_id = Input(shape=[1], name=\"site_id\")\n",
        "    building_id = Input(shape=[1], name=\"building_id\")\n",
        "    meter = Input(shape=[1], name=\"meter\")\n",
        "    primary_use = Input(shape=[1], name=\"primary_use\")\n",
        "    square_feet = Input(shape=[1], name=\"square_feet\")\n",
        "    year_built = Input(shape=[1], name=\"year_built\")\n",
        "    air_temperature = Input(shape=[1], name=\"air_temperature\")\n",
        "    cloud_coverage = Input(shape=[1], name=\"cloud_coverage\")\n",
        "    dew_temperature = Input(shape=[1], name=\"dew_temperature\")\n",
        "    hour = Input(shape=[1], name=\"hour\")\n",
        "    precip = Input(shape=[1], name=\"precip_depth_1_hr\")\n",
        "    weekday = Input(shape=[1], name=\"weekday\")\n",
        "    beaufort_scale = Input(shape=[1], name=\"beaufort_scale\")\n",
        "   \n",
        "    #Embeddings layers\n",
        "    emb_site_id = Embedding(16, 2)(site_id)\n",
        "    emb_building_id = Embedding(1449, 6)(building_id)\n",
        "    emb_meter = Embedding(4, 2)(meter)\n",
        "    emb_primary_use = Embedding(16, 2)(primary_use)\n",
        "    emb_hour = Embedding(24, 3)(hour)\n",
        "    emb_weekday = Embedding(7, 2)(weekday)\n",
        "\n",
        "    concat_emb = concatenate([\n",
        "           Flatten() (emb_site_id)\n",
        "         , Flatten() (emb_building_id)\n",
        "         , Flatten() (emb_meter)\n",
        "         , Flatten() (emb_primary_use)\n",
        "         , Flatten() (emb_hour)\n",
        "         , Flatten() (emb_weekday)\n",
        "    ])\n",
        "    \n",
        "    categ = Dropout(dropout1)(Dense(dense_dim_1,activation='relu') (concat_emb))\n",
        "    categ = BatchNormalization()(categ)\n",
        "    categ = Dropout(dropout2)(Dense(dense_dim_2,activation='relu') (categ))\n",
        "    \n",
        "    #main layer\n",
        "    main_l = concatenate([\n",
        "          categ\n",
        "        , square_feet\n",
        "        , year_built\n",
        "        , air_temperature\n",
        "        , cloud_coverage\n",
        "        , dew_temperature\n",
        "        , precip\n",
        "        , beaufort_scale\n",
        "    ])\n",
        "    \n",
        "    main_l = Dropout(dropout3)(Dense(dense_dim_3,activation='relu') (main_l))\n",
        "    main_l = BatchNormalization()(main_l)\n",
        "    main_l = Dropout(dropout4)(Dense(dense_dim_4,activation='relu') (main_l))\n",
        "    \n",
        "    #output\n",
        "    output = Dense(1) (main_l)\n",
        "\n",
        "    model = Model([ site_id,\n",
        "                    building_id, \n",
        "                    meter, \n",
        "                    primary_use, \n",
        "                    square_feet, \n",
        "                    year_built, \n",
        "                    air_temperature,\n",
        "                    cloud_coverage,\n",
        "                    dew_temperature, \n",
        "                    hour,\n",
        "                    weekday, \n",
        "                    precip,\n",
        "                    beaufort_scale], output)\n",
        "\n",
        "    model.compile(optimizer = Adam(lr=lr),\n",
        "                  loss= mse_loss,\n",
        "                  metrics=[root_mean_squared_error])\n",
        "    return model\n",
        "\n",
        "def root_mean_squared_error(y_true, y_pred):\n",
        "    return K.sqrt(K.mean(K.square(y_pred - y_true), axis=0))"
      ],
      "execution_count": 0,
      "outputs": []
    },
    {
      "cell_type": "code",
      "metadata": {
        "trusted": true,
        "id": "LVilDGbXP62S",
        "colab_type": "code",
        "colab": {}
      },
      "source": [
        "def get_keras_data(df, num_cols, cat_cols):\n",
        "    cols = num_cols + cat_cols\n",
        "    X = {col: np.array(df[col]) for col in cols}\n",
        "    return X\n",
        "\n",
        "def train_model(keras_model, X_t, y_train, batch_size, epochs, X_v, y_valid, fold, patience=3):\n",
        "    csv_logger = CSVLogger('training_{}.log'.format(fold), separator=',', append=False)\n",
        "    early_stopping = EarlyStopping(patience=patience, verbose=1)\n",
        "    model_checkpoint = ModelCheckpoint(\"model_\" + str(fold) + \".hdf5\",\n",
        "                                       save_best_only=True, verbose=1, monitor='val_root_mean_squared_error', mode='min')\n",
        "\n",
        "    hist = keras_model.fit(X_t, y_train, batch_size=batch_size, epochs=epochs,\n",
        "                            validation_data=(X_v, y_valid), verbose=1,\n",
        "                            callbacks=[early_stopping, model_checkpoint, csv_logger])\n",
        "\n",
        "    keras_model = load_model(\"model_\" + str(fold) + \".hdf5\", custom_objects={'root_mean_squared_error': root_mean_squared_error})\n",
        "    \n",
        "    return keras_model"
      ],
      "execution_count": 0,
      "outputs": []
    },
    {
      "cell_type": "markdown",
      "metadata": {
        "id": "p-P4_mX4VWDV",
        "colab_type": "text"
      },
      "source": [
        "#### **Training the model**\n"
      ]
    },
    {
      "cell_type": "code",
      "metadata": {
        "trusted": true,
        "id": "rnRNpmH8P62f",
        "colab_type": "code",
        "colab": {
          "base_uri": "https://localhost:8080/",
          "height": 1000
        },
        "outputId": "7474203b-e349-4c83-d409-4ce621734f92"
      },
      "source": [
        "from sklearn.model_selection import KFold, StratifiedKFold\n",
        "\n",
        "oof = np.zeros(len(train))\n",
        "batch_size = 1024\n",
        "epochs = 10\n",
        "models = []\n",
        "\n",
        "folds = 2\n",
        "seed = 666\n",
        "\n",
        "kf = StratifiedKFold(n_splits=folds, shuffle=True, random_state=seed)\n",
        "\n",
        "for fold_n, (train_index, valid_index) in enumerate(kf.split(train, train['building_id'])):\n",
        "    print('Fold:', fold_n)\n",
        "    X_train, X_valid = train.iloc[train_index], train.iloc[valid_index]\n",
        "    y_train, y_valid = target.iloc[train_index], target.iloc[valid_index]\n",
        "    X_t = get_keras_data(X_train, numericals, categoricals)\n",
        "    X_v = get_keras_data(X_valid, numericals, categoricals)\n",
        "    \n",
        "    keras_model = model(dense_dim_1=64, dense_dim_2=32, dense_dim_3=32, dense_dim_4=16, \n",
        "                        dropout1=0.2, dropout2=0.1, dropout3=0.1, dropout4=0.1, lr=0.001)\n",
        "    mod = train_model(keras_model, X_t, y_train, batch_size, epochs, X_v, y_valid, fold_n, patience=3)\n",
        "    models.append(mod)\n",
        "    print('*'* 50)\n",
        "    "
      ],
      "execution_count": 11,
      "outputs": [
        {
          "output_type": "stream",
          "text": [
            "Fold: 0\n",
            "WARNING:tensorflow:From /usr/local/lib/python3.6/dist-packages/keras/backend/tensorflow_backend.py:541: The name tf.placeholder is deprecated. Please use tf.compat.v1.placeholder instead.\n",
            "\n",
            "WARNING:tensorflow:From /usr/local/lib/python3.6/dist-packages/keras/backend/tensorflow_backend.py:66: The name tf.get_default_graph is deprecated. Please use tf.compat.v1.get_default_graph instead.\n",
            "\n",
            "WARNING:tensorflow:From /usr/local/lib/python3.6/dist-packages/keras/backend/tensorflow_backend.py:4432: The name tf.random_uniform is deprecated. Please use tf.random.uniform instead.\n",
            "\n",
            "WARNING:tensorflow:From /usr/local/lib/python3.6/dist-packages/keras/backend/tensorflow_backend.py:148: The name tf.placeholder_with_default is deprecated. Please use tf.compat.v1.placeholder_with_default instead.\n",
            "\n",
            "WARNING:tensorflow:From /usr/local/lib/python3.6/dist-packages/keras/backend/tensorflow_backend.py:3733: calling dropout (from tensorflow.python.ops.nn_ops) with keep_prob is deprecated and will be removed in a future version.\n",
            "Instructions for updating:\n",
            "Please use `rate` instead of `keep_prob`. Rate should be set to `rate = 1 - keep_prob`.\n",
            "WARNING:tensorflow:From /usr/local/lib/python3.6/dist-packages/keras/optimizers.py:793: The name tf.train.Optimizer is deprecated. Please use tf.compat.v1.train.Optimizer instead.\n",
            "\n",
            "WARNING:tensorflow:From /usr/local/lib/python3.6/dist-packages/keras/backend/tensorflow_backend.py:1033: The name tf.assign_add is deprecated. Please use tf.compat.v1.assign_add instead.\n",
            "\n",
            "WARNING:tensorflow:From /usr/local/lib/python3.6/dist-packages/keras/backend/tensorflow_backend.py:1020: The name tf.assign is deprecated. Please use tf.compat.v1.assign instead.\n",
            "\n",
            "WARNING:tensorflow:From /usr/local/lib/python3.6/dist-packages/keras/backend/tensorflow_backend.py:3005: The name tf.Session is deprecated. Please use tf.compat.v1.Session instead.\n",
            "\n",
            "Train on 9888192 samples, validate on 9888853 samples\n",
            "Epoch 1/10\n",
            "WARNING:tensorflow:From /usr/local/lib/python3.6/dist-packages/keras/backend/tensorflow_backend.py:190: The name tf.get_default_session is deprecated. Please use tf.compat.v1.get_default_session instead.\n",
            "\n",
            "WARNING:tensorflow:From /usr/local/lib/python3.6/dist-packages/keras/backend/tensorflow_backend.py:197: The name tf.ConfigProto is deprecated. Please use tf.compat.v1.ConfigProto instead.\n",
            "\n",
            "WARNING:tensorflow:From /usr/local/lib/python3.6/dist-packages/keras/backend/tensorflow_backend.py:207: The name tf.global_variables is deprecated. Please use tf.compat.v1.global_variables instead.\n",
            "\n",
            "WARNING:tensorflow:From /usr/local/lib/python3.6/dist-packages/keras/backend/tensorflow_backend.py:216: The name tf.is_variable_initialized is deprecated. Please use tf.compat.v1.is_variable_initialized instead.\n",
            "\n",
            "WARNING:tensorflow:From /usr/local/lib/python3.6/dist-packages/keras/backend/tensorflow_backend.py:223: The name tf.variables_initializer is deprecated. Please use tf.compat.v1.variables_initializer instead.\n",
            "\n",
            "9888192/9888192 [==============================] - 123s 12us/step - loss: 1.9872 - root_mean_squared_error: 1.3782 - val_loss: 1.4549 - val_root_mean_squared_error: 1.1900\n",
            "\n",
            "Epoch 00001: val_root_mean_squared_error improved from inf to 1.19001, saving model to model_0.hdf5\n",
            "Epoch 2/10\n",
            "9888192/9888192 [==============================] - 118s 12us/step - loss: 1.5592 - root_mean_squared_error: 1.2474 - val_loss: 1.4563 - val_root_mean_squared_error: 1.1904\n",
            "\n",
            "Epoch 00002: val_root_mean_squared_error did not improve from 1.19001\n",
            "Epoch 3/10\n",
            "9888192/9888192 [==============================] - 118s 12us/step - loss: 1.5195 - root_mean_squared_error: 1.2314 - val_loss: 1.4267 - val_root_mean_squared_error: 1.1793\n",
            "\n",
            "Epoch 00003: val_root_mean_squared_error improved from 1.19001 to 1.17934, saving model to model_0.hdf5\n",
            "Epoch 4/10\n",
            "9888192/9888192 [==============================] - 116s 12us/step - loss: 1.4284 - root_mean_squared_error: 1.1937 - val_loss: 1.2704 - val_root_mean_squared_error: 1.1103\n",
            "\n",
            "Epoch 00004: val_root_mean_squared_error improved from 1.17934 to 1.11034, saving model to model_0.hdf5\n",
            "Epoch 5/10\n",
            "9888192/9888192 [==============================] - 115s 12us/step - loss: 1.3291 - root_mean_squared_error: 1.1514 - val_loss: 1.1167 - val_root_mean_squared_error: 1.0389\n",
            "\n",
            "Epoch 00005: val_root_mean_squared_error improved from 1.11034 to 1.03887, saving model to model_0.hdf5\n",
            "Epoch 6/10\n",
            "9888192/9888192 [==============================] - 116s 12us/step - loss: 1.2490 - root_mean_squared_error: 1.1161 - val_loss: 1.1118 - val_root_mean_squared_error: 1.0346\n",
            "\n",
            "Epoch 00006: val_root_mean_squared_error improved from 1.03887 to 1.03462, saving model to model_0.hdf5\n",
            "Epoch 7/10\n",
            "9888192/9888192 [==============================] - 115s 12us/step - loss: 1.2014 - root_mean_squared_error: 1.0945 - val_loss: 1.0240 - val_root_mean_squared_error: 0.9919\n",
            "\n",
            "Epoch 00007: val_root_mean_squared_error improved from 1.03462 to 0.99195, saving model to model_0.hdf5\n",
            "Epoch 8/10\n",
            "9888192/9888192 [==============================] - 115s 12us/step - loss: 1.1697 - root_mean_squared_error: 1.0800 - val_loss: 1.0693 - val_root_mean_squared_error: 1.0119\n",
            "\n",
            "Epoch 00008: val_root_mean_squared_error did not improve from 0.99195\n",
            "Epoch 9/10\n",
            "9888192/9888192 [==============================] - 116s 12us/step - loss: 1.1565 - root_mean_squared_error: 1.0738 - val_loss: 1.0159 - val_root_mean_squared_error: 0.9840\n",
            "\n",
            "Epoch 00009: val_root_mean_squared_error improved from 0.99195 to 0.98403, saving model to model_0.hdf5\n",
            "Epoch 10/10\n",
            "9888192/9888192 [==============================] - 115s 12us/step - loss: 1.1464 - root_mean_squared_error: 1.0691 - val_loss: 1.0228 - val_root_mean_squared_error: 0.9891\n",
            "\n",
            "Epoch 00010: val_root_mean_squared_error did not improve from 0.98403\n",
            "**************************************************\n",
            "Fold: 1\n",
            "Train on 9888853 samples, validate on 9888192 samples\n",
            "Epoch 1/10\n",
            "9888853/9888853 [==============================] - 118s 12us/step - loss: 2.0472 - root_mean_squared_error: 1.3969 - val_loss: 1.4603 - val_root_mean_squared_error: 1.1931\n",
            "\n",
            "Epoch 00001: val_root_mean_squared_error improved from inf to 1.19313, saving model to model_1.hdf5\n",
            "Epoch 2/10\n",
            "9888853/9888853 [==============================] - 116s 12us/step - loss: 1.5686 - root_mean_squared_error: 1.2512 - val_loss: 1.5003 - val_root_mean_squared_error: 1.2097\n",
            "\n",
            "Epoch 00002: val_root_mean_squared_error did not improve from 1.19313\n",
            "Epoch 3/10\n",
            "9888853/9888853 [==============================] - 116s 12us/step - loss: 1.5435 - root_mean_squared_error: 1.2411 - val_loss: 1.4918 - val_root_mean_squared_error: 1.2052\n",
            "\n",
            "Epoch 00003: val_root_mean_squared_error did not improve from 1.19313\n",
            "Epoch 4/10\n",
            "9888853/9888853 [==============================] - 116s 12us/step - loss: 1.5341 - root_mean_squared_error: 1.2373 - val_loss: 1.5242 - val_root_mean_squared_error: 1.2196\n",
            "\n",
            "Epoch 00004: val_root_mean_squared_error did not improve from 1.19313\n",
            "Epoch 00004: early stopping\n",
            "**************************************************\n"
          ],
          "name": "stdout"
        }
      ]
    },
    {
      "cell_type": "markdown",
      "metadata": {
        "id": "sJOUry3fVE3l",
        "colab_type": "text"
      },
      "source": [
        "#### **Removing unecessary variables**\n"
      ]
    },
    {
      "cell_type": "code",
      "metadata": {
        "trusted": true,
        "id": "bltLqTWEP62q",
        "colab_type": "code",
        "colab": {}
      },
      "source": [
        "import gc\n",
        "del train, target, X_train, X_valid, y_train, y_valid, X_t, X_v, kf\n",
        "gc.collect()"
      ],
      "execution_count": 0,
      "outputs": []
    },
    {
      "cell_type": "markdown",
      "metadata": {
        "id": "bUqELnREVNQM",
        "colab_type": "text"
      },
      "source": [
        "#### **Preparing the test data**\n"
      ]
    },
    {
      "cell_type": "code",
      "metadata": {
        "trusted": true,
        "id": "4fMu5z2MP63I",
        "colab_type": "code",
        "colab": {}
      },
      "source": [
        "test = pd.read_csv(\"/content/drive/My Drive/data/test.csv\")\n",
        "test = test.merge(building_df, left_on = \"building_id\", right_on = \"building_id\", how = \"left\")\n",
        "del building_df\n",
        "gc.collect()\n",
        "test[\"primary_use\"] = le.transform(test[\"primary_use\"])\n",
        "\n",
        "weather_test = pd.read_csv(\"/content/drive/My Drive/data/weather_test.csv\")\n",
        "\n",
        "test = test.merge(weather_test, left_on = [\"site_id\", \"timestamp\"], right_on = [\"site_id\", \"timestamp\"], how = \"left\")\n",
        "del weather_test"
      ],
      "execution_count": 0,
      "outputs": []
    },
    {
      "cell_type": "code",
      "metadata": {
        "trusted": true,
        "id": "7hBu0Iv4P63N",
        "colab_type": "code",
        "colab": {
          "base_uri": "https://localhost:8080/",
          "height": 1000
        },
        "outputId": "ad019ef5-d383-4ad4-c09c-515e2f1f3c1c"
      },
      "source": [
        "test[\"timestamp\"] = pd.to_datetime(test[\"timestamp\"])\n",
        "test[\"hour\"] = test[\"timestamp\"].dt.hour\n",
        "test[\"weekday\"] = test[\"timestamp\"].dt.weekday\n",
        "\n",
        "test = average_imputation(test, 'wind_speed')\n",
        "\n",
        "for item in beaufort:\n",
        "    test.loc[(test['wind_speed']>=item[1]) & (test['wind_speed']<item[2]), 'beaufort_scale'] = item[0]\n",
        "\n",
        "    \n",
        "test = test[feat_cols]\n",
        "test, NAlist = reduce_mem_usage(test)"
      ],
      "execution_count": 14,
      "outputs": [
        {
          "output_type": "stream",
          "text": [
            "Memory usage of properties dataframe is : 6051.91162109375  MB\n",
            "******************************\n",
            "Column:  site_id\n",
            "dtype before:  int64\n",
            "min for this col:  0\n",
            "max for this col:  15\n",
            "dtype after:  uint8\n",
            "******************************\n",
            "******************************\n",
            "Column:  building_id\n",
            "dtype before:  int64\n",
            "min for this col:  0\n",
            "max for this col:  1448\n",
            "dtype after:  uint16\n",
            "******************************\n",
            "******************************\n",
            "Column:  primary_use\n",
            "dtype before:  int64\n",
            "min for this col:  0\n",
            "max for this col:  15\n",
            "dtype after:  uint8\n",
            "******************************\n",
            "******************************\n",
            "Column:  hour\n",
            "dtype before:  int64\n",
            "min for this col:  0\n",
            "max for this col:  23\n",
            "dtype after:  uint8\n",
            "******************************\n",
            "******************************\n",
            "Column:  weekday\n",
            "dtype before:  int64\n",
            "min for this col:  0\n",
            "max for this col:  6\n",
            "dtype after:  uint8\n",
            "******************************\n",
            "******************************\n",
            "Column:  meter\n",
            "dtype before:  int64\n",
            "min for this col:  0\n",
            "max for this col:  3\n",
            "dtype after:  uint8\n",
            "******************************\n",
            "******************************\n",
            "Column:  square_feet\n",
            "dtype before:  int64\n",
            "min for this col:  283\n",
            "max for this col:  875000\n",
            "dtype after:  uint32\n",
            "******************************\n",
            "******************************\n",
            "Column:  year_built\n",
            "dtype before:  float64\n",
            "min for this col:  1900.0\n",
            "max for this col:  2017.0\n",
            "dtype after:  uint16\n",
            "******************************\n",
            "******************************\n",
            "Column:  air_temperature\n",
            "dtype before:  float64\n",
            "min for this col:  -28.1\n",
            "max for this col:  48.3\n",
            "dtype after:  float32\n",
            "******************************\n",
            "******************************\n",
            "Column:  cloud_coverage\n",
            "dtype before:  float64\n",
            "min for this col:  0.0\n",
            "max for this col:  9.0\n",
            "dtype after:  uint8\n",
            "******************************\n",
            "******************************\n",
            "Column:  dew_temperature\n",
            "dtype before:  float64\n",
            "min for this col:  -31.6\n",
            "max for this col:  26.7\n",
            "dtype after:  float32\n",
            "******************************\n",
            "******************************\n",
            "Column:  precip_depth_1_hr\n",
            "dtype before:  float64\n",
            "min for this col:  -1.0\n",
            "max for this col:  597.0\n",
            "dtype after:  int16\n",
            "******************************\n",
            "******************************\n",
            "Column:  floor_count\n",
            "dtype before:  float64\n",
            "min for this col:  1.0\n",
            "max for this col:  26.0\n",
            "dtype after:  uint8\n",
            "******************************\n",
            "******************************\n",
            "Column:  beaufort_scale\n",
            "dtype before:  float64\n",
            "min for this col:  0.0\n",
            "max for this col:  9.0\n",
            "dtype after:  uint8\n",
            "******************************\n",
            "___MEMORY USAGE AFTER COMPLETION:___\n",
            "Memory usage is:  2632.0416259765625  MB\n",
            "This is  43.491078369397584 % of the initial size\n"
          ],
          "name": "stdout"
        }
      ]
    },
    {
      "cell_type": "markdown",
      "metadata": {
        "id": "2FqRxKYgVbAM",
        "colab_type": "text"
      },
      "source": [
        "#### **Making predictions**\n"
      ]
    },
    {
      "cell_type": "code",
      "metadata": {
        "trusted": true,
        "id": "yMHtCqUGP63U",
        "colab_type": "code",
        "colab": {
          "base_uri": "https://localhost:8080/",
          "height": 35
        },
        "outputId": "0a60ed58-1112-4115-c2a4-69b9cf48f5e2"
      },
      "source": [
        "from tqdm import tqdm\n",
        "i=0\n",
        "res = np.zeros((test.shape[0]),dtype=np.float32)\n",
        "step_size = 50000\n",
        "for j in tqdm(range(int(np.ceil(test.shape[0]/step_size)))):\n",
        "    for_prediction = get_keras_data(test.iloc[i:i+step_size], numericals, categoricals)\n",
        "    res[i:min(i+step_size,test.shape[0])] = \\\n",
        "       np.expm1(sum([model.predict(for_prediction, batch_size=1024)[:,0] for model in models])/folds)\n",
        "    i+=step_size"
      ],
      "execution_count": 15,
      "outputs": [
        {
          "output_type": "stream",
          "text": [
            "100%|██████████| 834/834 [03:53<00:00,  3.63it/s]\n"
          ],
          "name": "stderr"
        }
      ]
    },
    {
      "cell_type": "code",
      "metadata": {
        "trusted": true,
        "id": "ajlQHNKOP63b",
        "colab_type": "code",
        "colab": {
          "base_uri": "https://localhost:8080/",
          "height": 821
        },
        "outputId": "637e5443-dd32-40bf-9102-69db3dba56be"
      },
      "source": [
        "submission = pd.read_csv('/content/drive/My Drive/data/sample_submission.csv')\n",
        "submission['meter_reading'] = res\n",
        "submission.loc[submission['meter_reading'] < 0, 'meter_reading'] = 0\n",
        "submission.to_csv('/content/drive/My Drive/data/submission.csv', index=False)\n",
        "submission"
      ],
      "execution_count": 16,
      "outputs": [
        {
          "output_type": "execute_result",
          "data": {
            "text/html": [
              "<div>\n",
              "<style scoped>\n",
              "    .dataframe tbody tr th:only-of-type {\n",
              "        vertical-align: middle;\n",
              "    }\n",
              "\n",
              "    .dataframe tbody tr th {\n",
              "        vertical-align: top;\n",
              "    }\n",
              "\n",
              "    .dataframe thead th {\n",
              "        text-align: right;\n",
              "    }\n",
              "</style>\n",
              "<table border=\"1\" class=\"dataframe\">\n",
              "  <thead>\n",
              "    <tr style=\"text-align: right;\">\n",
              "      <th></th>\n",
              "      <th>row_id</th>\n",
              "      <th>meter_reading</th>\n",
              "    </tr>\n",
              "  </thead>\n",
              "  <tbody>\n",
              "    <tr>\n",
              "      <th>0</th>\n",
              "      <td>0</td>\n",
              "      <td>176.266251</td>\n",
              "    </tr>\n",
              "    <tr>\n",
              "      <th>1</th>\n",
              "      <td>1</td>\n",
              "      <td>104.670525</td>\n",
              "    </tr>\n",
              "    <tr>\n",
              "      <th>2</th>\n",
              "      <td>2</td>\n",
              "      <td>16.037224</td>\n",
              "    </tr>\n",
              "    <tr>\n",
              "      <th>3</th>\n",
              "      <td>3</td>\n",
              "      <td>243.080490</td>\n",
              "    </tr>\n",
              "    <tr>\n",
              "      <th>4</th>\n",
              "      <td>4</td>\n",
              "      <td>1211.738770</td>\n",
              "    </tr>\n",
              "    <tr>\n",
              "      <th>...</th>\n",
              "      <td>...</td>\n",
              "      <td>...</td>\n",
              "    </tr>\n",
              "    <tr>\n",
              "      <th>41697595</th>\n",
              "      <td>41697595</td>\n",
              "      <td>10.247118</td>\n",
              "    </tr>\n",
              "    <tr>\n",
              "      <th>41697596</th>\n",
              "      <td>41697596</td>\n",
              "      <td>8.820972</td>\n",
              "    </tr>\n",
              "    <tr>\n",
              "      <th>41697597</th>\n",
              "      <td>41697597</td>\n",
              "      <td>6.553712</td>\n",
              "    </tr>\n",
              "    <tr>\n",
              "      <th>41697598</th>\n",
              "      <td>41697598</td>\n",
              "      <td>148.624329</td>\n",
              "    </tr>\n",
              "    <tr>\n",
              "      <th>41697599</th>\n",
              "      <td>41697599</td>\n",
              "      <td>6.491293</td>\n",
              "    </tr>\n",
              "  </tbody>\n",
              "</table>\n",
              "<p>41697600 rows × 2 columns</p>\n",
              "</div>"
            ],
            "text/plain": [
              "            row_id  meter_reading\n",
              "0                0     176.266251\n",
              "1                1     104.670525\n",
              "2                2      16.037224\n",
              "3                3     243.080490\n",
              "4                4    1211.738770\n",
              "...            ...            ...\n",
              "41697595  41697595      10.247118\n",
              "41697596  41697596       8.820972\n",
              "41697597  41697597       6.553712\n",
              "41697598  41697598     148.624329\n",
              "41697599  41697599       6.491293\n",
              "\n",
              "[41697600 rows x 2 columns]"
            ]
          },
          "metadata": {
            "tags": []
          },
          "execution_count": 16
        },
        {
          "output_type": "execute_result",
          "data": {
            "text/html": [
              "<div>\n",
              "<style scoped>\n",
              "    .dataframe tbody tr th:only-of-type {\n",
              "        vertical-align: middle;\n",
              "    }\n",
              "\n",
              "    .dataframe tbody tr th {\n",
              "        vertical-align: top;\n",
              "    }\n",
              "\n",
              "    .dataframe thead th {\n",
              "        text-align: right;\n",
              "    }\n",
              "</style>\n",
              "<table border=\"1\" class=\"dataframe\">\n",
              "  <thead>\n",
              "    <tr style=\"text-align: right;\">\n",
              "      <th></th>\n",
              "      <th>row_id</th>\n",
              "      <th>meter_reading</th>\n",
              "    </tr>\n",
              "  </thead>\n",
              "  <tbody>\n",
              "    <tr>\n",
              "      <th>0</th>\n",
              "      <td>0</td>\n",
              "      <td>176.266251</td>\n",
              "    </tr>\n",
              "    <tr>\n",
              "      <th>1</th>\n",
              "      <td>1</td>\n",
              "      <td>104.670525</td>\n",
              "    </tr>\n",
              "    <tr>\n",
              "      <th>2</th>\n",
              "      <td>2</td>\n",
              "      <td>16.037224</td>\n",
              "    </tr>\n",
              "    <tr>\n",
              "      <th>3</th>\n",
              "      <td>3</td>\n",
              "      <td>243.080490</td>\n",
              "    </tr>\n",
              "    <tr>\n",
              "      <th>4</th>\n",
              "      <td>4</td>\n",
              "      <td>1211.738770</td>\n",
              "    </tr>\n",
              "    <tr>\n",
              "      <th>...</th>\n",
              "      <td>...</td>\n",
              "      <td>...</td>\n",
              "    </tr>\n",
              "    <tr>\n",
              "      <th>41697595</th>\n",
              "      <td>41697595</td>\n",
              "      <td>10.247118</td>\n",
              "    </tr>\n",
              "    <tr>\n",
              "      <th>41697596</th>\n",
              "      <td>41697596</td>\n",
              "      <td>8.820972</td>\n",
              "    </tr>\n",
              "    <tr>\n",
              "      <th>41697597</th>\n",
              "      <td>41697597</td>\n",
              "      <td>6.553712</td>\n",
              "    </tr>\n",
              "    <tr>\n",
              "      <th>41697598</th>\n",
              "      <td>41697598</td>\n",
              "      <td>148.624329</td>\n",
              "    </tr>\n",
              "    <tr>\n",
              "      <th>41697599</th>\n",
              "      <td>41697599</td>\n",
              "      <td>6.491293</td>\n",
              "    </tr>\n",
              "  </tbody>\n",
              "</table>\n",
              "<p>41697600 rows × 2 columns</p>\n",
              "</div>"
            ],
            "text/plain": [
              "            row_id  meter_reading\n",
              "0                0     176.266251\n",
              "1                1     104.670525\n",
              "2                2      16.037224\n",
              "3                3     243.080490\n",
              "4                4    1211.738770\n",
              "...            ...            ...\n",
              "41697595  41697595      10.247118\n",
              "41697596  41697596       8.820972\n",
              "41697597  41697597       6.553712\n",
              "41697598  41697598     148.624329\n",
              "41697599  41697599       6.491293\n",
              "\n",
              "[41697600 rows x 2 columns]"
            ]
          },
          "metadata": {
            "tags": []
          },
          "execution_count": 16
        }
      ]
    },
    {
      "cell_type": "code",
      "metadata": {
        "id": "0CGly8o8PEkE",
        "colab_type": "code",
        "colab": {}
      },
      "source": [
        "df = pd.read_csv(\"training_1.log\")\n",
        "import matplotlib.pyplot as plt"
      ],
      "execution_count": 0,
      "outputs": []
    },
    {
      "cell_type": "code",
      "metadata": {
        "id": "Gtp2o6MpJFee",
        "colab_type": "code",
        "colab": {
          "base_uri": "https://localhost:8080/",
          "height": 585
        },
        "outputId": "4cf44391-906e-4b52-9001-7e85eb17b634"
      },
      "source": [
        "%matplotlib inline\n",
        "\n",
        "fig = plt.figure(figsize=(12, 8))\n",
        "\n",
        "line0, = plt.plot(df['epoch'], df['loss'], '--b', LineWidth=2)\n",
        "line1, = plt.plot(df['epoch'], df['val_loss'], '-r', LineWidth=2)\n",
        "plt.title('Epoch vs Loss')\n",
        "plt.xlabel('epoch', FontSize=20)\n",
        "plt.ylabel('loss', FontSize=20)\n",
        "plt.xticks(FontSize=16)\n",
        "plt.yticks(FontSize=16)\n",
        "plt.legend([line0, line1], ['train_loss', 'val_loss'], fontsize=20)\n",
        "plt.tight_layout()\n",
        "plt.show()\n",
        "fig.savefig('Epoch_vs_Loss.png', format='pdf', dpi=1200)"
      ],
      "execution_count": 22,
      "outputs": [
        {
          "output_type": "display_data",
          "data": {
            "image/png": "[encoded data removed]",
            "text/plain": [
              "<Figure size 864x576 with 1 Axes>"
            ]
          },
          "metadata": {
            "tags": []
          }
        }
      ]
    },
    {
      "cell_type": "code",
      "metadata": {
        "id": "rOD_DbLMPYLf",
        "colab_type": "code",
        "colab": {
          "base_uri": "https://localhost:8080/",
          "height": 585
        },
        "outputId": "458f6f5e-cbbe-42e1-f9c4-97a0fcbb3576"
      },
      "source": [
        "%matplotlib inline\n",
        "\n",
        "fig = plt.figure(figsize=(12, 8))\n",
        "\n",
        "line0, = plt.plot(df['epoch'], df['root_mean_squared_error'], '--b', LineWidth=2)\n",
        "line1, = plt.plot(df['epoch'], df['val_root_mean_squared_error'], '-r', LineWidth=2)\n",
        "plt.title('Epoch vs Loss')\n",
        "plt.xlabel('epoch', FontSize=20)\n",
        "plt.ylabel('error', FontSize=20)\n",
        "plt.xticks(FontSize=16)\n",
        "plt.yticks(FontSize=16)\n",
        "plt.legend([line0, line1], ['train_error', 'val_error'], fontsize=20)\n",
        "plt.tight_layout()\n",
        "plt.show()\n",
        "fig.savefig('Epoch_vs_Error.png', format='pdf', dpi=1200)"
      ],
      "execution_count": 23,
      "outputs": [
        {
          "output_type": "display_data",
          "data": {
            "image/png": "[encoded data removed]",
            "text/plain": [
              "<Figure size 864x576 with 1 Axes>"
            ]
          },
          "metadata": {
            "tags": []
          }
        }
      ]
    }
  ]
}